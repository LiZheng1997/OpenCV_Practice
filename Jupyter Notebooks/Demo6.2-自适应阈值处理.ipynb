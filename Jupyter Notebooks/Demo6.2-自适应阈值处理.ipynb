{
 "cells": [
  {
   "cell_type": "markdown",
   "id": "4dd42461",
   "metadata": {},
   "source": [
    "# 6.2 自适应阈值处理"
   ]
  },
  {
   "cell_type": "code",
   "execution_count": null,
   "id": "ad0ff0eb",
   "metadata": {},
   "outputs": [],
   "source": [
    "import cv2\n",
    "\n",
    "#自适应阈值处理模式 自适应阈值可以保留更多的细节。\n",
    "img=cv2.imread(\"../images/building.jpg\",0)\n",
    "t1,thd=cv2.threshold(img,127,255,cv2.THRESH_BINARY)\n",
    "athdMEAN=cv2.adaptiveThreshold(img,255,cv2.ADAPTIVE_THRESH_MEAN_C,cv2.THRESH_BINARY,5,3)\n",
    "athdGAUS=cv2.adaptiveThreshold(img,255,cv2.ADAPTIVE_THRESH_GAUSSIAN_C,cv2.THRESH_BINARY,5,3)\n",
    "cv2.imshow(\"img\",img)\n",
    "cv2.imshow(\"thd\",thd)\n",
    "cv2.imshow(\"athdMEAN\",athdMEAN)\n",
    "cv2.imshow(\"athdGAUS\",athdGAUS)\n",
    "cv2.waitKey()\n",
    "cv2.destroyAllWindows()"
   ]
  },
  {
   "cell_type": "code",
   "execution_count": null,
   "id": "a88ac88b",
   "metadata": {},
   "outputs": [],
   "source": []
  }
 ],
 "metadata": {
  "kernelspec": {
   "display_name": "Python 3",
   "language": "python",
   "name": "python3"
  },
  "language_info": {
   "codemirror_mode": {
    "name": "ipython",
    "version": 3
   },
   "file_extension": ".py",
   "mimetype": "text/x-python",
   "name": "python",
   "nbconvert_exporter": "python",
   "pygments_lexer": "ipython3",
   "version": "3.7.16"
  }
 },
 "nbformat": 4,
 "nbformat_minor": 5
}
