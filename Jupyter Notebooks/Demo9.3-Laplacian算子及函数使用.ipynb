{
 "cells": [
  {
   "cell_type": "markdown",
   "id": "bd991a05",
   "metadata": {},
   "source": [
    "# 9.3 Laplacian算子及函数使用"
   ]
  },
  {
   "cell_type": "code",
   "execution_count": 1,
   "id": "f04113b2",
   "metadata": {},
   "outputs": [],
   "source": [
    "import cv2\n",
    "\n",
    "o=cv2.imread('../images/sobel.png',cv2.IMREAD_GRAYSCALE)\n",
    "\n",
    "Laplacian=cv2.Laplacian(o,cv2.CV_64F)\n",
    "\n",
    "Laplacian=cv2.convertScaleAbs(Laplacian)\n",
    "\n",
    "cv2.imshow(\"original\",o)\n",
    "\n",
    "cv2.imshow(\"Laplacian\",Laplacian)\n",
    "\n",
    "cv2.waitKey()\n",
    "\n",
    "cv2.destroyAllWindows()"
   ]
  },
  {
   "cell_type": "code",
   "execution_count": null,
   "id": "d005035c",
   "metadata": {},
   "outputs": [],
   "source": []
  }
 ],
 "metadata": {
  "kernelspec": {
   "display_name": "Python 3",
   "language": "python",
   "name": "python3"
  },
  "language_info": {
   "codemirror_mode": {
    "name": "ipython",
    "version": 3
   },
   "file_extension": ".py",
   "mimetype": "text/x-python",
   "name": "python",
   "nbconvert_exporter": "python",
   "pygments_lexer": "ipython3",
   "version": "3.7.16"
  }
 },
 "nbformat": 4,
 "nbformat_minor": 5
}
