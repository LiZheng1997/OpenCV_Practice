{
 "cells": [
  {
   "cell_type": "markdown",
   "id": "2b8bea91",
   "metadata": {},
   "source": [
    "# 3.7 掩模"
   ]
  },
  {
   "cell_type": "code",
   "execution_count": 2,
   "id": "922fec53",
   "metadata": {},
   "outputs": [
    {
     "name": "stdout",
     "output_type": "stream",
     "text": [
      "img1=\n",
      " [[3 3 3 3]\n",
      " [3 3 3 3]\n",
      " [3 3 3 3]\n",
      " [3 3 3 3]]\n",
      "img2=\n",
      " [[5 5 5 5]\n",
      " [5 5 5 5]\n",
      " [5 5 5 5]\n",
      " [5 5 5 5]]\n",
      "mask=\n",
      " [[1 1 1 1]\n",
      " [1 1 1 1]\n",
      " [1 1 1 1]\n",
      " [1 1 1 1]]\n",
      "初始值img3=\n",
      " [[66 66 66 66]\n",
      " [66 66 66 66]\n",
      " [66 66 66 66]\n",
      " [66 66 66 66]]\n",
      "求和后img3=\n",
      " [[8 8 8 8]\n",
      " [8 8 8 8]\n",
      " [8 8 8 8]\n",
      " [8 8 8 8]]\n"
     ]
    }
   ],
   "source": [
    "import cv2\n",
    "\n",
    "import numpy as np\n",
    "\n",
    "img1=np.ones((4,4),dtype=np.uint8)*3\n",
    "\n",
    "img2=np.ones((4,4),dtype=np.uint8)*5\n",
    "\n",
    "mask=np.ones((4,4),dtype=np.uint8)\n",
    "\n",
    "mask[2:4,2:4]=1\n",
    "\n",
    "img3=np.ones((4,4),dtype=np.uint8)*66\n",
    "\n",
    "print(\"img1=\\n\",img1)\n",
    "\n",
    "print(\"img2=\\n\",img2)\n",
    "\n",
    "print(\"mask=\\n\",mask)\n",
    "\n",
    "print(\"初始值img3=\\n\",img3)\n",
    "\n",
    "img3=cv2.add(img1,img2,mask=mask)\n",
    "\n",
    "print(\"求和后img3=\\n\",img3)"
   ]
  },
  {
   "cell_type": "code",
   "execution_count": 3,
   "id": "049aefcb",
   "metadata": {},
   "outputs": [
    {
     "name": "stdout",
     "output_type": "stream",
     "text": [
      "a.shape= (512, 512, 3)\n",
      "mask.shape= (512, 512)\n"
     ]
    }
   ],
   "source": [
    "import cv2\n",
    "import numpy as np\n",
    "\n",
    "a=cv2.imread(\"../images/lena.bmp\",1)\n",
    "w,h,c=a.shape\n",
    "mask=np.zeros((w,h),dtype=np.uint8)\n",
    "mask[100:400,200:400]=255\n",
    "mask[100:500,100:200]=255\n",
    "\n",
    "c=cv2.bitwise_and(a,a,mask)\n",
    "print(\"a.shape=\",a.shape)\n",
    "print(\"mask.shape=\",mask.shape)\n",
    "\n",
    "cv2.imshow(\"a\",a)\n",
    "cv2.imshow(\"mask\",mask)\n",
    "cv2.imshow(\"c\",c)\n",
    "\n",
    "cv2.waitKey()\n",
    "cv2.destroyAllWindows()"
   ]
  },
  {
   "cell_type": "code",
   "execution_count": null,
   "id": "929bc143",
   "metadata": {},
   "outputs": [],
   "source": [
    "以上使用cv2.add()中掩模参数"
   ]
  }
 ],
 "metadata": {
  "kernelspec": {
   "display_name": "Python 3",
   "language": "python",
   "name": "python3"
  },
  "language_info": {
   "codemirror_mode": {
    "name": "ipython",
    "version": 3
   },
   "file_extension": ".py",
   "mimetype": "text/x-python",
   "name": "python",
   "nbconvert_exporter": "python",
   "pygments_lexer": "ipython3",
   "version": "3.7.16"
  }
 },
 "nbformat": 4,
 "nbformat_minor": 5
}
