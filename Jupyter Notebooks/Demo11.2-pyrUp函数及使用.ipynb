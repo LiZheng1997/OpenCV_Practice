{
 "cells": [
  {
   "cell_type": "markdown",
   "id": "7edf1384",
   "metadata": {},
   "source": [
    "# 11.2 pyrUp函数及使用"
   ]
  },
  {
   "cell_type": "code",
   "execution_count": 4,
   "id": "2f4d937e",
   "metadata": {},
   "outputs": [
    {
     "name": "stdout",
     "output_type": "stream",
     "text": [
      "o.shape= (512, 512, 3)\n",
      "r1.shape= (1024, 1024, 3)\n",
      "r2.shape= (2048, 2048, 3)\n",
      "r3.shape= (4096, 4096, 3)\n"
     ]
    }
   ],
   "source": [
    "import cv2\n",
    "\n",
    "o=cv2.imread(\"../images/lena.bmp\")\n",
    "\n",
    "r1=cv2.pyrUp(o)\n",
    "\n",
    "r2=cv2.pyrUp(r1)\n",
    "\n",
    "r3=cv2.pyrUp(r2)\n",
    "\n",
    "print(\"o.shape=\",o.shape)\n",
    "\n",
    "print(\"r1.shape=\",r1.shape)\n",
    "\n",
    "print(\"r2.shape=\",r2.shape)\n",
    "\n",
    "print(\"r3.shape=\",r3.shape)\n",
    "\n",
    "cv2.imshow(\"original\",o)\n",
    "\n",
    "cv2.imshow(\"r1\",r1)\n",
    "\n",
    "cv2.imshow(\"r2\",r2)\n",
    "\n",
    "cv2.imshow(\"r3\",r3)\n",
    "\n",
    "cv2.waitKey()\n",
    "\n",
    "cv2.destroyAllWindows()"
   ]
  },
  {
   "cell_type": "code",
   "execution_count": null,
   "id": "aa8e8c9f",
   "metadata": {},
   "outputs": [],
   "source": []
  }
 ],
 "metadata": {
  "kernelspec": {
   "display_name": "Python 3",
   "language": "python",
   "name": "python3"
  },
  "language_info": {
   "codemirror_mode": {
    "name": "ipython",
    "version": 3
   },
   "file_extension": ".py",
   "mimetype": "text/x-python",
   "name": "python",
   "nbconvert_exporter": "python",
   "pygments_lexer": "ipython3",
   "version": "3.7.16"
  }
 },
 "nbformat": 4,
 "nbformat_minor": 5
}
