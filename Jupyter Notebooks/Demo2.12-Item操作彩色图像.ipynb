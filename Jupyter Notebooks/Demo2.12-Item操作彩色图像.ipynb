{
 "cells": [
  {
   "cell_type": "markdown",
   "id": "0f248563",
   "metadata": {},
   "source": [
    "# 2.12 Item操作彩色图像"
   ]
  },
  {
   "cell_type": "code",
   "execution_count": 1,
   "id": "ea6380cd",
   "metadata": {},
   "outputs": [
    {
     "name": "stdout",
     "output_type": "stream",
     "text": [
      "访问img[0,0,0]= 125\n",
      "访问img[0,0,1]= 137\n",
      "访问img[0,0,2]= 226\n"
     ]
    }
   ],
   "source": [
    "import cv2\n",
    "import numpy as np\n",
    "\n",
    "img = cv2.imread(\"../images/lenacolor.png\")\n",
    "cv2.imshow('before', img)\n",
    "cv2.waitKey(-1)\n",
    "\n",
    "print(\"访问img[0,0,0]=\", img[0,0,0])\n",
    "print(\"访问img[0,0,1]=\", img[0,0,1])\n",
    "print(\"访问img[0,0,2]=\", img[0,0,2])"
   ]
  },
  {
   "cell_type": "code",
   "execution_count": 2,
   "id": "66ef7dab",
   "metadata": {},
   "outputs": [
    {
     "data": {
      "text/plain": [
       "27"
      ]
     },
     "execution_count": 2,
     "metadata": {},
     "output_type": "execute_result"
    }
   ],
   "source": [
    "for i in range(0, 50):\n",
    "    for j in range(0, 100):\n",
    "        for k in range(0,3):\n",
    "            img[i,j,k]=255 #白色\n",
    "            \n",
    "cv2.imshow(\"after\", img)\n",
    "cv2.waitKey(-1)"
   ]
  },
  {
   "cell_type": "code",
   "execution_count": 3,
   "id": "f3549c13",
   "metadata": {},
   "outputs": [
    {
     "name": "stdout",
     "output_type": "stream",
     "text": [
      "修改后img[0,0,0]= 255\n",
      "修改后img[0,0,1]= 255\n",
      "修改后img[0,0,2]= 255\n"
     ]
    }
   ],
   "source": [
    "print(\"修改后img[0,0,0]=\", img[0,0,0])\n",
    "print(\"修改后img[0,0,1]=\", img[0,0,1])\n",
    "print(\"修改后img[0,0,2]=\", img[0,0,2])"
   ]
  }
 ],
 "metadata": {
  "kernelspec": {
   "display_name": "Python 3",
   "language": "python",
   "name": "python3"
  },
  "language_info": {
   "codemirror_mode": {
    "name": "ipython",
    "version": 3
   },
   "file_extension": ".py",
   "mimetype": "text/x-python",
   "name": "python",
   "nbconvert_exporter": "python",
   "pygments_lexer": "ipython3",
   "version": "3.7.16"
  }
 },
 "nbformat": 4,
 "nbformat_minor": 5
}
