{
 "cells": [
  {
   "cell_type": "markdown",
   "id": "63dde326",
   "metadata": {},
   "source": [
    "# 9.2 Scharr算子及函数使用"
   ]
  },
  {
   "cell_type": "code",
   "execution_count": 1,
   "id": "453738ee",
   "metadata": {},
   "outputs": [],
   "source": [
    "import cv2\n",
    "\n",
    "o=cv2.imread('../images/sobel.png',cv2.IMREAD_GRAYSCALE)\n",
    "\n",
    "Scharrx=cv2.Scharr(o,cv2.CV_64F,1,0)\n",
    "\n",
    "Scharrx=cv2.convertScaleAbs(Scharrx)\n",
    "\n",
    "cv2.imshow(\"original\",o)\n",
    "\n",
    "cv2.imshow(\"x\",Scharrx)\n",
    "\n",
    "cv2.waitKey()\n",
    "\n",
    "cv2.destroyAllWindows()"
   ]
  },
  {
   "cell_type": "code",
   "execution_count": 3,
   "id": "6f34ce0f",
   "metadata": {},
   "outputs": [],
   "source": [
    "import cv2\n",
    "\n",
    "o=cv2.imread('../images/sobel.png',cv2.IMREAD_GRAYSCALE)\n",
    "\n",
    "Scharrx=cv2.Scharr(o,cv2.CV_64F,0,1)\n",
    "\n",
    "Scharrx=cv2.convertScaleAbs(Scharrx)\n",
    "\n",
    "cv2.imshow(\"original\",o)\n",
    "\n",
    "cv2.imshow(\"x\",Scharrx)\n",
    "\n",
    "cv2.waitKey()\n",
    "\n",
    "cv2.destroyAllWindows()"
   ]
  },
  {
   "cell_type": "code",
   "execution_count": 5,
   "id": "71bda04d",
   "metadata": {},
   "outputs": [],
   "source": [
    "Scharrx=cv2.Scharr(o,cv2.CV_64F,1,0)\n",
    "Scharry=cv2.Scharr(o,cv2.CV_64F,0,1)\n",
    "Scharrx=cv2.convertScaleAbs(Scharrx)\n",
    "Scharry=cv2.convertScaleAbs(Scharry)\n",
    "Scharrxy=cv2.addWeighted(Scharrx,0.5,Scharry,0.5,0)\n",
    "\n",
    "cv2.imshow(\"original\",o)\n",
    "\n",
    "cv2.imshow(\"x\",Scharrxy)\n",
    "\n",
    "cv2.waitKey()\n",
    "\n",
    "cv2.destroyAllWindows()"
   ]
  },
  {
   "cell_type": "code",
   "execution_count": 6,
   "id": "fe73ad82",
   "metadata": {},
   "outputs": [
    {
     "ename": "error",
     "evalue": "OpenCV(3.4.3) /io/opencv/modules/imgproc/src/deriv.cpp:67: error: (-215:Assertion failed) dx >= 0 && dy >= 0 && dx+dy == 1 in function 'getScharrKernels'\n",
     "output_type": "error",
     "traceback": [
      "\u001b[0;31m---------------------------------------------------------------------------\u001b[0m",
      "\u001b[0;31merror\u001b[0m                                     Traceback (most recent call last)",
      "\u001b[0;32m/tmp/ipykernel_18078/2201072090.py\u001b[0m in \u001b[0;36m<module>\u001b[0;34m\u001b[0m\n\u001b[1;32m      3\u001b[0m \u001b[0mo\u001b[0m\u001b[0;34m=\u001b[0m\u001b[0mcv2\u001b[0m\u001b[0;34m.\u001b[0m\u001b[0mimread\u001b[0m\u001b[0;34m(\u001b[0m\u001b[0;34m'../images/sobel.png'\u001b[0m\u001b[0;34m,\u001b[0m\u001b[0mcv2\u001b[0m\u001b[0;34m.\u001b[0m\u001b[0mIMREAD_GRAYSCALE\u001b[0m\u001b[0;34m)\u001b[0m\u001b[0;34m\u001b[0m\u001b[0;34m\u001b[0m\u001b[0m\n\u001b[1;32m      4\u001b[0m \u001b[0;34m\u001b[0m\u001b[0m\n\u001b[0;32m----> 5\u001b[0;31m \u001b[0mScharrx\u001b[0m\u001b[0;34m=\u001b[0m\u001b[0mcv2\u001b[0m\u001b[0;34m.\u001b[0m\u001b[0mScharr\u001b[0m\u001b[0;34m(\u001b[0m\u001b[0mo\u001b[0m\u001b[0;34m,\u001b[0m\u001b[0mcv2\u001b[0m\u001b[0;34m.\u001b[0m\u001b[0mCV_64F\u001b[0m\u001b[0;34m,\u001b[0m\u001b[0;36m1\u001b[0m\u001b[0;34m,\u001b[0m\u001b[0;36m1\u001b[0m\u001b[0;34m)\u001b[0m\u001b[0;34m\u001b[0m\u001b[0;34m\u001b[0m\u001b[0m\n\u001b[0m\u001b[1;32m      6\u001b[0m \u001b[0;34m\u001b[0m\u001b[0m\n\u001b[1;32m      7\u001b[0m \u001b[0mScharrx\u001b[0m\u001b[0;34m=\u001b[0m\u001b[0mcv2\u001b[0m\u001b[0;34m.\u001b[0m\u001b[0mconvertScaleAbs\u001b[0m\u001b[0;34m(\u001b[0m\u001b[0mScharrx\u001b[0m\u001b[0;34m)\u001b[0m\u001b[0;34m\u001b[0m\u001b[0;34m\u001b[0m\u001b[0m\n",
      "\u001b[0;31merror\u001b[0m: OpenCV(3.4.3) /io/opencv/modules/imgproc/src/deriv.cpp:67: error: (-215:Assertion failed) dx >= 0 && dy >= 0 && dx+dy == 1 in function 'getScharrKernels'\n"
     ]
    }
   ],
   "source": [
    "import cv2\n",
    "\n",
    "o=cv2.imread('../images/sobel.png',cv2.IMREAD_GRAYSCALE)\n",
    "\n",
    "Scharrx=cv2.Scharr(o,cv2.CV_64F,1,1)\n",
    "\n",
    "Scharrx=cv2.convertScaleAbs(Scharrx)\n",
    "\n",
    "cv2.imshow(\"original\",o)\n",
    "\n",
    "cv2.imshow(\"x\",Scharrx)\n",
    "\n",
    "cv2.waitKey()\n",
    "\n",
    "cv2.destroyAllWindows()"
   ]
  },
  {
   "cell_type": "code",
   "execution_count": 7,
   "id": "db0993ff",
   "metadata": {},
   "outputs": [],
   "source": [
    "import cv2\n",
    "\n",
    "o=cv2.imread('../images/sobel.png',cv2.IMREAD_GRAYSCALE)\n",
    "\n",
    "Scharrx=cv2.Sobel(o,cv2.CV_64F,1,0,-1)\n",
    "\n",
    "Scharry=cv2.Sobel(o,cv2.CV_64F,0,1,-1)\n",
    "\n",
    "Scharrx=cv2.convertScaleAbs(Scharrx)\n",
    "\n",
    "Scharry=cv2.convertScaleAbs(Scharry)\n",
    "\n",
    "cv2.imshow(\"original\",o)\n",
    "\n",
    "cv2.imshow(\"x\",Scharrx)\n",
    "\n",
    "cv2.imshow(\"y\",Scharry)\n",
    "\n",
    "cv2.waitKey()\n",
    "\n",
    "cv2.destroyAllWindows()"
   ]
  },
  {
   "cell_type": "code",
   "execution_count": 8,
   "id": "314e8e96",
   "metadata": {},
   "outputs": [],
   "source": [
    "import cv2\n",
    "o=cv2.imread('../images/lena.bmp',cv2.IMREAD_GRAYSCALE)\n",
    "Sobelx=cv2.Sobel(o,cv2.CV_64F,1,0,ksize=3)\n",
    "Sobely=cv2.Sobel(o,cv2.CV_64F,0,1,ksize=3)\n",
    "\n",
    "Sobelx=cv2.convertScaleAbs(Sobelx)\n",
    "Sobely=cv2.convertScaleAbs(Sobely)\n",
    "Sobelxy=cv2.addWeighted(Sobelx,0.5,Sobely,0.5,0)\n",
    "Scharrx=cv2.Scharr(o,cv2.CV_64F,1,0)\n",
    "Scharry=cv2.Scharr(o,cv2.CV_64F,0,1)\n",
    "Scharrx=cv2.convertScaleAbs(Scharrx)\n",
    "Scharry=cv2.convertScaleAbs(Scharry)\n",
    "Scharrxy=cv2.addWeighted(Scharrx,0.5,Scharry,0.5,0)\n",
    "cv2.imshow(\"original\",o)\n",
    "cv2.imshow(\"Sobelxy\",Sobelxy)\n",
    "cv2.imshow(\"Scharrxy\",Scharrxy)\n",
    "cv2.waitKey()\n",
    "cv2.destroyAllWindows()"
   ]
  },
  {
   "cell_type": "code",
   "execution_count": null,
   "id": "55210986",
   "metadata": {},
   "outputs": [],
   "source": []
  }
 ],
 "metadata": {
  "kernelspec": {
   "display_name": "Python 3",
   "language": "python",
   "name": "python3"
  },
  "language_info": {
   "codemirror_mode": {
    "name": "ipython",
    "version": 3
   },
   "file_extension": ".py",
   "mimetype": "text/x-python",
   "name": "python",
   "nbconvert_exporter": "python",
   "pygments_lexer": "ipython3",
   "version": "3.7.16"
  }
 },
 "nbformat": 4,
 "nbformat_minor": 5
}
