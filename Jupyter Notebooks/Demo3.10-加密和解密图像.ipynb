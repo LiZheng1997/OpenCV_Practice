{
 "cells": [
  {
   "cell_type": "markdown",
   "id": "4b9d83aa",
   "metadata": {},
   "source": [
    "# 3.10 加密和解密图像"
   ]
  },
  {
   "cell_type": "code",
   "execution_count": 4,
   "id": "6a898be3",
   "metadata": {},
   "outputs": [],
   "source": [
    "import cv2\n",
    "import numpy as np\n",
    "\n",
    "lena=cv2.imread(\"../images/lena.bmp\",0)\n",
    "\n",
    "r,c=lena.shape\n",
    "\n",
    "key=np.random.randint(0,256,size=[r,c],dtype=np.uint8)\n",
    "\n",
    "encryption=cv2.bitwise_xor(lena,key)\n",
    "\n",
    "decryption=cv2.bitwise_xor(encryption,key)\n",
    "\n",
    "cv2.imshow(\"lena\",lena)\n",
    "\n",
    "cv2.imshow(\"key\",key)\n",
    "\n",
    "cv2.imshow(\"encryption\",encryption)\n",
    "\n",
    "cv2.imshow(\"decryption\",decryption)\n",
    "\n",
    "cv2.waitKey()\n",
    "cv2.destroyAllWindows()"
   ]
  },
  {
   "cell_type": "markdown",
   "id": "02c0c8be",
   "metadata": {},
   "source": [
    "通过与或运算实现加密和解密图像。"
   ]
  }
 ],
 "metadata": {
  "kernelspec": {
   "display_name": "Python 3",
   "language": "python",
   "name": "python3"
  },
  "language_info": {
   "codemirror_mode": {
    "name": "ipython",
    "version": 3
   },
   "file_extension": ".py",
   "mimetype": "text/x-python",
   "name": "python",
   "nbconvert_exporter": "python",
   "pygments_lexer": "ipython3",
   "version": "3.7.16"
  }
 },
 "nbformat": 4,
 "nbformat_minor": 5
}
