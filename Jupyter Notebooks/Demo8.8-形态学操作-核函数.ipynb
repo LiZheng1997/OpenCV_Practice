{
 "cells": [
  {
   "cell_type": "markdown",
   "id": "c9c4e1bd",
   "metadata": {},
   "source": [
    "# 8.8 形态学操作-核函数"
   ]
  },
  {
   "cell_type": "code",
   "execution_count": 1,
   "id": "38cf8d16",
   "metadata": {},
   "outputs": [
    {
     "name": "stdout",
     "output_type": "stream",
     "text": [
      "kernel1=\n",
      " [[1 1 1 1 1]\n",
      " [1 1 1 1 1]\n",
      " [1 1 1 1 1]\n",
      " [1 1 1 1 1]\n",
      " [1 1 1 1 1]]\n",
      "kernel2=\n",
      " [[0 0 1 0 0]\n",
      " [0 0 1 0 0]\n",
      " [1 1 1 1 1]\n",
      " [0 0 1 0 0]\n",
      " [0 0 1 0 0]]\n",
      "kernel3=\n",
      " [[0 0 1 0 0]\n",
      " [1 1 1 1 1]\n",
      " [1 1 1 1 1]\n",
      " [1 1 1 1 1]\n",
      " [0 0 1 0 0]]\n"
     ]
    }
   ],
   "source": [
    "import cv2\n",
    "\n",
    "kernel1=cv2.getStructuringElement(cv2.MORPH_RECT,(5,5))\n",
    "\n",
    "kernel2=cv2.getStructuringElement(cv2.MORPH_CROSS,(5,5))\n",
    "\n",
    "kernel3=cv2.getStructuringElement(cv2.MORPH_ELLIPSE,(5,5))\n",
    "\n",
    "print(\"kernel1=\\n\",kernel1)\n",
    "\n",
    "print(\"kernel2=\\n\",kernel2)\n",
    "\n",
    "print(\"kernel3=\\n\",kernel3)"
   ]
  },
  {
   "cell_type": "code",
   "execution_count": 2,
   "id": "da747280",
   "metadata": {},
   "outputs": [],
   "source": [
    "import cv2\n",
    "\n",
    "o=cv2.imread(\"../images/opening.png\",cv2.IMREAD_UNCHANGED)\n",
    "\n",
    "kernel1=cv2.getStructuringElement(cv2.MORPH_RECT,(59,59))\n",
    "\n",
    "kernel2=cv2.getStructuringElement(cv2.MORPH_CROSS,(59,59))\n",
    "\n",
    "kernel3=cv2.getStructuringElement(cv2.MORPH_ELLIPSE,(59,59))\n",
    "\n",
    "dst1=cv2.dilate(o,kernel1)\n",
    "\n",
    "dst2=cv2.dilate(o,kernel2)\n",
    "\n",
    "dst3=cv2.dilate(o,kernel3)\n",
    "\n",
    "cv2.imshow(\"orriginal\",o)\n",
    "\n",
    "cv2.imshow(\"dst1\",dst1)\n",
    "\n",
    "cv2.imshow(\"dst2\",dst2)\n",
    "\n",
    "cv2.imshow(\"dst3\",dst3)\n",
    "\n",
    "cv2.waitKey()\n",
    "\n",
    "cv2.destroyAllWindows()"
   ]
  },
  {
   "cell_type": "code",
   "execution_count": null,
   "id": "963fcbd6",
   "metadata": {},
   "outputs": [],
   "source": []
  }
 ],
 "metadata": {
  "kernelspec": {
   "display_name": "Python 3",
   "language": "python",
   "name": "python3"
  },
  "language_info": {
   "codemirror_mode": {
    "name": "ipython",
    "version": 3
   },
   "file_extension": ".py",
   "mimetype": "text/x-python",
   "name": "python",
   "nbconvert_exporter": "python",
   "pygments_lexer": "ipython3",
   "version": "3.7.16"
  }
 },
 "nbformat": 4,
 "nbformat_minor": 5
}
