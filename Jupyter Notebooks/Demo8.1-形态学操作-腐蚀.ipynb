{
 "cells": [
  {
   "cell_type": "markdown",
   "id": "47d67fba",
   "metadata": {},
   "source": [
    "# 8.1 形态学操作-腐蚀"
   ]
  },
  {
   "cell_type": "code",
   "execution_count": 1,
   "id": "9f90ba9c",
   "metadata": {},
   "outputs": [
    {
     "name": "stdout",
     "output_type": "stream",
     "text": [
      "img=\n",
      " [[0 0 0 0 0]\n",
      " [0 1 1 1 0]\n",
      " [0 1 1 1 0]\n",
      " [0 1 1 1 0]\n",
      " [0 0 0 0 0]]\n",
      "kernel=\n",
      " [[1]\n",
      " [1]\n",
      " [1]]\n",
      "erosion=\n",
      " [[0 0 0 0 0]\n",
      " [0 0 0 0 0]\n",
      " [0 1 1 1 0]\n",
      " [0 0 0 0 0]\n",
      " [0 0 0 0 0]]\n"
     ]
    }
   ],
   "source": [
    "import cv2\n",
    "import numpy as np\n",
    "\n",
    "#腐蚀操作中，需要定义卷积和大小和迭代的次数，如果迭代多，核越大 腐蚀越严重\n",
    "img=np.zeros((5,5),np.uint8)\n",
    "img[1:4,1:4]=1\n",
    "kernel=np.ones((3,1),np.uint8)\n",
    "erosion=cv2.erode(img,kernel)\n",
    "print(\"img=\\n\",img)\n",
    "print(\"kernel=\\n\",kernel)\n",
    "print(\"erosion=\\n\",erosion)"
   ]
  },
  {
   "cell_type": "code",
   "execution_count": 2,
   "id": "aca28f3f",
   "metadata": {},
   "outputs": [],
   "source": [
    "o=cv2.imread(\"../images/erode.png\",cv2.IMREAD_UNCHANGED)\n",
    "\n",
    "kernel=np.ones((5,5),np.uint8)\n",
    "\n",
    "erosion=cv2.erode(o,kernel)\n",
    "\n",
    "cv2.imshow(\"orriginal\",o)\n",
    "\n",
    "cv2.imshow(\"erosion\",erosion)\n",
    "\n",
    "cv2.waitKey()\n",
    "\n",
    "cv2.destroyAllWindows()"
   ]
  },
  {
   "cell_type": "code",
   "execution_count": 7,
   "id": "eed3f447",
   "metadata": {},
   "outputs": [],
   "source": [
    "o=cv2.imread(\"../images/erode.png\",cv2.IMREAD_UNCHANGED)\n",
    "\n",
    "kernel=np.ones((6,6),np.uint8)\n",
    "\n",
    "erosion=cv2.erode(o,kernel, iterations=3)\n",
    "\n",
    "cv2.imshow(\"orriginal\",o)\n",
    "\n",
    "cv2.imshow(\"erosion\",erosion)\n",
    "\n",
    "cv2.waitKey()\n",
    "\n",
    "cv2.destroyAllWindows()"
   ]
  },
  {
   "cell_type": "code",
   "execution_count": null,
   "id": "d03a558a",
   "metadata": {},
   "outputs": [],
   "source": []
  }
 ],
 "metadata": {
  "kernelspec": {
   "display_name": "Python 3",
   "language": "python",
   "name": "python3"
  },
  "language_info": {
   "codemirror_mode": {
    "name": "ipython",
    "version": 3
   },
   "file_extension": ".py",
   "mimetype": "text/x-python",
   "name": "python",
   "nbconvert_exporter": "python",
   "pygments_lexer": "ipython3",
   "version": "3.7.16"
  }
 },
 "nbformat": 4,
 "nbformat_minor": 5
}
