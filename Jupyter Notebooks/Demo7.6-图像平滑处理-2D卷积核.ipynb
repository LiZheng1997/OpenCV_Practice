{
 "cells": [
  {
   "cell_type": "markdown",
   "id": "81f44025",
   "metadata": {},
   "source": [
    "# 7.6 图像平滑处理-2D卷积核"
   ]
  },
  {
   "cell_type": "code",
   "execution_count": 1,
   "id": "94047541",
   "metadata": {},
   "outputs": [],
   "source": [
    "\n",
    "import cv2\n",
    "\n",
    "import numpy as np\n",
    "\n",
    "o=cv2.imread(\"../images/lena.bmp\")\n",
    "\n",
    "kernel=np.ones((9,9),np.float32)/81\n",
    "\n",
    "r=cv2.filter2D(o,-1,kernel)\n",
    "\n",
    "cv2.imshow(\"original\",o)\n",
    "\n",
    "cv2.imshow(\"Gaussian\",r)\n",
    "\n",
    "cv2.waitKey()\n",
    "\n",
    "cv2.destroyAllWindows()"
   ]
  },
  {
   "cell_type": "code",
   "execution_count": null,
   "id": "40b503ae",
   "metadata": {},
   "outputs": [],
   "source": []
  }
 ],
 "metadata": {
  "kernelspec": {
   "display_name": "Python 3",
   "language": "python",
   "name": "python3"
  },
  "language_info": {
   "codemirror_mode": {
    "name": "ipython",
    "version": 3
   },
   "file_extension": ".py",
   "mimetype": "text/x-python",
   "name": "python",
   "nbconvert_exporter": "python",
   "pygments_lexer": "ipython3",
   "version": "3.7.16"
  }
 },
 "nbformat": 4,
 "nbformat_minor": 5
}
