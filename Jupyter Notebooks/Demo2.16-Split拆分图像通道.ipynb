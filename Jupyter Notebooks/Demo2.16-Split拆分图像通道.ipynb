{
 "cells": [
  {
   "cell_type": "markdown",
   "id": "06150567",
   "metadata": {},
   "source": [
    "# 2.16 Split拆分图像通道"
   ]
  },
  {
   "cell_type": "code",
   "execution_count": 1,
   "id": "dc8bd17b",
   "metadata": {},
   "outputs": [],
   "source": [
    "import cv2 as cv\n",
    "lena = cv.imread(\"../images/lenacolor.png\")\n",
    "\n",
    "b,g,r=cv.split(lena)\n",
    "cv.imshow(\"B\" ,b)\n",
    "cv.imshow(\"G\" ,g)\n",
    "cv.imshow(\"R\" ,r)\n",
    "\n",
    "cv.waitKey()\n",
    "cv.destroyAllWindows()"
   ]
  },
  {
   "cell_type": "markdown",
   "id": "bab36825",
   "metadata": {},
   "source": [
    "使用Split函数对图像的通道进行拆分。"
   ]
  }
 ],
 "metadata": {
  "kernelspec": {
   "display_name": "Python 3",
   "language": "python",
   "name": "python3"
  },
  "language_info": {
   "codemirror_mode": {
    "name": "ipython",
    "version": 3
   },
   "file_extension": ".py",
   "mimetype": "text/x-python",
   "name": "python",
   "nbconvert_exporter": "python",
   "pygments_lexer": "ipython3",
   "version": "3.7.16"
  }
 },
 "nbformat": 4,
 "nbformat_minor": 5
}
