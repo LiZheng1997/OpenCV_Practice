{
 "cells": [
  {
   "cell_type": "markdown",
   "id": "5c1fca85",
   "metadata": {},
   "source": [
    "# 3.5 按位与运算"
   ]
  },
  {
   "cell_type": "code",
   "execution_count": 1,
   "id": "e3c081bd",
   "metadata": {},
   "outputs": [
    {
     "name": "stdout",
     "output_type": "stream",
     "text": [
      "a=\n",
      " [[175  99  45 169 177]\n",
      " [237 236 165   1  94]\n",
      " [191  92 226  57 157]\n",
      " [111 185 245 130 114]\n",
      " [ 77 197 204 128 139]]\n",
      "b=\n",
      " [[255 255 255   0   0]\n",
      " [255 255 255   0   0]\n",
      " [255 255 255   0   0]\n",
      " [  0   0   0   0   0]\n",
      " [  0   0   0   0 255]]\n",
      "c=\n",
      " [[175  99  45   0   0]\n",
      " [237 236 165   0   0]\n",
      " [191  92 226   0   0]\n",
      " [  0   0   0   0   0]\n",
      " [  0   0   0   0 139]]\n"
     ]
    }
   ],
   "source": [
    "import cv2\n",
    "import numpy as np\n",
    "\n",
    "a=np.random.randint(0,255,(5,5),dtype=np.uint8)\n",
    "b=np.zeros((5,5),dtype=np.uint8)\n",
    "\n",
    "b[0:3,0:3]=255\n",
    "b[4,4]=255\n",
    "\n",
    "c=cv2.bitwise_and(a,b)\n",
    "print(\"a=\\n\",a)\n",
    "print(\"b=\\n\",b)\n",
    "print(\"c=\\n\",c)"
   ]
  },
  {
   "cell_type": "code",
   "execution_count": 2,
   "id": "1a72cf3f",
   "metadata": {},
   "outputs": [
    {
     "name": "stdout",
     "output_type": "stream",
     "text": [
      "a.shape= (512, 512)\n",
      "b.shape= (512, 512)\n"
     ]
    }
   ],
   "source": [
    "import cv2\n",
    "import numpy as np\n",
    "\n",
    "a=cv2.imread(\"../images/lena.bmp\",0)\n",
    "\n",
    "b=np.zeros(a.shape,dtype=np.uint8)\n",
    "\n",
    "b[100:400,200:400]=255\n",
    "\n",
    "b[100:500,100:200]=255\n",
    "\n",
    "c=cv2.bitwise_and(a,b)\n",
    "print(\"a.shape=\",a.shape)\n",
    "\n",
    "print(\"b.shape=\",b.shape)\n",
    "\n",
    "\n",
    "cv2.imshow(\"a\",a)\n",
    "\n",
    "cv2.imshow(\"b\",b)\n",
    "\n",
    "cv2.imshow(\"c\",c)\n",
    "\n",
    "cv2.waitKey()\n",
    "cv2.destroyAllWindows()"
   ]
  },
  {
   "cell_type": "code",
   "execution_count": 3,
   "id": "de0143e1",
   "metadata": {},
   "outputs": [
    {
     "name": "stdout",
     "output_type": "stream",
     "text": [
      "a.shape= (512, 512, 3)\n",
      "b.shape= (512, 512, 3)\n"
     ]
    }
   ],
   "source": [
    "import cv2\n",
    "import numpy as np\n",
    "\n",
    "a=cv2.imread(\"../images/lena.bmp\",1)\n",
    "\n",
    "b=np.zeros(a.shape,dtype=np.uint8)\n",
    "\n",
    "b[100:400,200:400]=255\n",
    "\n",
    "b[100:500,100:200]=255\n",
    "\n",
    "c=cv2.bitwise_and(a,b)\n",
    "print(\"a.shape=\",a.shape)\n",
    "\n",
    "print(\"b.shape=\",b.shape)\n",
    "\n",
    "cv2.imshow(\"a\",a)\n",
    "\n",
    "cv2.imshow(\"b\",b)\n",
    "\n",
    "cv2.imshow(\"c\",c)\n",
    "\n",
    "cv2.waitKey()\n",
    "cv2.destroyAllWindows()"
   ]
  },
  {
   "cell_type": "markdown",
   "id": "fb5e1d99",
   "metadata": {},
   "source": [
    "使用cv2.bitwise_and（）函数来实现按位与运算，其语法格式为：dst=cv2.bitwise_and（src1,src2[,mask]]）,需要注意的是，如果是彩色图像，需要使用同样三通道的掩模图才可以。"
   ]
  }
 ],
 "metadata": {
  "kernelspec": {
   "display_name": "Python 3",
   "language": "python",
   "name": "python3"
  },
  "language_info": {
   "codemirror_mode": {
    "name": "ipython",
    "version": 3
   },
   "file_extension": ".py",
   "mimetype": "text/x-python",
   "name": "python",
   "nbconvert_exporter": "python",
   "pygments_lexer": "ipython3",
   "version": "3.7.16"
  }
 },
 "nbformat": 4,
 "nbformat_minor": 5
}
