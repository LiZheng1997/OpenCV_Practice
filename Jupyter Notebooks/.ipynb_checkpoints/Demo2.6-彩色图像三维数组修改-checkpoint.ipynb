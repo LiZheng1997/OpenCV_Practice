{
 "cells": [
  {
   "cell_type": "markdown",
   "id": "ed2277db",
   "metadata": {},
   "source": [
    "# 2.6 彩色图像三维数组修改"
   ]
  },
  {
   "cell_type": "code",
   "execution_count": 1,
   "id": "a8081f8c",
   "metadata": {},
   "outputs": [
    {
     "name": "stdout",
     "output_type": "stream",
     "text": [
      "访问img[0,0]= [125 137 226]\n",
      "访问img[0,0,0]= 125\n",
      "访问img[0,0,1]= 137\n",
      "访问img[0,0,2]= 226\n",
      "访问img[50,0]= [114 136 230]\n",
      "访问img[100,0]= [ 75  55 155]\n"
     ]
    }
   ],
   "source": [
    "import cv2\n",
    "\n",
    "img = cv2.imread(\"../images/lenacolor.png\")\n",
    "cv2.imshow('before', img)\n",
    "cv2.waitKey(-1)\n",
    "print(\"访问img[0,0]=\", img[0,0])\n",
    "print(\"访问img[0,0,0]=\", img[0,0,0])\n",
    "print(\"访问img[0,0,1]=\", img[0,0,1])\n",
    "print(\"访问img[0,0,2]=\", img[0,0,2])\n",
    "print(\"访问img[50,0]=\", img[50,0])\n",
    "print(\"访问img[100,0]=\", img[100,0])"
   ]
  },
  {
   "cell_type": "code",
   "execution_count": 2,
   "id": "c9415a43",
   "metadata": {},
   "outputs": [
    {
     "data": {
      "text/plain": [
       "27"
      ]
     },
     "execution_count": 2,
     "metadata": {},
     "output_type": "execute_result"
    }
   ],
   "source": [
    "for i in range(0, 50):\n",
    "    for j in range(0, 100):\n",
    "        for k in range(0,3):\n",
    "            img[i,j,k]=255 #白色\n",
    "            \n",
    "for i in range(50, 100):\n",
    "    for j in range(0, 100):\n",
    "        img[i,j] = [128,128,128] #灰色\n",
    "        \n",
    "for i in range(100, 150):\n",
    "    for j in range(0, 100):\n",
    "        img[i,j] = 0 #黑色\n",
    "    \n",
    "cv2.imshow(\"after\", img)\n",
    "cv2.waitKey(-1)"
   ]
  },
  {
   "cell_type": "code",
   "execution_count": 3,
   "id": "f8fbd86d",
   "metadata": {},
   "outputs": [
    {
     "name": "stdout",
     "output_type": "stream",
     "text": [
      "访问img[0,0]= [255 255 255]\n",
      "访问img[0,0,0]= 255\n",
      "访问img[0,0,1]= 255\n",
      "访问img[0,0,2]= 255\n",
      "访问img[50,0]= [128 128 128]\n",
      "访问img[100,0]= [0 0 0]\n"
     ]
    }
   ],
   "source": [
    "print(\"修改后img[0,0]=\", img[0,0])\n",
    "print(\"修改后img[0,0,0]=\", img[0,0,0])\n",
    "print(\"修改后img[0,0,1]=\", img[0,0,1])\n",
    "print(\"修改后img[0,0,2]=\", img[0,0,2])\n",
    "print(\"修改后img[50,0]=\", img[50,0])\n",
    "print(\"修改后img[100,0]=\", img[100,0])"
   ]
  }
 ],
 "metadata": {
  "kernelspec": {
   "display_name": "Python 3",
   "language": "python",
   "name": "python3"
  },
  "language_info": {
   "codemirror_mode": {
    "name": "ipython",
    "version": 3
   },
   "file_extension": ".py",
   "mimetype": "text/x-python",
   "name": "python",
   "nbconvert_exporter": "python",
   "pygments_lexer": "ipython3",
   "version": "3.7.16"
  }
 },
 "nbformat": 4,
 "nbformat_minor": 5
}
