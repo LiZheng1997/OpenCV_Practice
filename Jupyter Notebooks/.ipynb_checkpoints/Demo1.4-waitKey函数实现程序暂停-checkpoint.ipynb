{
 "cells": [
  {
   "cell_type": "markdown",
   "id": "1fbd54d6",
   "metadata": {},
   "source": [
    "# waitKey函数实现程序暂停"
   ]
  },
  {
   "cell_type": "code",
   "execution_count": 1,
   "id": "4010fa40",
   "metadata": {},
   "outputs": [],
   "source": [
    "import cv2"
   ]
  },
  {
   "cell_type": "code",
   "execution_count": 2,
   "id": "fcb029c4",
   "metadata": {},
   "outputs": [
    {
     "name": "stdout",
     "output_type": "stream",
     "text": [
      "触发了按键\n"
     ]
    }
   ],
   "source": [
    "lena = cv2.imread(\"../images/lena.bmp\")\n",
    "cv2.imshow(\"demo\", lena)\n",
    "key = cv2.waitKey()\n",
    "if key != -1:\n",
    "    print(\"触发了按键\")"
   ]
  },
  {
   "cell_type": "markdown",
   "id": "6fbd7b6b",
   "metadata": {},
   "source": [
    "cv2.waitKey（）函数的参数值是默认值0，所以在未按下键盘上的按键时，程序会一直处于暂停状态。\n",
    "当按下键盘上的任意一个按键时，程序中key=cv2.waitKey（）下方的语句便得以执行，程序输出“触发了按键”。"
   ]
  }
 ],
 "metadata": {
  "kernelspec": {
   "display_name": "Python 3",
   "language": "python",
   "name": "python3"
  },
  "language_info": {
   "codemirror_mode": {
    "name": "ipython",
    "version": 3
   },
   "file_extension": ".py",
   "mimetype": "text/x-python",
   "name": "python",
   "nbconvert_exporter": "python",
   "pygments_lexer": "ipython3",
   "version": "3.7.16"
  }
 },
 "nbformat": 4,
 "nbformat_minor": 5
}
