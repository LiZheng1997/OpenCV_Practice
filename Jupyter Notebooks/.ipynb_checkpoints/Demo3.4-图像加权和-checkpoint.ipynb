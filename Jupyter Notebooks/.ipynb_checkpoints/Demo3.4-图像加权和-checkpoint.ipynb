{
 "cells": [
  {
   "cell_type": "markdown",
   "id": "ed2c03b4",
   "metadata": {},
   "source": [
    "# 3.4 图像加权和"
   ]
  },
  {
   "cell_type": "code",
   "execution_count": 1,
   "id": "f03f45f8",
   "metadata": {},
   "outputs": [
    {
     "name": "stdout",
     "output_type": "stream",
     "text": [
      "[[113 113 113 113]\n",
      " [113 113 113 113]\n",
      " [113 113 113 113]]\n"
     ]
    }
   ],
   "source": [
    "import numpy as np\n",
    "import cv2\n",
    "\n",
    "img1 = np.ones((3,4), dtype=np.uint8) * 100\n",
    "img2 = np.ones((3,4), dtype=np.uint8) * 10\n",
    "\n",
    "gamma = 3\n",
    "img3 = cv2.addWeighted(img1, 0.6, img2, 5, gamma)\n",
    "print(img3)\n"
   ]
  },
  {
   "cell_type": "markdown",
   "id": "1f06a93f",
   "metadata": {},
   "source": [
    "图像的加权和，使用两幅图像的像素值，并且分配不同的权重给到两个图像，使用cv2.addWeighted()函数实现图像的加权和，语法：dst=cv2.addWeighted（src1,alpha,src2,beta,gamma）。该函数实现的功能是dst=src1×alpha+src2×beta+gamma。可以将上式理解为“结果图像=图像1×系数1+图像2×系数2+亮度调节量”。"
   ]
  },
  {
   "cell_type": "code",
   "execution_count": 3,
   "id": "abccb06f",
   "metadata": {},
   "outputs": [],
   "source": [
    "a=cv2.imread(\"../images/lenacolor.png\")\n",
    "b=cv2.imread(\"../images/lenacolor.png\")\n",
    "result=cv2.addWeighted(a, 0.5, b, 0.5, 0)\n",
    "\n",
    "cv2.imshow(\"boat\",a)\n",
    "cv2.imshow(\"lena\",b)\n",
    "cv2.imshow(\"result\",result)\n",
    "\n",
    "cv2.waitKey()\n",
    "cv2.destroyAllWindows()"
   ]
  },
  {
   "cell_type": "code",
   "execution_count": 2,
   "id": "bb119380",
   "metadata": {},
   "outputs": [],
   "source": [
    "import cv2\n",
    "lena=cv2.imread(\"../images/lenacolor.png\",cv2.IMREAD_UNCHANGED)\n",
    "dollar=cv2.imread(\"../images/starry_night.jpg\",cv2.IMREAD_UNCHANGED)\n",
    "\n",
    "cv2.imshow(\"lena\",lena)\n",
    "cv2.imshow(\"dollar\",dollar)\n",
    "\n",
    "face1=lena[220:400,250:350]\n",
    "face2=dollar[160:340,200:300]\n",
    "\n",
    "add=cv2.addWeighted(face1,0.6,face2,0.4,0)\n",
    "dollar[160:340,200:300]=add\n",
    "cv2.imshow(\"result\",dollar)\n",
    "\n",
    "cv2.waitKey()\n",
    "cv2.destroyAllWindows()"
   ]
  },
  {
   "cell_type": "markdown",
   "id": "454cd370",
   "metadata": {},
   "source": [
    "以上都是使用addWighter()函数对图像进行混合计算，加权混合的方式。"
   ]
  }
 ],
 "metadata": {
  "kernelspec": {
   "display_name": "Python 3",
   "language": "python",
   "name": "python3"
  },
  "language_info": {
   "codemirror_mode": {
    "name": "ipython",
    "version": 3
   },
   "file_extension": ".py",
   "mimetype": "text/x-python",
   "name": "python",
   "nbconvert_exporter": "python",
   "pygments_lexer": "ipython3",
   "version": "3.7.16"
  }
 },
 "nbformat": 4,
 "nbformat_minor": 5
}
