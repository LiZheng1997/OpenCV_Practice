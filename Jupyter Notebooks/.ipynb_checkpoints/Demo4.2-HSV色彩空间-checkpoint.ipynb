{
 "cells": [
  {
   "cell_type": "markdown",
   "id": "efd6cec1",
   "metadata": {},
   "source": [
    "# HSV色彩空间"
   ]
  },
  {
   "cell_type": "code",
   "execution_count": null,
   "id": "6afdfbc1",
   "metadata": {},
   "outputs": [],
   "source": [
    "import cv2\n",
    "\n",
    "import numpy as np\n",
    "\n",
    "#=========测试一下OpenCV中蓝色的HSV模式值=============\n",
    "\n",
    "imgBlue=np.zeros([1,1,3],dtype=np.uint8)\n",
    "\n",
    "imgBlue[0,0,0]=255\n",
    "\n",
    "Blue=imgBlue\n",
    "\n",
    "BlueHSV=cv2.cvtColor(Blue,cv2.COLOR_BGR2HSV)\n",
    "\n",
    "print(\"Blue=\\n\",Blue)\n",
    "\n",
    "print(\"BlueHSV=\\n\",BlueHSV)\n",
    "\n",
    "#=========测试一下OpenCV中绿色的HSV模式值=============\n",
    "\n",
    "imgGreen=np.zeros([1,1,3],dtype=np.uint8)\n",
    "\n",
    "imgGreen[0,0,1]=255\n",
    "\n",
    "Green=imgGreen\n",
    "\n",
    "GreenHSV=cv2.cvtColor(Green,cv2.COLOR_BGR2HSV)\n",
    "\n",
    "print(\"Green=\\n\",Green)\n",
    "\n",
    "print(\"GreenHSV=\\n\",GreenHSV)\n",
    "\n",
    "#=========测试一下OpenCV中红色的HSV模式值=============\n",
    "\n",
    "imgRed=np.zeros([1,1,3],dtype=np.uint8)\n",
    "\n",
    "imgRed[0,0,2]=255\n",
    "\n",
    "Red=imgRed\n",
    "\n",
    "RedHSV=cv2.cvtColor(Red,cv2.COLOR_BGR2HSV)\n",
    "\n",
    "print(\"Red=\\n\",Red)\n",
    "\n",
    "print(\"RedHSV=\\n\",RedHSV)"
   ]
  }
 ],
 "metadata": {
  "kernelspec": {
   "display_name": "Python 3",
   "language": "python",
   "name": "python3"
  },
  "language_info": {
   "codemirror_mode": {
    "name": "ipython",
    "version": 3
   },
   "file_extension": ".py",
   "mimetype": "text/x-python",
   "name": "python",
   "nbconvert_exporter": "python",
   "pygments_lexer": "ipython3",
   "version": "3.7.16"
  }
 },
 "nbformat": 4,
 "nbformat_minor": 5
}
