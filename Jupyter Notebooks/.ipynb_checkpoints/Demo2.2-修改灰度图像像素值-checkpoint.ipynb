{
 "cells": [
  {
   "cell_type": "markdown",
   "id": "4542228f",
   "metadata": {},
   "source": [
    "# 2.2 修改灰度图像像素值"
   ]
  },
  {
   "cell_type": "code",
   "execution_count": 1,
   "id": "a8adffcd",
   "metadata": {},
   "outputs": [],
   "source": [
    "import cv2\n",
    "\n",
    "img = cv2.imread(\"../images/lena.bmp\",0)\n",
    "cv2.imshow(\"before\", img)\n",
    "for i in range(0, 100):\n",
    "    for j in range(80, 100):\n",
    "        img[i, j] = 255\n",
    "cv2.imshow(\"after\", img)\n",
    "cv2.waitKey()\n",
    "cv2.destroyAllWindows()"
   ]
  },
  {
   "cell_type": "markdown",
   "id": "8c842c10",
   "metadata": {},
   "source": [
    "以上代码，修改了lena图像部分区域的像素值为255，所以你可以看到效果是：在图像中的左上区域，有一块白色的像素部分。"
   ]
  },
  {
   "cell_type": "code",
   "execution_count": null,
   "id": "2b58f5f8",
   "metadata": {},
   "outputs": [],
   "source": []
  }
 ],
 "metadata": {
  "kernelspec": {
   "display_name": "Python 3",
   "language": "python",
   "name": "python3"
  },
  "language_info": {
   "codemirror_mode": {
    "name": "ipython",
    "version": 3
   },
   "file_extension": ".py",
   "mimetype": "text/x-python",
   "name": "python",
   "nbconvert_exporter": "python",
   "pygments_lexer": "ipython3",
   "version": "3.7.16"
  }
 },
 "nbformat": 4,
 "nbformat_minor": 5
}
