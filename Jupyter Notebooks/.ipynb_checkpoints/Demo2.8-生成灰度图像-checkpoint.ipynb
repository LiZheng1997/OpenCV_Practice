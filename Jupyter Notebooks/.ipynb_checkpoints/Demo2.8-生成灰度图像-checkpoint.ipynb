{
 "cells": [
  {
   "cell_type": "markdown",
   "id": "38b3862d",
   "metadata": {},
   "source": [
    "# 2.8 生成灰度图像"
   ]
  },
  {
   "cell_type": "code",
   "execution_count": 1,
   "id": "0a768f25",
   "metadata": {},
   "outputs": [],
   "source": [
    "import numpy as np\n",
    "import cv2 as cv\n",
    "\n",
    "img=np.random.randint(0,256, size=[256,256], dtype=np.uint8)\n",
    "cv.imshow(\"demo\", img)\n",
    "cv.waitKey()\n",
    "cv.destroyAllWindows()"
   ]
  },
  {
   "cell_type": "code",
   "execution_count": null,
   "id": "46450651",
   "metadata": {},
   "outputs": [],
   "source": []
  }
 ],
 "metadata": {
  "kernelspec": {
   "display_name": "Python 3",
   "language": "python",
   "name": "python3"
  },
  "language_info": {
   "codemirror_mode": {
    "name": "ipython",
    "version": 3
   },
   "file_extension": ".py",
   "mimetype": "text/x-python",
   "name": "python",
   "nbconvert_exporter": "python",
   "pygments_lexer": "ipython3",
   "version": "3.7.16"
  }
 },
 "nbformat": 4,
 "nbformat_minor": 5
}
