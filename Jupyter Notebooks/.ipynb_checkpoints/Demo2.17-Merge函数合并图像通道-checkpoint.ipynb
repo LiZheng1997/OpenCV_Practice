{
 "cells": [
  {
   "cell_type": "markdown",
   "id": "8430a635",
   "metadata": {},
   "source": [
    "# 2.17 Merge函数合并图像通道"
   ]
  },
  {
   "cell_type": "code",
   "execution_count": 1,
   "id": "85298bd0",
   "metadata": {},
   "outputs": [],
   "source": [
    "import cv2 as cv\n",
    "lena = cv.imread(\"../images/lenacolor.png\")\n",
    "b,g,r=cv.split(lena)\n",
    "\n",
    "bgr=cv.merge([b,g,r])\n",
    "rgb=cv.merge([r,g,b])\n",
    "cv.imshow(\"lena\",lena)\n",
    "cv.imshow(\"bgr\",bgr)\n",
    "cv.imshow(\"rgb\",rgb)\n",
    "\n",
    "cv.waitKey()\n",
    "cv.destroyAllWindows()"
   ]
  },
  {
   "cell_type": "markdown",
   "id": "eb8f190d",
   "metadata": {},
   "source": [
    "使用Merge函数对通道进行合并，因为通道顺序不同会导致，OpenCV读取显示的图像效果不一样，默认通道顺序是BGR"
   ]
  }
 ],
 "metadata": {
  "kernelspec": {
   "display_name": "Python 3",
   "language": "python",
   "name": "python3"
  },
  "language_info": {
   "codemirror_mode": {
    "name": "ipython",
    "version": 3
   },
   "file_extension": ".py",
   "mimetype": "text/x-python",
   "name": "python",
   "nbconvert_exporter": "python",
   "pygments_lexer": "ipython3",
   "version": "3.7.16"
  }
 },
 "nbformat": 4,
 "nbformat_minor": 5
}
