{
 "cells": [
  {
   "cell_type": "markdown",
   "id": "db8838ed",
   "metadata": {},
   "source": [
    "# 3.9 位平面分解"
   ]
  },
  {
   "cell_type": "code",
   "execution_count": 1,
   "id": "20fcc36c",
   "metadata": {},
   "outputs": [],
   "source": [
    "import cv2 as cv\n",
    "import numpy as np\n",
    "\n",
    "lena=cv.imread(\"../images/lena.bmp\",0)\n",
    "cv.imshow(\"lena\",lena)\n",
    "r,c = lena.shape\n",
    "x = np.zeros((r,c,8),dtype=np.uint8)\n",
    "for i in range(8):\n",
    "    x[:,:,i]=2**i\n",
    "r=np.zeros((r,c,8),dtype=np.uint8)\n",
    "for i in range(8):\n",
    "    r[:,:,i]=cv.bitwise_and(lena,x[:,:,i])\n",
    "    mask=r[:,:,i]>0\n",
    "    r[mask]=255\n",
    "    cv.imshow(str(i),r[:,:,i])\n",
    "\n",
    "cv.waitKey()\n",
    "cv.destroyAllWindows()"
   ]
  },
  {
   "cell_type": "code",
   "execution_count": null,
   "id": "31c49c9a",
   "metadata": {},
   "outputs": [],
   "source": [
    "将灰度图像中处于同一比特位上的二进制像素值进行组合，得到一幅二进制值图像，该图像被称为灰度图像的一个位平面，\n",
    "这个过程被称为位平面分解。"
   ]
  }
 ],
 "metadata": {
  "kernelspec": {
   "display_name": "Python 3",
   "language": "python",
   "name": "python3"
  },
  "language_info": {
   "codemirror_mode": {
    "name": "ipython",
    "version": 3
   },
   "file_extension": ".py",
   "mimetype": "text/x-python",
   "name": "python",
   "nbconvert_exporter": "python",
   "pygments_lexer": "ipython3",
   "version": "3.7.16"
  }
 },
 "nbformat": 4,
 "nbformat_minor": 5
}
