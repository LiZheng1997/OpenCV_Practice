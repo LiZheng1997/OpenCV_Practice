{
 "cells": [
  {
   "cell_type": "markdown",
   "id": "62972f41",
   "metadata": {},
   "source": [
    "# 3.9 位平面分解"
   ]
  },
  {
   "cell_type": "code",
   "execution_count": 1,
   "id": "620d8298",
   "metadata": {},
   "outputs": [],
   "source": [
    "import cv2 as cv\n",
    "import numpy as np\n",
    "\n",
    "lena=cv.imread(\"../images/lena.bmp\",0)\n",
    "cv.imshow(\"lena\",lena)\n",
    "r,c = lena.shape\n",
    "x = np.zeros((r,c,8),dtype=np.uint8)\n",
    "for i in range(8):\n",
    "    x[:,:,i]=2**i\n",
    "r=np.zeros((r,c,8),dtype=np.uint8)\n",
    "for i in range(8):\n",
    "    r[:,:,i]=cv.bitwise_and(lena,x[:,:,i])\n",
    "    mask=r[:,:,i]>0\n",
    "    r[mask]=255\n",
    "    cv.imshow(str(i),r[:,:,i])\n",
    "\n",
    "cv.waitKey()\n",
    "cv.destroyAllWindows()"
   ]
  },
  {
   "cell_type": "markdown",
   "id": "ee5ceac0",
   "metadata": {},
   "source": [
    "将灰度图像中处于同一比特位上的二进制像素值进行组合，得到一幅二进制值图像，该图像被称为灰度图像的一个位平面，\n",
    "这个过程被称为位平面分解。\n",
    "\n",
    "在8位灰度图中，每一个像素使用8位二进制值来表示，其值的范围在[0,255]之间。可以将其中的值表示为：\n",
    "\n",
    "$$value={a^7}×2^7+a^6×2^6+a^5×2^5+a^4×2^4+a^3×2^3+a^2×2^2+a^1×2^1+a^0×2^0$$\n",
    "\n",
    "式中，ai的可能值为0或1。各个ai的权重是不一样的，a7的权重最高，a0的权重最低。这代表a7的值对图像的影响最大，而a0的值对图像的影响最小。"
   ]
  },
  {
   "cell_type": "code",
   "execution_count": null,
   "id": "bcf768e8",
   "metadata": {},
   "outputs": [],
   "source": []
  }
 ],
 "metadata": {
  "kernelspec": {
   "display_name": "Python 3",
   "language": "python",
   "name": "python3"
  },
  "language_info": {
   "codemirror_mode": {
    "name": "ipython",
    "version": 3
   },
   "file_extension": ".py",
   "mimetype": "text/x-python",
   "name": "python",
   "nbconvert_exporter": "python",
   "pygments_lexer": "ipython3",
   "version": "3.7.16"
  }
 },
 "nbformat": 4,
 "nbformat_minor": 5
}
