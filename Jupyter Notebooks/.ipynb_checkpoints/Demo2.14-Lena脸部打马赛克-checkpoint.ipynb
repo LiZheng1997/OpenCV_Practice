{
 "cells": [
  {
   "cell_type": "markdown",
   "id": "9023b750",
   "metadata": {},
   "source": [
    "# 2.14 Lena脸部打马赛克"
   ]
  },
  {
   "cell_type": "code",
   "execution_count": 1,
   "id": "3e28000a",
   "metadata": {},
   "outputs": [],
   "source": [
    "import numpy as np\n",
    "import cv2 as cv\n",
    "\n",
    "a=cv.imread(\"../images/lena.bmp\", cv.IMREAD_UNCHANGED)\n",
    "cv.imshow(\"original\", a)\n",
    "\n",
    "face=np.random.randint(0,256,(180,100,3))#设置像素值和通道\n",
    "a[220:400,250:350]=face\n",
    "cv.imshow(\"result\", a)\n",
    "\n",
    "cv.waitKey()\n",
    "cv.destroyAllWindows()"
   ]
  },
  {
   "cell_type": "markdown",
   "id": "782f5e97",
   "metadata": {},
   "source": [
    "使用随机生成的三维数组模拟一个打码的图像，对脸部进行代码处理。"
   ]
  }
 ],
 "metadata": {
  "kernelspec": {
   "display_name": "Python 3",
   "language": "python",
   "name": "python3"
  },
  "language_info": {
   "codemirror_mode": {
    "name": "ipython",
    "version": 3
   },
   "file_extension": ".py",
   "mimetype": "text/x-python",
   "name": "python",
   "nbconvert_exporter": "python",
   "pygments_lexer": "ipython3",
   "version": "3.7.16"
  }
 },
 "nbformat": 4,
 "nbformat_minor": 5
}
