{
 "cells": [
  {
   "cell_type": "markdown",
   "id": "813352af",
   "metadata": {},
   "source": [
    "# 2.7 使用Numpy.array访问元素"
   ]
  },
  {
   "cell_type": "code",
   "execution_count": 1,
   "id": "a9e96831",
   "metadata": {},
   "outputs": [
    {
     "name": "stdout",
     "output_type": "stream",
     "text": [
      "img\n",
      " [[69 71 53 39 39]\n",
      " [92 40 24 10 22]\n",
      " [40 57 88 95 72]\n",
      " [82 71 89 40 17]\n",
      " [33 62 54 95 69]]\n",
      "读取像素点img.item(3,2)= 89\n",
      "修改后img=\n",
      " [[ 69  71  53  39  39]\n",
      " [ 92  40  24  10  22]\n",
      " [ 40  57  88  95  72]\n",
      " [ 82  71 255  40  17]\n",
      " [ 33  62  54  95  69]]\n",
      "255\n"
     ]
    }
   ],
   "source": [
    "import numpy as np\n",
    "img=np.random.randint(10, 99, size=[5, 5], dtype=np.uint8)\n",
    "print(\"img\\n\", img)\n",
    "print(\"读取像素点img.item(3,2)=\", img.item(3, 2))\n",
    "img.itemset((3, 2), 255)\n",
    "print(\"修改后img=\\n\", img)\n",
    "print(img.item(3, 2))\n"
   ]
  },
  {
   "cell_type": "markdown",
   "id": "f7f53f12",
   "metadata": {},
   "source": [
    "通过函数item()可以高效地访问图像的像素点，语法：item（行，列）\n",
    "通过函数itemset()可以修改像素值，语法：itemset（索引值，新值）"
   ]
  }
 ],
 "metadata": {
  "kernelspec": {
   "display_name": "Python 3",
   "language": "python",
   "name": "python3"
  },
  "language_info": {
   "codemirror_mode": {
    "name": "ipython",
    "version": 3
   },
   "file_extension": ".py",
   "mimetype": "text/x-python",
   "name": "python",
   "nbconvert_exporter": "python",
   "pygments_lexer": "ipython3",
   "version": "3.7.16"
  }
 },
 "nbformat": 4,
 "nbformat_minor": 5
}
