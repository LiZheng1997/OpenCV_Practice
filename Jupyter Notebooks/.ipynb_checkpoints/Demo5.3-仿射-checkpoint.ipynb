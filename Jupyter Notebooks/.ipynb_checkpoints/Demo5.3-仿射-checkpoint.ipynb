{
 "cells": [
  {
   "cell_type": "markdown",
   "id": "ddf83e81",
   "metadata": {},
   "source": [
    "# 5.3 仿射"
   ]
  },
  {
   "cell_type": "code",
   "execution_count": 1,
   "id": "70d80257",
   "metadata": {},
   "outputs": [],
   "source": [
    "import cv2\n",
    "\n",
    "import numpy as np\n",
    "\n",
    "img=cv2.imread(\"../images/lena.bmp\")\n",
    "\n",
    "height,width=img.shape[:2]\n",
    "\n",
    "x=100\n",
    "\n",
    "y=200\n",
    "\n",
    "M=np.float32([[1,0,x],[0,1,y]])\n",
    "\n",
    "move=cv2.warpAffine(img,M,(width,height))\n",
    "\n",
    "cv2.imshow(\"original\",img)\n",
    "\n",
    "cv2.imshow(\"move\",move)\n",
    "\n",
    "cv2.waitKey()\n",
    "\n",
    "cv2.destroyAllWindows()"
   ]
  },
  {
   "cell_type": "code",
   "execution_count": 2,
   "id": "b862ab90",
   "metadata": {},
   "outputs": [
    {
     "ename": "SyntaxError",
     "evalue": "invalid syntax (275219109.py, line 5)",
     "output_type": "error",
     "traceback": [
      "\u001b[0;36m  File \u001b[0;32m\"/tmp/ipykernel_18505/275219109.py\"\u001b[0;36m, line \u001b[0;32m5\u001b[0m\n\u001b[0;31m    M=cv2.getRotationMatrix2DC(width/2,height/2),45,0.6)\u001b[0m\n\u001b[0m                                                       ^\u001b[0m\n\u001b[0;31mSyntaxError\u001b[0m\u001b[0;31m:\u001b[0m invalid syntax\n"
     ]
    }
   ],
   "source": [
    "\n",
    "\n",
    "img=cv2.imread(\"../images/lena.bmp\")\n",
    "\n",
    "height,width=img.shape[:2]\n",
    "\n",
    "M=cv2.getRotationMatrix2D((width/2,height/2),45,0.6)\n",
    "\n",
    "rotate=cv2.warpAffine(img,M,(width,height))\n",
    "\n",
    "cv2.imshow(\"original\",img)\n",
    "\n",
    "cv2.imshow(\"rotation\",rotate)\n",
    "\n",
    "cv2.waitKey()\n",
    "\n",
    "cv2.destroyAllWindows()"
   ]
  },
  {
   "cell_type": "code",
   "execution_count": null,
   "id": "57938597",
   "metadata": {},
   "outputs": [],
   "source": []
  }
 ],
 "metadata": {
  "kernelspec": {
   "display_name": "Python 3",
   "language": "python",
   "name": "python3"
  },
  "language_info": {
   "codemirror_mode": {
    "name": "ipython",
    "version": 3
   },
   "file_extension": ".py",
   "mimetype": "text/x-python",
   "name": "python",
   "nbconvert_exporter": "python",
   "pygments_lexer": "ipython3",
   "version": "3.7.16"
  }
 },
 "nbformat": 4,
 "nbformat_minor": 5
}
