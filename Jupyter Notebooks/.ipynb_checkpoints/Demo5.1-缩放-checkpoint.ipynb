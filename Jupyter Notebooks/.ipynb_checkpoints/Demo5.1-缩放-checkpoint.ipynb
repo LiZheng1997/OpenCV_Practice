{
 "cells": [
  {
   "cell_type": "markdown",
   "id": "6d3cf313",
   "metadata": {},
   "source": [
    "# 5.1 几何变换"
   ]
  },
  {
   "cell_type": "code",
   "execution_count": 1,
   "id": "50cc51b3",
   "metadata": {},
   "outputs": [
    {
     "name": "stdout",
     "output_type": "stream",
     "text": [
      "img.shape=\n",
      " (2, 4, 3)\n",
      "img=\n",
      " [[[1 1 1]\n",
      "  [1 1 1]\n",
      "  [1 1 1]\n",
      "  [1 1 1]]\n",
      "\n",
      " [[1 1 1]\n",
      "  [1 1 1]\n",
      "  [1 1 1]\n",
      "  [1 1 1]]]\n",
      "rst.shape=\n",
      " (4, 2, 3)\n",
      "rst=\n",
      " [[[1 1 1]\n",
      "  [1 1 1]]\n",
      "\n",
      " [[1 1 1]\n",
      "  [1 1 1]]\n",
      "\n",
      " [[1 1 1]\n",
      "  [1 1 1]]\n",
      "\n",
      " [[1 1 1]\n",
      "  [1 1 1]]]\n"
     ]
    }
   ],
   "source": [
    "import cv2\n",
    "\n",
    "import numpy as np\n",
    "\n",
    "img=np.ones([2,4,3],dtype=np.uint8)\n",
    "\n",
    "size=img.shape[:2]\n",
    "\n",
    "rst=cv2.resize(img,size)\n",
    "\n",
    "print(\"img.shape=\\n\",img.shape)\n",
    "\n",
    "print(\"img=\\n\",img)\n",
    "\n",
    "print(\"rst.shape=\\n\",rst.shape)\n",
    "\n",
    "print(\"rst=\\n\",rst)"
   ]
  },
  {
   "cell_type": "markdown",
   "id": "001b1854",
   "metadata": {},
   "source": [
    "这里需要注意的是shape属性里是（行数，列数），而dsize属性里是（列数，行数）"
   ]
  },
  {
   "cell_type": "code",
   "execution_count": 3,
   "id": "54c2fbac",
   "metadata": {},
   "outputs": [
    {
     "name": "stdout",
     "output_type": "stream",
     "text": [
      "img.shape= (512, 512, 3)\n",
      "rst.shape= (256, 460, 3)\n"
     ]
    }
   ],
   "source": [
    "img=cv2.imread(\"../images/lenacolor.png\")\n",
    "\n",
    "rows,cols=img.shape[:2]\n",
    "\n",
    "size=(int(cols*0.9),int(rows*0.5))\n",
    "\n",
    "rst=cv2.resize(img,size)\n",
    "\n",
    "print(\"img.shape=\",img.shape)\n",
    "\n",
    "print(\"rst.shape=\",rst.shape)"
   ]
  },
  {
   "cell_type": "code",
   "execution_count": null,
   "id": "b8f0eb3a",
   "metadata": {},
   "outputs": [],
   "source": [
    "img=cv2.imread(\"../images/lenacolor.png\")\n",
    "\n",
    "rst=cv2.resize(img,None,fx=2,fy=0.5)\n",
    "\n",
    "print(\"img.shape=\",img.shape)\n",
    "\n",
    "print(\"rst.shape=\",rst.shape)"
   ]
  }
 ],
 "metadata": {
  "kernelspec": {
   "display_name": "Python 3",
   "language": "python",
   "name": "python3"
  },
  "language_info": {
   "codemirror_mode": {
    "name": "ipython",
    "version": 3
   },
   "file_extension": ".py",
   "mimetype": "text/x-python",
   "name": "python",
   "nbconvert_exporter": "python",
   "pygments_lexer": "ipython3",
   "version": "3.7.16"
  }
 },
 "nbformat": 4,
 "nbformat_minor": 5
}
