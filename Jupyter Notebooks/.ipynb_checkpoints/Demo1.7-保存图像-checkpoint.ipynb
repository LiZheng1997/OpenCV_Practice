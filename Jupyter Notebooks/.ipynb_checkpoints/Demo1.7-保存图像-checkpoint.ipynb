{
 "cells": [
  {
   "cell_type": "markdown",
   "id": "6f0eb469",
   "metadata": {},
   "source": [
    "# 1.7 保存图像"
   ]
  },
  {
   "cell_type": "code",
   "execution_count": 1,
   "id": "637137a5",
   "metadata": {},
   "outputs": [],
   "source": [
    "import cv2\n",
    "lena =  cv2.imread(\"../images/lena.bmp\")"
   ]
  },
  {
   "cell_type": "markdown",
   "id": "74fec0df",
   "metadata": {},
   "source": [
    "使用函数imwrite进行图片的保存，语法格式：retval=cv2.imwrite（filename,img[,params]）\n",
    "1. retval是返回值。如果保存成功，则返回逻辑值真（True）；如果保存不成功，则返回逻辑值假（False）。\n",
    "2. filename是要保存的目标文件的完整路径名，包含文件扩展名。\n",
    "3. img是被保存图像的名称。\n",
    "4. params是保存类型参数，是可选的\n",
    "以下代码将会保存图片存储到指定路径下，命名为result.bmp"
   ]
  },
  {
   "cell_type": "code",
   "execution_count": 2,
   "id": "c80db7df",
   "metadata": {},
   "outputs": [],
   "source": [
    "r = cv2.imwrite(\"../images/result.bmp\", lena)"
   ]
  },
  {
   "cell_type": "code",
   "execution_count": null,
   "id": "bf3895ed",
   "metadata": {},
   "outputs": [],
   "source": []
  }
 ],
 "metadata": {
  "kernelspec": {
   "display_name": "Python 3",
   "language": "python",
   "name": "python3"
  },
  "language_info": {
   "codemirror_mode": {
    "name": "ipython",
    "version": 3
   },
   "file_extension": ".py",
   "mimetype": "text/x-python",
   "name": "python",
   "nbconvert_exporter": "python",
   "pygments_lexer": "ipython3",
   "version": "3.7.16"
  }
 },
 "nbformat": 4,
 "nbformat_minor": 5
}
