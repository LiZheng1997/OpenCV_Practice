{
 "cells": [
  {
   "cell_type": "markdown",
   "id": "0504a9c4",
   "metadata": {},
   "source": [
    "# 2.16 Split拆分图像通道"
   ]
  },
  {
   "cell_type": "code",
   "execution_count": null,
   "id": "fa5fa8f9",
   "metadata": {},
   "outputs": [],
   "source": [
    "import cv2 as cv\n",
    "lena = cv.imread(\"../images/lenacolor.png\")\n",
    "\n",
    "b,g,r=cv.split(lena)\n",
    "cv.imshow(\"B\" ,b)\n",
    "cv.imshow(\"G\" ,g)\n",
    "cv.imshow(\"R\" ,r)\n",
    "\n",
    "cv.waitKey()\n",
    "cv.destroyAllWindows()"
   ]
  }
 ],
 "metadata": {
  "kernelspec": {
   "display_name": "Python 3",
   "language": "python",
   "name": "python3"
  },
  "language_info": {
   "codemirror_mode": {
    "name": "ipython",
    "version": 3
   },
   "file_extension": ".py",
   "mimetype": "text/x-python",
   "name": "python",
   "nbconvert_exporter": "python",
   "pygments_lexer": "ipython3",
   "version": "3.7.16"
  }
 },
 "nbformat": 4,
 "nbformat_minor": 5
}
