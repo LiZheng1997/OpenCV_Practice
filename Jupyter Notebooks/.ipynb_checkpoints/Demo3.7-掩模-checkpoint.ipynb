{
 "cells": [
  {
   "cell_type": "markdown",
   "id": "ea510e22",
   "metadata": {},
   "source": [
    "# 3.7 掩模"
   ]
  },
  {
   "cell_type": "code",
   "execution_count": null,
   "id": "a8b7c8cd",
   "metadata": {},
   "outputs": [],
   "source": [
    "import cv2\n",
    "\n",
    "import numpy as np\n",
    "\n",
    "img1=np.ones((4,4),dtype=np.uint8))*3\n",
    "\n",
    "img2=np.ones((4,4),dtype=np.uint8))*5\n",
    "\n",
    "mask=np.ones((4,4),dtype=np.uint8))\n",
    "\n",
    "mask[2:4,2:4]=1\n",
    "\n",
    "img3=np.ones((4,4),dtype=np.uint8)*66\n",
    "\n",
    "print(\"img1=\\n\",img1)\n",
    "\n",
    "print(\"img2=\\n\",img2)\n",
    "\n",
    "print(\"mask=\\n\",mask)\n",
    "\n",
    "print(\"初始值img3=\\n\",img3)\n",
    "\n",
    "img3=cv2.add(img1,img2,mask=mask)\n",
    "\n",
    "print(\"求和后img3=\\n\",img3)"
   ]
  }
 ],
 "metadata": {
  "kernelspec": {
   "display_name": "Python 3",
   "language": "python",
   "name": "python3"
  },
  "language_info": {
   "codemirror_mode": {
    "name": "ipython",
    "version": 3
   },
   "file_extension": ".py",
   "mimetype": "text/x-python",
   "name": "python",
   "nbconvert_exporter": "python",
   "pygments_lexer": "ipython3",
   "version": "3.7.16"
  }
 },
 "nbformat": 4,
 "nbformat_minor": 5
}
