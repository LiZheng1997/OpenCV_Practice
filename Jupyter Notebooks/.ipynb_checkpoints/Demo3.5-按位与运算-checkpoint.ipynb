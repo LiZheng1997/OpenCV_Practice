{
 "cells": [
  {
   "cell_type": "markdown",
   "id": "5c1fca85",
   "metadata": {},
   "source": [
    "# 3.5 按位与运算"
   ]
  },
  {
   "cell_type": "code",
   "execution_count": 2,
   "id": "a955248f",
   "metadata": {},
   "outputs": [
    {
     "name": "stdout",
     "output_type": "stream",
     "text": [
      "a=\n",
      " [[ 43 131 206  20 146]\n",
      " [196 116  83   8  57]\n",
      " [ 90 131 224 145  38]\n",
      " [253  18  24  34 124]\n",
      " [ 73  56 250  37 163]]\n",
      "b=\n",
      " [[255 255 255   0   0]\n",
      " [255 255 255   0   0]\n",
      " [255 255 255   0   0]\n",
      " [  0   0   0   0   0]\n",
      " [  0   0   0   0 255]]\n",
      "c=\n",
      " [[ 43 131 206   0   0]\n",
      " [196 116  83   0   0]\n",
      " [ 90 131 224   0   0]\n",
      " [  0   0   0   0   0]\n",
      " [  0   0   0   0 163]]\n"
     ]
    }
   ],
   "source": [
    "import cv2\n",
    "import numpy as np\n",
    "\n",
    "a=np.random.randint(0,255,(5,5),dtype=np.uint8)\n",
    "b=np.zeros((5,5),dtype=np.uint8)\n",
    "\n",
    "b[0:3,0:3]=255\n",
    "b[4,4]=255\n",
    "\n",
    "c=cv2.bitwise_and(a,b)\n",
    "print(\"a=\\n\",a)\n",
    "print(\"b=\\n\",b)\n",
    "print(\"c=\\n\",c)"
   ]
  },
  {
   "cell_type": "code",
   "execution_count": 3,
   "id": "19365be9",
   "metadata": {},
   "outputs": [],
   "source": [
    "import cv2\n",
    "import numpy as np\n",
    "\n",
    "a=cv2.imread(\"../images/lena.bmp\",0)\n",
    "\n",
    "b=np.zeros(a.shape,dtype=np.uint8)\n",
    "\n",
    "b[100:400,200:400]=255\n",
    "\n",
    "b[100:500,100:200]=255\n",
    "\n",
    "c=cv2.bitwise_and(a,b)\n",
    "\n",
    "cv2.imshow(\"a\",a)\n",
    "\n",
    "cv2.imshow(\"b\",b)\n",
    "\n",
    "cv2.imshow(\"c\",c)\n",
    "\n",
    "cv2.waitKey()\n",
    "cv2.destroyAllWindows()"
   ]
  },
  {
   "cell_type": "code",
   "execution_count": null,
   "id": "896b3e54",
   "metadata": {},
   "outputs": [],
   "source": [
    "import cv2\n",
    "import numpy as np\n",
    "\n",
    "a=cv2.imread(\"../images/lena.bmp\",1)\n",
    "\n",
    "b=np.zeros(a.shape,dtype=np.uint8)\n",
    "\n",
    "b[100:400,200:400]=255\n",
    "\n",
    "b[100:500,100:200]=255\n",
    "\n",
    "c=cv2.bitwise_and(a,b)\n",
    "print(\"a.shape=\",a.shape)\n",
    "\n",
    "print(\"b.shape=\",b.shape)\n",
    "\n",
    "cv2.imshow(\"a\",a)\n",
    "\n",
    "cv2.imshow(\"b\",b)\n",
    "\n",
    "cv2.imshow(\"c\",c)\n",
    "\n",
    "cv2.waitKey()\n",
    "cv2.destroyAllWindows()"
   ]
  },
  {
   "cell_type": "code",
   "execution_count": null,
   "id": "7035b4df",
   "metadata": {},
   "outputs": [],
   "source": [
    "使用cv2.bitwise_and（）函数来实现按位与运算，其语法格式为：dst=cv2.bitwise_and（src1,src2[,mask]]）"
   ]
  }
 ],
 "metadata": {
  "kernelspec": {
   "display_name": "Python 3",
   "language": "python",
   "name": "python3"
  },
  "language_info": {
   "codemirror_mode": {
    "name": "ipython",
    "version": 3
   },
   "file_extension": ".py",
   "mimetype": "text/x-python",
   "name": "python",
   "nbconvert_exporter": "python",
   "pygments_lexer": "ipython3",
   "version": "3.7.16"
  }
 },
 "nbformat": 4,
 "nbformat_minor": 5
}
