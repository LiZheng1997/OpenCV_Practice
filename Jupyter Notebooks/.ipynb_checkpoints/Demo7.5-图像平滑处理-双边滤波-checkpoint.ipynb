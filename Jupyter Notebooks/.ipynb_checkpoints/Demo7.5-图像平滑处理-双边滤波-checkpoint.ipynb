{
 "cells": [
  {
   "cell_type": "markdown",
   "id": "41c489f5",
   "metadata": {},
   "source": [
    "# 7.5 图像平滑处理-双边滤波"
   ]
  },
  {
   "cell_type": "code",
   "execution_count": 1,
   "id": "ac43382b",
   "metadata": {},
   "outputs": [],
   "source": [
    "import cv2\n",
    "\n",
    "o=cv2.imread(\"../images/lenacolor.png\")\n",
    "\n",
    "r=cv2.bilateralFilter(o,25,100,100)\n",
    "\n",
    "cv2.imshow(\"original\",o)\n",
    "\n",
    "cv2.imshow(\"result\",r)\n",
    "\n",
    "cv2.waitKey()\n",
    "\n",
    "cv2.destroyAllWindows()"
   ]
  },
  {
   "cell_type": "code",
   "execution_count": 2,
   "id": "60455fcc",
   "metadata": {},
   "outputs": [],
   "source": [
    "import cv2\n",
    "\n",
    "o=cv2.imread(\"../images/bilTest.png\")\n",
    "\n",
    "g=r=cv2.GaussianBlur(o,(55,55),0,0)\n",
    "\n",
    "b=cv2.bilateralFilter(o,55,100,100)\n",
    "\n",
    "cv2.imshow(\"original\",o)\n",
    "\n",
    "cv2.imshow(\"Gaussian\",g)\n",
    "\n",
    "cv2.imshow(\"bilateral\",b)\n",
    "\n",
    "cv2.waitKey()\n",
    "\n",
    "cv2.destroyAllWindows()"
   ]
  },
  {
   "cell_type": "code",
   "execution_count": null,
   "id": "e2a05dca",
   "metadata": {},
   "outputs": [],
   "source": []
  }
 ],
 "metadata": {
  "kernelspec": {
   "display_name": "Python 3",
   "language": "python",
   "name": "python3"
  },
  "language_info": {
   "codemirror_mode": {
    "name": "ipython",
    "version": 3
   },
   "file_extension": ".py",
   "mimetype": "text/x-python",
   "name": "python",
   "nbconvert_exporter": "python",
   "pygments_lexer": "ipython3",
   "version": "3.7.16"
  }
 },
 "nbformat": 4,
 "nbformat_minor": 5
}
