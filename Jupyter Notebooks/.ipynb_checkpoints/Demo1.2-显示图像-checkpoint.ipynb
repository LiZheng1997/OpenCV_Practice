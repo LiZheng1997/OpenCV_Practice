{
 "cells": [
  {
   "cell_type": "markdown",
   "id": "79976998",
   "metadata": {},
   "source": [
    "# 1.2 显示图像"
   ]
  },
  {
   "cell_type": "code",
   "execution_count": 1,
   "id": "2219cf5d",
   "metadata": {},
   "outputs": [],
   "source": [
    "import cv2"
   ]
  },
  {
   "cell_type": "markdown",
   "id": "e3a624e1",
   "metadata": {},
   "source": [
    "使用imshow函数显示图像 None=cv2.imshow(winname,mat) \n",
    "1. winname是窗口名称\n",
    "2. mat是要显示的图像"
   ]
  },
  {
   "cell_type": "code",
   "execution_count": 2,
   "id": "dd90ce3c",
   "metadata": {},
   "outputs": [],
   "source": [
    "lena = cv2.imread(\"../images/lenacolor.png\")\n",
    "cv2.namedWindow(\"lesson\")\n",
    "cv2.imshow(\"lesson\", lena)"
   ]
  }
 ],
 "metadata": {
  "kernelspec": {
   "display_name": "Python 3",
   "language": "python",
   "name": "python3"
  },
  "language_info": {
   "codemirror_mode": {
    "name": "ipython",
    "version": 3
   },
   "file_extension": ".py",
   "mimetype": "text/x-python",
   "name": "python",
   "nbconvert_exporter": "python",
   "pygments_lexer": "ipython3",
   "version": "3.7.16"
  }
 },
 "nbformat": 4,
 "nbformat_minor": 5
}
