{
 "cells": [
  {
   "cell_type": "markdown",
   "id": "6ee78a03",
   "metadata": {},
   "source": [
    "# 9.1 Sobel算子"
   ]
  },
  {
   "cell_type": "code",
   "execution_count": 4,
   "id": "736e7f45",
   "metadata": {},
   "outputs": [
    {
     "name": "stdout",
     "output_type": "stream",
     "text": [
      "img=\n",
      " [[-149 -101  162  -92 -248]\n",
      " [-245  246  227 -189   82]\n",
      " [ 172  100 -246  109   -7]\n",
      " [ 178 -208   42  232 -239]]\n",
      "rst=\n",
      " [[149 101 162  92 248]\n",
      " [245 246 227 189  82]\n",
      " [172 100 246 109   7]\n",
      " [178 208  42 232 239]]\n"
     ]
    }
   ],
   "source": [
    "import cv2\n",
    "import numpy as np\n",
    "img=np.random.randint(-256,256,size=[4,5],dtype=np.int16)\n",
    "rst=cv2.convertScaleAbs(img)\n",
    "print(\"img=\\n\",img)\n",
    "print(\"rst=\\n\",rst)\n",
    "cv2.imshow('rst',rst)\n",
    "\n",
    "cv2.waitKey()\n",
    "cv2.destroyAllWindows()"
   ]
  },
  {
   "cell_type": "code",
   "execution_count": 5,
   "id": "ac115913",
   "metadata": {},
   "outputs": [
    {
     "ename": "SyntaxError",
     "evalue": "invalid character in identifier (3768968302.py, line 3)",
     "output_type": "error",
     "traceback": [
      "\u001b[0;36m  File \u001b[0;32m\"/tmp/ipykernel_5514/3768968302.py\"\u001b[0;36m, line \u001b[0;32m3\u001b[0m\n\u001b[0;31m    o=cv2.imread（'../images/sobel.png',cv2.IMREAD_GRAYSCALE）\u001b[0m\n\u001b[0m                ^\u001b[0m\n\u001b[0;31mSyntaxError\u001b[0m\u001b[0;31m:\u001b[0m invalid character in identifier\n"
     ]
    }
   ],
   "source": [
    "import cv2\n",
    "\n",
    "\n",
    "o=cv2.imread('../images/sobel.png',cv2.IMREAD_GRAYSCALE)\n",
    "\n",
    "Sobelx=cv2.Sobel(o,-1,1,0)\n",
    "\n",
    "cv2.imshow(\"original\",o)\n",
    "\n",
    "cv2.imshow(\"x\",Sobelx)\n",
    "\n",
    "cv2.waitKey()\n",
    "\n",
    "cv2.destroyAllWindows()"
   ]
  },
  {
   "cell_type": "code",
   "execution_count": null,
   "id": "433e5318",
   "metadata": {},
   "outputs": [],
   "source": []
  }
 ],
 "metadata": {
  "kernelspec": {
   "display_name": "Python 3",
   "language": "python",
   "name": "python3"
  },
  "language_info": {
   "codemirror_mode": {
    "name": "ipython",
    "version": 3
   },
   "file_extension": ".py",
   "mimetype": "text/x-python",
   "name": "python",
   "nbconvert_exporter": "python",
   "pygments_lexer": "ipython3",
   "version": "3.7.16"
  }
 },
 "nbformat": 4,
 "nbformat_minor": 5
}
