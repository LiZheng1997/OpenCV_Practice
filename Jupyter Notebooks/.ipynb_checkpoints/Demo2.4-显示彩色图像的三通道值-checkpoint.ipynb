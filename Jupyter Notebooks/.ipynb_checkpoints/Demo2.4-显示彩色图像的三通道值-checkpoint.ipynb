{
 "cells": [
  {
   "cell_type": "markdown",
   "id": "19f0f597",
   "metadata": {},
   "source": [
    "# 2.4 Numpy显示彩色图像的三通道值"
   ]
  },
  {
   "cell_type": "code",
   "execution_count": 1,
   "id": "550a2263",
   "metadata": {},
   "outputs": [
    {
     "name": "stdout",
     "output_type": "stream",
     "text": [
      "image=\n",
      " [[[255   0   0]\n",
      "  [255   0   0]\n",
      "  [255   0   0]\n",
      "  ...\n",
      "  [  0   0 255]\n",
      "  [  0   0 255]\n",
      "  [  0   0 255]]\n",
      "\n",
      " [[255   0   0]\n",
      "  [255   0   0]\n",
      "  [255   0   0]\n",
      "  ...\n",
      "  [  0   0 255]\n",
      "  [  0   0 255]\n",
      "  [  0   0 255]]\n",
      "\n",
      " [[255   0   0]\n",
      "  [255   0   0]\n",
      "  [255   0   0]\n",
      "  ...\n",
      "  [  0   0 255]\n",
      "  [  0   0 255]\n",
      "  [  0   0 255]]\n",
      "\n",
      " ...\n",
      "\n",
      " [[255   0   0]\n",
      "  [255   0   0]\n",
      "  [255   0   0]\n",
      "  ...\n",
      "  [  0   0 255]\n",
      "  [  0   0 255]\n",
      "  [  0   0 255]]\n",
      "\n",
      " [[255   0   0]\n",
      "  [255   0   0]\n",
      "  [255   0   0]\n",
      "  ...\n",
      "  [  0   0 255]\n",
      "  [  0   0 255]\n",
      "  [  0   0 255]]\n",
      "\n",
      " [[255   0   0]\n",
      "  [255   0   0]\n",
      "  [255   0   0]\n",
      "  ...\n",
      "  [  0   0 255]\n",
      "  [  0   0 255]\n",
      "  [  0   0 255]]]\n"
     ]
    }
   ],
   "source": [
    "import numpy as np\n",
    "import cv2\n",
    "\n",
    "img = np.zeros((300,300,3), dtype=np.uint8)\n",
    "img[:, 0:100, 0] = 255\n",
    "img[:, 100:200, 1] = 255\n",
    "img[:, 200:300, 2] = 255\n",
    "\n",
    "print(\"image=\\n\", img)\n",
    "cv2.imshow(\"img\", img)\n",
    "cv2.waitKey()\n",
    "cv2.destroyAllWindows()"
   ]
  },
  {
   "cell_type": "markdown",
   "id": "11ea5871",
   "metadata": {},
   "source": [
    "以上代码，我们将三个通道的颜色值都显示在一张300x300像素排列的图片上，可以清楚地认识到图片末尾的值[0,1,2]的改变，读取到的颜色也是不一样的。所以对于[300, 300, 3]的彩色图像，一个三维数组，最后的三个通道，，每个通道决定了不同颜色，B-G-R的值。"
   ]
  },
  {
   "cell_type": "code",
   "execution_count": null,
   "id": "2ac1a269",
   "metadata": {},
   "outputs": [],
   "source": []
  }
 ],
 "metadata": {
  "kernelspec": {
   "display_name": "Python 3",
   "language": "python",
   "name": "python3"
  },
  "language_info": {
   "codemirror_mode": {
    "name": "ipython",
    "version": 3
   },
   "file_extension": ".py",
   "mimetype": "text/x-python",
   "name": "python",
   "nbconvert_exporter": "python",
   "pygments_lexer": "ipython3",
   "version": "3.7.16"
  }
 },
 "nbformat": 4,
 "nbformat_minor": 5
}
