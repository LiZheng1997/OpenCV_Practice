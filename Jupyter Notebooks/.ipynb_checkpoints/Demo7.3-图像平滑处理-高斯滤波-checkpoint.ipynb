{
 "cells": [
  {
   "cell_type": "markdown",
   "id": "8a96a048",
   "metadata": {},
   "source": [
    "# 7.3 图像平滑处理-高斯滤波"
   ]
  },
  {
   "cell_type": "code",
   "execution_count": 1,
   "id": "950aca4f",
   "metadata": {},
   "outputs": [],
   "source": [
    "import cv2\n",
    "\n",
    "o=cv2.imread(\"../images/lenacolor.png\")\n",
    "\n",
    "r=cv2.GaussianBlur(o,(5,5),0,0)\n",
    "\n",
    "cv2.imshow(\"original\",o)\n",
    "\n",
    "cv2.imshow(\"result\",r)\n",
    "\n",
    "cv2.waitKey()\n",
    "\n",
    "cv2.destroyAllWindows()"
   ]
  },
  {
   "cell_type": "code",
   "execution_count": null,
   "id": "348e966f",
   "metadata": {},
   "outputs": [],
   "source": []
  }
 ],
 "metadata": {
  "kernelspec": {
   "display_name": "Python 3",
   "language": "python",
   "name": "python3"
  },
  "language_info": {
   "codemirror_mode": {
    "name": "ipython",
    "version": 3
   },
   "file_extension": ".py",
   "mimetype": "text/x-python",
   "name": "python",
   "nbconvert_exporter": "python",
   "pygments_lexer": "ipython3",
   "version": "3.7.16"
  }
 },
 "nbformat": 4,
 "nbformat_minor": 5
}
