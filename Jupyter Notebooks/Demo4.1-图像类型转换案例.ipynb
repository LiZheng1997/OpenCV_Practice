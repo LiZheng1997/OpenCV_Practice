{
 "cells": [
  {
   "cell_type": "markdown",
   "id": "6c5ca19f",
   "metadata": {},
   "source": [
    "# 4.1 图像类型转换案例\n"
   ]
  },
  {
   "cell_type": "code",
   "execution_count": 3,
   "id": "0b8947aa",
   "metadata": {},
   "outputs": [
    {
     "name": "stdout",
     "output_type": "stream",
     "text": [
      "img=\n",
      " [[[124  17 146]\n",
      "  [ 45 250 138]\n",
      "  [117  14 172]\n",
      "  [ 41 250 170]]\n",
      "\n",
      " [[109 205 168]\n",
      "  [ 65   7  63]\n",
      "  [133 213 132]\n",
      "  [169   7  11]]]\n",
      "rst=\n",
      " [[ 68 193  73 202]\n",
      " [183  30 180  27]]\n",
      "像素点(1,0)直接计算得到的值= 182.993\n",
      "像素点(1,0)使用公式cv2.cvtColor()转换值= 183\n"
     ]
    }
   ],
   "source": [
    "import cv2 \n",
    "import numpy as np\n",
    "\n",
    "img = np.random.randint(0,256,size=[2,4,3],dtype=np.uint8)\n",
    "rst = cv2.cvtColor(img, cv2.COLOR_BGR2GRAY)\n",
    "print(\"img=\\n\", img)\n",
    "print(\"rst=\\n\", rst)\n",
    "print(\"像素点(1,0)直接计算得到的值=\", img[1,0,0]*0.114 + img[1,0,1]*0.587+img[1,0,2]*0.299)\n",
    "print(\"像素点(1,0)使用公式cv2.cvtColor()转换值=\", rst[1,0])"
   ]
  },
  {
   "cell_type": "markdown",
   "id": "4a7587ee",
   "metadata": {},
   "source": [
    "# 类型转换函数\n",
    "使用cv2.cvtColor（）函数实现色彩空间的变换。该函数能够实现多个色彩空间之间的转换。其语法格式为：\n",
    "\n",
    "dst=cv2.cvtColor（src,code[,dstCn]）\n",
    "\n",
    "1. dst表示输出图像，与原始输入图像具有同样的数据类型和深度。\n",
    "\n",
    "2. src表示原始输入图像。可以是8位无符号图像、16位无符号图像，或者单精度浮点数等。\n",
    "\n",
    "3. code是色彩空间转换码，表4-2展示了其枚举值。\n",
    "\n",
    "4. dstCn 是目标图像的通道数。如果参数为默认的0，则通道数自动通过原始输入图像和code得到。"
   ]
  },
  {
   "cell_type": "code",
   "execution_count": 5,
   "id": "20579cbb",
   "metadata": {},
   "outputs": [
    {
     "name": "stdout",
     "output_type": "stream",
     "text": [
      "img=\n",
      " [[ 12 141 146 140]\n",
      " [142 152  93 250]]\n",
      "rst=\n",
      " [[[ 12  12  12]\n",
      "  [141 141 141]\n",
      "  [146 146 146]\n",
      "  [140 140 140]]\n",
      "\n",
      " [[142 142 142]\n",
      "  [152 152 152]\n",
      "  [ 93  93  93]\n",
      "  [250 250 250]]]\n"
     ]
    }
   ],
   "source": [
    "import cv2\n",
    "\n",
    "import numpy as np\n",
    "\n",
    "img=np.random.randint(0,256,size=[2,4],dtype=np.uint8)\n",
    "\n",
    "rst=cv2.cvtColor(img,cv2.COLOR_GRAY2BGR)\n",
    "\n",
    "print(\"img=\\n\",img)\n",
    "\n",
    "print(\"rst=\\n\",rst)"
   ]
  },
  {
   "cell_type": "code",
   "execution_count": 6,
   "id": "4938f615",
   "metadata": {},
   "outputs": [
    {
     "name": "stdout",
     "output_type": "stream",
     "text": [
      "img=\n",
      " [[[199  39 191]\n",
      "  [219 162 183]\n",
      "  [118  90 173]\n",
      "  [ 65 190  83]]\n",
      "\n",
      " [[143  49  53]\n",
      "  [115 243 233]\n",
      "  [ 46 225  44]\n",
      "  [ 63  86  64]]]\n",
      "rgb=\n",
      " [[[191  39 199]\n",
      "  [183 162 219]\n",
      "  [173  90 118]\n",
      "  [ 83 190  65]]\n",
      "\n",
      " [[ 53  49 143]\n",
      "  [233 243 115]\n",
      "  [ 44 225  46]\n",
      "  [ 64  86  63]]]\n",
      "bgr=\n",
      " [[[199  39 191]\n",
      "  [219 162 183]\n",
      "  [118  90 173]\n",
      "  [ 65 190  83]]\n",
      "\n",
      " [[143  49  53]\n",
      "  [115 243 233]\n",
      "  [ 46 225  44]\n",
      "  [ 63  86  64]]]\n"
     ]
    }
   ],
   "source": [
    "import cv2\n",
    "\n",
    "import numpy as np\n",
    "\n",
    "img=np.random.randint(0,256,size=[2,4,3],dtype=np.uint8)\n",
    "\n",
    "rgb=cv2.cvtColor(img,cv2.COLOR_BGR2RGB)\n",
    "\n",
    "bgr=cv2.cvtColor(rgb,cv2.COLOR_RGB2BGR)\n",
    "\n",
    "print(\"img=\\n\",img)\n",
    "\n",
    "print(\"rgb=\\n\",rgb)\n",
    "\n",
    "print(\"bgr=\\n\",bgr)"
   ]
  },
  {
   "cell_type": "code",
   "execution_count": 9,
   "id": "696928a9",
   "metadata": {},
   "outputs": [
    {
     "name": "stdout",
     "output_type": "stream",
     "text": [
      "lena.shape= (512, 512, 3)\n",
      "gray.shape= (512, 512)\n",
      "rgb.shape= (512, 512, 3)\n"
     ]
    }
   ],
   "source": [
    "import cv2\n",
    "\n",
    "lena=cv2.imread(\"../images/lenacolor.png\")\n",
    "\n",
    "gray=cv2.cvtColor(lena,cv2.COLOR_BGR2GRAY)\n",
    "\n",
    "rgb=cv2.cvtColor(gray,cv2.COLOR_GRAY2BGR)\n",
    "\n",
    "#==========打印shape============\n",
    "\n",
    "print(\"lena.shape=\",lena.shape)\n",
    "\n",
    "print(\"gray.shape=\",gray.shape)\n",
    "\n",
    "print(\"rgb.shape=\",rgb.shape)\n",
    "\n",
    "#==========显示效果============\n",
    "\n",
    "cv2.imshow(\"lena\",lena)\n",
    "\n",
    "cv2.imshow(\"gray\",gray)\n",
    "\n",
    "cv2.imshow(\"rgb\",rgb)\n",
    "\n",
    "cv2.waitKey()\n",
    "\n",
    "cv2.destroyAllWindows()\n",
    "\n",
    "#运行程序，会显示各个图像的shape属性：\n",
    "\n",
    "lena.shape=(512,512,3)\n",
    "\n",
    "gray.shape=(512,512)\n",
    "\n",
    "rgb.shape=(512,512,3)"
   ]
  },
  {
   "cell_type": "code",
   "execution_count": 12,
   "id": "f0247f61",
   "metadata": {},
   "outputs": [],
   "source": [
    "import cv2\n",
    "\n",
    "lena=cv2.imread(\"../images/lenacolor.png\")\n",
    "\n",
    "rgb=cv2.cvtColor(lena,cv2.COLOR_BGR2RGB)\n",
    "\n",
    "cv2.imshow(\"lena\",lena)\n",
    "\n",
    "cv2.imshow(\"rgb\",rgb)\n",
    "\n",
    "cv2.waitKey()\n",
    "\n",
    "cv2.destroyAllWindows()"
   ]
  },
  {
   "cell_type": "code",
   "execution_count": null,
   "id": "e29dcea8",
   "metadata": {},
   "outputs": [],
   "source": []
  }
 ],
 "metadata": {
  "kernelspec": {
   "display_name": "Python 3",
   "language": "python",
   "name": "python3"
  },
  "language_info": {
   "codemirror_mode": {
    "name": "ipython",
    "version": 3
   },
   "file_extension": ".py",
   "mimetype": "text/x-python",
   "name": "python",
   "nbconvert_exporter": "python",
   "pygments_lexer": "ipython3",
   "version": "3.7.16"
  }
 },
 "nbformat": 4,
 "nbformat_minor": 5
}
