{
 "cells": [
  {
   "cell_type": "markdown",
   "id": "6c5ca19f",
   "metadata": {},
   "source": [
    "# 4.1 图像类型转换案例\n"
   ]
  },
  {
   "cell_type": "code",
   "execution_count": 1,
   "id": "0b8947aa",
   "metadata": {},
   "outputs": [
    {
     "name": "stdout",
     "output_type": "stream",
     "text": [
      "img=\n",
      " [[[253  91 237]\n",
      "  [102  43 210]\n",
      "  [158 183 190]\n",
      "  [110  91 145]]\n",
      "\n",
      " [[ 28  85  48]\n",
      "  [215  33 181]\n",
      "  [250  24  96]\n",
      "  [239  96 164]]]\n",
      "rst=\n",
      " [[153 100 182 109]\n",
      " [ 67  98  71 133]]\n",
      "像素点(1,0)直接计算得到的值= 67.439\n",
      "像素点(1,0)使用公式cv2.cvtColor()转换值= 67\n"
     ]
    }
   ],
   "source": [
    "import cv2 \n",
    "import numpy as np\n",
    "\n",
    "img = np.random.randint(0,256,size=[2,4,3],dtype=np.uint8)\n",
    "rst = cv2.cvtColor(img, cv2.COLOR_BGR2GRAY)\n",
    "print(\"img=\\n\", img)\n",
    "print(\"rst=\\n\", rst)\n",
    "print(\"像素点(1,0)直接计算得到的值=\", img[1,0,0]*0.114 + img[1,0,1]*0.587+img[1,0,2]*0.299)\n",
    "print(\"像素点(1,0)使用公式cv2.cvtColor()转换值=\", rst[1,0])"
   ]
  },
  {
   "cell_type": "markdown",
   "id": "4a7587ee",
   "metadata": {},
   "source": [
    "# 类型转换函数\n",
    "使用cv2.cvtColor（）函数实现色彩空间的变换。该函数能够实现多个色彩空间之间的转换。其语法格式为：\n",
    "\n",
    "dst=cv2.cvtColor（src,code[,dstCn]）\n",
    "\n",
    "1. dst表示输出图像，与原始输入图像具有同样的数据类型和深度。\n",
    "\n",
    "2. src表示原始输入图像。可以是8位无符号图像、16位无符号图像，或者单精度浮点数等。\n",
    "\n",
    "3. code是色彩空间转换码，表4-2展示了其枚举值。\n",
    "\n",
    "4. dstCn 是目标图像的通道数。如果参数为默认的0，则通道数自动通过原始输入图像和code得到。"
   ]
  },
  {
   "cell_type": "code",
   "execution_count": 2,
   "id": "20579cbb",
   "metadata": {},
   "outputs": [
    {
     "name": "stdout",
     "output_type": "stream",
     "text": [
      "img=\n",
      " [[169  32 217 167]\n",
      " [182 208 240 193]]\n",
      "rst=\n",
      " [[[169 169 169]\n",
      "  [ 32  32  32]\n",
      "  [217 217 217]\n",
      "  [167 167 167]]\n",
      "\n",
      " [[182 182 182]\n",
      "  [208 208 208]\n",
      "  [240 240 240]\n",
      "  [193 193 193]]]\n"
     ]
    }
   ],
   "source": [
    "import cv2\n",
    "\n",
    "import numpy as np\n",
    "\n",
    "img=np.random.randint(0,256,size=[2,4],dtype=np.uint8)\n",
    "\n",
    "rst=cv2.cvtColor(img,cv2.COLOR_GRAY2BGR)\n",
    "\n",
    "print(\"img=\\n\",img)\n",
    "\n",
    "print(\"rst=\\n\",rst)"
   ]
  },
  {
   "cell_type": "code",
   "execution_count": 3,
   "id": "4938f615",
   "metadata": {},
   "outputs": [
    {
     "name": "stdout",
     "output_type": "stream",
     "text": [
      "img=\n",
      " [[[ 53  28  42]\n",
      "  [125  24 233]\n",
      "  [161 246   3]\n",
      "  [214  58   7]]\n",
      "\n",
      " [[168 189 200]\n",
      "  [  4 218  58]\n",
      "  [ 39   5 141]\n",
      "  [192 156  16]]]\n",
      "rgb=\n",
      " [[[ 42  28  53]\n",
      "  [233  24 125]\n",
      "  [  3 246 161]\n",
      "  [  7  58 214]]\n",
      "\n",
      " [[200 189 168]\n",
      "  [ 58 218   4]\n",
      "  [141   5  39]\n",
      "  [ 16 156 192]]]\n",
      "bgr=\n",
      " [[[ 53  28  42]\n",
      "  [125  24 233]\n",
      "  [161 246   3]\n",
      "  [214  58   7]]\n",
      "\n",
      " [[168 189 200]\n",
      "  [  4 218  58]\n",
      "  [ 39   5 141]\n",
      "  [192 156  16]]]\n"
     ]
    }
   ],
   "source": [
    "import cv2\n",
    "\n",
    "import numpy as np\n",
    "\n",
    "img=np.random.randint(0,256,size=[2,4,3],dtype=np.uint8)\n",
    "\n",
    "rgb=cv2.cvtColor(img,cv2.COLOR_BGR2RGB)\n",
    "\n",
    "bgr=cv2.cvtColor(rgb,cv2.COLOR_RGB2BGR)\n",
    "\n",
    "print(\"img=\\n\",img)\n",
    "\n",
    "print(\"rgb=\\n\",rgb)\n",
    "\n",
    "print(\"bgr=\\n\",bgr)"
   ]
  },
  {
   "cell_type": "code",
   "execution_count": 4,
   "id": "696928a9",
   "metadata": {},
   "outputs": [
    {
     "name": "stdout",
     "output_type": "stream",
     "text": [
      "lena.shape= (512, 512, 3)\n",
      "gray.shape= (512, 512)\n",
      "rgb.shape= (512, 512, 3)\n"
     ]
    }
   ],
   "source": [
    "import cv2\n",
    "\n",
    "lena=cv2.imread(\"../images/lenacolor.png\")\n",
    "\n",
    "gray=cv2.cvtColor(lena,cv2.COLOR_BGR2GRAY)\n",
    "\n",
    "rgb=cv2.cvtColor(gray,cv2.COLOR_GRAY2BGR)\n",
    "\n",
    "#==========打印shape============\n",
    "\n",
    "print(\"lena.shape=\",lena.shape)\n",
    "\n",
    "print(\"gray.shape=\",gray.shape)\n",
    "\n",
    "print(\"rgb.shape=\",rgb.shape)\n",
    "\n",
    "#==========显示效果============\n",
    "\n",
    "cv2.imshow(\"lena\",lena)\n",
    "\n",
    "cv2.imshow(\"gray\",gray)\n",
    "\n",
    "cv2.imshow(\"rgb\",rgb)\n",
    "\n",
    "cv2.waitKey()\n",
    "\n",
    "cv2.destroyAllWindows()\n",
    "\n",
    "#运行程序，会显示各个图像的shape属性：\n",
    "\n",
    "lena.shape=(512,512,3)\n",
    "\n",
    "gray.shape=(512,512)\n",
    "\n",
    "rgb.shape=(512,512,3)"
   ]
  },
  {
   "cell_type": "code",
   "execution_count": 5,
   "id": "f0247f61",
   "metadata": {},
   "outputs": [],
   "source": [
    "import cv2\n",
    "\n",
    "lena=cv2.imread(\"../images/lenacolor.png\")\n",
    "\n",
    "rgb=cv2.cvtColor(lena,cv2.COLOR_BGR2RGB)\n",
    "\n",
    "cv2.imshow(\"lena\",lena)\n",
    "\n",
    "cv2.imshow(\"rgb\",rgb)\n",
    "\n",
    "cv2.waitKey()\n",
    "\n",
    "cv2.destroyAllWindows()"
   ]
  },
  {
   "cell_type": "code",
   "execution_count": null,
   "id": "e29dcea8",
   "metadata": {},
   "outputs": [],
   "source": []
  }
 ],
 "metadata": {
  "kernelspec": {
   "display_name": "Python 3",
   "language": "python",
   "name": "python3"
  },
  "language_info": {
   "codemirror_mode": {
    "name": "ipython",
    "version": 3
   },
   "file_extension": ".py",
   "mimetype": "text/x-python",
   "name": "python",
   "nbconvert_exporter": "python",
   "pygments_lexer": "ipython3",
   "version": "3.7.16"
  }
 },
 "nbformat": 4,
 "nbformat_minor": 5
}
