{
 "cells": [
  {
   "cell_type": "markdown",
   "id": "631c6f62",
   "metadata": {},
   "source": [
    "# 18.1 视频处理"
   ]
  },
  {
   "cell_type": "code",
   "execution_count": 1,
   "id": "73ff5ac2",
   "metadata": {},
   "outputs": [],
   "source": [
    "import numpy as np\n",
    "\n",
    "import cv2 as cv\n",
    "\n",
    "#读取文件或者读取摄像头\n",
    "cap = cv.VideoCapture('../images/vtest.avi')\n",
    "\n",
    "while(cap.isOpened()):\n",
    "\tret, frame = cap.read()\n",
    "\tcv.imshow('frame',frame)\n",
    "\tc = cv.waitKey(40) #单位是ms，一般是25，表示每一帧停留的时间。\n",
    "\tif c == 27:\n",
    "\t\tbreak\n",
    "cap.release()\n",
    "\n",
    "cv.destroyAllWindows()"
   ]
  },
  {
   "cell_type": "code",
   "execution_count": 4,
   "id": "faf2f8a6",
   "metadata": {},
   "outputs": [],
   "source": [
    "\n",
    "cap = cv.VideoCapture(\"../images/vtest.avi\")\n",
    "\n",
    "while(cap.isOpened()):\n",
    "\tret, frame = cap.read()\n",
    "\tframe=cv.Canny(frame,100,200)\n",
    "\tcv.imshow('frame',frame)\n",
    "\tc = cv.waitKey(1)\n",
    "\tif c == 27:\n",
    "\t\tbreak\n",
    "cap.release()\n",
    "cv.destroyAllWindows()"
   ]
  },
  {
   "cell_type": "code",
   "execution_count": null,
   "id": "e63624d9",
   "metadata": {},
   "outputs": [],
   "source": []
  }
 ],
 "metadata": {
  "kernelspec": {
   "display_name": "Python 3",
   "language": "python",
   "name": "python3"
  },
  "language_info": {
   "codemirror_mode": {
    "name": "ipython",
    "version": 3
   },
   "file_extension": ".py",
   "mimetype": "text/x-python",
   "name": "python",
   "nbconvert_exporter": "python",
   "pygments_lexer": "ipython3",
   "version": "3.7.16"
  }
 },
 "nbformat": 4,
 "nbformat_minor": 5
}
