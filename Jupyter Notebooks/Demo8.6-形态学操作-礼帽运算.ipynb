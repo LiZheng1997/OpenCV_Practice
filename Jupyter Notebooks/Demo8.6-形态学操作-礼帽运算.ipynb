{
 "cells": [
  {
   "cell_type": "markdown",
   "id": "5c6709cc",
   "metadata": {},
   "source": [
    "# 8.6 形态学操作-礼帽运算"
   ]
  },
  {
   "cell_type": "code",
   "execution_count": 1,
   "id": "cf5637d3",
   "metadata": {},
   "outputs": [],
   "source": [
    "import cv2\n",
    "\n",
    "import numpy as np\n",
    "\n",
    "o1=cv2.imread(\"../images/erode.png\",cv2.IMREAD_UNCHANGED)\n",
    "\n",
    "o2=cv2.imread(\"../images/lena.bmp\",cv2.IMREAD_UNCHANGED)\n",
    "\n",
    "k=np.ones((5,5),np.uint8)\n",
    "\n",
    "r1=cv2.morphologyEx(o1,cv2.MORPH_TOPHAT,k)\n",
    "\n",
    "r2=cv2.morphologyEx(o2,cv2.MORPH_TOPHAT,k)\n",
    "\n",
    "cv2.imshow(\"original1\",o1)\n",
    "\n",
    "cv2.imshow(\"original2\",o2)\n",
    "\n",
    "cv2.imshow(\"result1\",r1)\n",
    "\n",
    "cv2.imshow(\"result2\",r2)\n",
    "\n",
    "cv2.waitKey()\n",
    "\n",
    "cv2.destroyAllWindows()"
   ]
  },
  {
   "cell_type": "code",
   "execution_count": null,
   "id": "e3f6245f",
   "metadata": {},
   "outputs": [],
   "source": []
  }
 ],
 "metadata": {
  "kernelspec": {
   "display_name": "Python 3",
   "language": "python",
   "name": "python3"
  },
  "language_info": {
   "codemirror_mode": {
    "name": "ipython",
    "version": 3
   },
   "file_extension": ".py",
   "mimetype": "text/x-python",
   "name": "python",
   "nbconvert_exporter": "python",
   "pygments_lexer": "ipython3",
   "version": "3.7.16"
  }
 },
 "nbformat": 4,
 "nbformat_minor": 5
}
