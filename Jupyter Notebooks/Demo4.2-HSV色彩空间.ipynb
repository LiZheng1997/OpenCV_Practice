{
 "cells": [
  {
   "cell_type": "markdown",
   "id": "6eebfa60",
   "metadata": {},
   "source": [
    "# 4.2 HSV色彩空间"
   ]
  },
  {
   "cell_type": "code",
   "execution_count": 1,
   "id": "f36d34f5",
   "metadata": {},
   "outputs": [
    {
     "name": "stdout",
     "output_type": "stream",
     "text": [
      "Blue=\n",
      " [[[255   0   0]]]\n",
      "BlueHSV=\n",
      " [[[120 255 255]]]\n",
      "Green=\n",
      " [[[  0 255   0]]]\n",
      "GreenHSV=\n",
      " [[[ 60 255 255]]]\n",
      "Red=\n",
      " [[[  0   0 255]]]\n",
      "RedHSV=\n",
      " [[[  0 255 255]]]\n"
     ]
    }
   ],
   "source": [
    "import cv2\n",
    "\n",
    "import numpy as np\n",
    "\n",
    "#=========测试一下OpenCV中蓝色的HSV模式值=============\n",
    "\n",
    "imgBlue=np.zeros([1,1,3],dtype=np.uint8)\n",
    "\n",
    "imgBlue[0,0,0]=255\n",
    "\n",
    "Blue=imgBlue\n",
    "\n",
    "BlueHSV=cv2.cvtColor(Blue,cv2.COLOR_BGR2HSV)\n",
    "\n",
    "print(\"Blue=\\n\",Blue)\n",
    "\n",
    "print(\"BlueHSV=\\n\",BlueHSV)\n",
    "\n",
    "#=========测试一下OpenCV中绿色的HSV模式值=============\n",
    "\n",
    "imgGreen=np.zeros([1,1,3],dtype=np.uint8)\n",
    "\n",
    "imgGreen[0,0,1]=255\n",
    "\n",
    "Green=imgGreen\n",
    "\n",
    "GreenHSV=cv2.cvtColor(Green,cv2.COLOR_BGR2HSV)\n",
    "\n",
    "print(\"Green=\\n\",Green)\n",
    "\n",
    "print(\"GreenHSV=\\n\",GreenHSV)\n",
    "\n",
    "#=========测试一下OpenCV中红色的HSV模式值=============\n",
    "\n",
    "imgRed=np.zeros([1,1,3],dtype=np.uint8)\n",
    "\n",
    "imgRed[0,0,2]=255\n",
    "\n",
    "Red=imgRed\n",
    "\n",
    "RedHSV=cv2.cvtColor(Red,cv2.COLOR_BGR2HSV)\n",
    "\n",
    "print(\"Red=\\n\",Red)\n",
    "\n",
    "print(\"RedHSV=\\n\",RedHSV)"
   ]
  },
  {
   "cell_type": "code",
   "execution_count": 3,
   "id": "7039be1b",
   "metadata": {},
   "outputs": [
    {
     "name": "stdout",
     "output_type": "stream",
     "text": [
      "img=\n",
      " [[233 206 166 230 240]\n",
      " [ 95 168  23 173 157]\n",
      " [ 32 227 117   8 149]\n",
      " [199  35 115 186  29]\n",
      " [100 239 119  18  17]]\n",
      "mask=\n",
      " [[  0   0 255   0   0]\n",
      " [  0 255   0 255 255]\n",
      " [  0   0 255   0 255]\n",
      " [255   0 255 255   0]\n",
      " [255   0 255   0   0]]\n"
     ]
    }
   ],
   "source": [
    "img=np.random.randint(0,256,size=[5,5],dtype=np.uint8)\n",
    "\n",
    "min=100\n",
    "\n",
    "max=200\n",
    "\n",
    "mask=cv2.inRange(img,min,max)\n",
    "\n",
    "print(\"img=\\n\",img)\n",
    "\n",
    "print(\"mask=\\n\",mask)"
   ]
  },
  {
   "cell_type": "markdown",
   "id": "d1dcef8f",
   "metadata": {},
   "source": [
    "以上代码通过cv2.inRange函数判断图像内像素点的像素值是否在指定的范围内，语法：dst=cv2.inRange（src,lowerb,upperb）\n",
    "\n",
    "● dst表示输出结果，大小和src一致。\n",
    "\n",
    "● src表示要检查的数组或图像。\n",
    "\n",
    "● lowerb表示范围下界。\n",
    "\n",
    "● upperb表示范围上界。\n",
    "\n",
    "返回值dst与src等大小，其值取决于src中对应位置上的值是否处于区间[lowerb,upperb]内：\n",
    "\n",
    "● 如果src值处于该指定区间内，则dst中对应位置上的值为255。\n",
    "\n",
    "● 如果src值不处于该指定区间内，则dst中对应位置上的值为0。"
   ]
  },
  {
   "cell_type": "code",
   "execution_count": 4,
   "id": "452bc8f7",
   "metadata": {},
   "outputs": [
    {
     "name": "stdout",
     "output_type": "stream",
     "text": [
      "img=\n",
      " [[9 9 9 9 9]\n",
      " [9 9 9 9 9]\n",
      " [9 9 9 9 9]\n",
      " [9 9 9 9 9]\n",
      " [9 9 9 9 9]]\n",
      "mask=\n",
      " [[1 0 0 0 0]\n",
      " [1 0 0 0 0]\n",
      " [1 0 1 1 0]\n",
      " [0 0 1 1 0]\n",
      " [0 0 1 1 0]]\n",
      "roi=\n",
      " [[9 0 0 0 0]\n",
      " [9 0 0 0 0]\n",
      " [9 0 9 9 0]\n",
      " [0 0 9 9 0]\n",
      " [0 0 9 9 0]]\n"
     ]
    }
   ],
   "source": [
    "img=np.ones([5,5],dtype=np.uint8)*9\n",
    "\n",
    "mask=np.zeros([5,5],dtype=np.uint8)\n",
    "\n",
    "mask[0:3,0]=1\n",
    "\n",
    "mask[2:5,2:4]=1\n",
    "\n",
    "roi=cv2.bitwise_and(img,img,mask=mask)\n",
    "\n",
    "print(\"img=\\n\",img)\n",
    "\n",
    "print(\"mask=\\n\",mask)\n",
    "\n",
    "print(\"roi=\\n\",roi)"
   ]
  },
  {
   "cell_type": "markdown",
   "id": "e380da60",
   "metadata": {},
   "source": [
    "通过mask设置了两个感兴趣区域（掩模）。后续通过在按位与运算中设置掩模的方式，将原始图像img内这两部分的值保留显示，而将其余部分的值置零"
   ]
  },
  {
   "cell_type": "code",
   "execution_count": 5,
   "id": "5c577bc8",
   "metadata": {},
   "outputs": [],
   "source": [
    "opencv=cv2.imread(\"../images/opencv-logo.png\")\n",
    "\n",
    "hsv=cv2.cvtColor(opencv,cv2.COLOR_BGR2HSV)\n",
    "\n",
    "cv2.imshow('opencv',opencv)\n",
    "\n",
    "#=============指定蓝色值的范围=============\n",
    "\n",
    "minBlue=np.array([110,50,50])\n",
    "\n",
    "maxBlue=np.array([130,255,255])\n",
    "\n",
    "#确定蓝色区域\n",
    "\n",
    "mask=cv2.inRange(hsv,minBlue,maxBlue)\n",
    "\n",
    "#通过掩码控制的按位与运算，锁定蓝色区域\n",
    "\n",
    "blue=cv2.bitwise_and(opencv,opencv,mask=mask)\n",
    "\n",
    "cv2.imshow('blue',blue)\n",
    "\n",
    "#=============指定绿色值的范围=============\n",
    "\n",
    "minGreen=np.array([50,50,50])\n",
    "\n",
    "maxGreen=np.array([70,255,255])\n",
    "\n",
    "#确定绿色区域\n",
    "mask=cv2.inRange(hsv,minGreen,maxGreen)\n",
    "\n",
    "#通过掩码控制的按位与运算，锁定绿色区域\n",
    "\n",
    "green=cv2.bitwise_and(opencv,opencv,mask=mask)\n",
    "\n",
    "cv2.imshow('green',green)\n",
    "\n",
    "#=============指定红色值的范围=============\n",
    "\n",
    "minRed=np.array([0,50,50])\n",
    "\n",
    "maxRed=np.array([30,255,255])\n",
    "\n",
    "#确定红色区域\n",
    "\n",
    "mask=cv2.inRange(hsv,minRed,maxRed)\n",
    "\n",
    "#通过掩码控制的按位与运算，锁定红色区域\n",
    "\n",
    "red=cv2.bitwise_and(opencv,opencv,mask=mask)\n",
    "\n",
    "cv2.imshow('red',red)\n",
    "\n",
    "cv2.waitKey()\n",
    "\n",
    "cv2.destroyAllWindows()"
   ]
  },
  {
   "cell_type": "markdown",
   "id": "e2fddf9a",
   "metadata": {},
   "source": [
    "通过HSV色彩空间下的热定颜色区间，我们提取出来一个颜色范围内的图像信息，再通过掩码进行按位与运算，提取出来制定颜色的图像信息。"
   ]
  },
  {
   "cell_type": "code",
   "execution_count": 6,
   "id": "6f24d261",
   "metadata": {},
   "outputs": [],
   "source": [
    "\n",
    "\n",
    "img=cv2.imread(\"../images/lesson2.png\")\n",
    "\n",
    "hsv=cv2.cvtColor(img,cv2.COLOR_BGR2HSV)\n",
    "\n",
    "h,s,v=cv2.split(hsv)\n",
    "\n",
    "minHue=5\n",
    "\n",
    "maxHue=170\n",
    "\n",
    "hueMask=cv2.inRange(h,minHue,maxHue)\n",
    "\n",
    "minSat=25\n",
    "\n",
    "maxSat=166\n",
    "\n",
    "satMask=cv2.inRange(s,minSat,maxSat)\n",
    "\n",
    "mask=hueMask & satMask\n",
    "\n",
    "roi=cv2.bitwise_and(img,img,mask=mask)\n",
    "\n",
    "cv2.imshow(\"img\",img)\n",
    "\n",
    "cv2.imshow(\"ROI\",roi)\n",
    "\n",
    "cv2.waitKey()\n",
    "\n",
    "cv2.destroyAllWindows()"
   ]
  },
  {
   "cell_type": "markdown",
   "id": "57e96698",
   "metadata": {},
   "source": [
    "以上代码提取图像内的肤色，提取后的图像只保留了人脸的肤色信息。\n"
   ]
  },
  {
   "cell_type": "code",
   "execution_count": 8,
   "id": "fe8d01c7",
   "metadata": {},
   "outputs": [],
   "source": [
    "img=cv2.imread(\"../images/barbara.png\")\n",
    "\n",
    "hsv=cv2.cvtColor(img,cv2.COLOR_BGR2HSV)\n",
    "\n",
    "h,s,v=cv2.split(hsv)\n",
    "\n",
    "v[:,:]=255\n",
    "\n",
    "newHSV=cv2.merge([h,s,v])\n",
    "\n",
    "art=cv2.cvtColor(newHSV,cv2.COLOR_HSV2BGR)\n",
    "\n",
    "cv2.imshow(\"img\",img)\n",
    "\n",
    "cv2.imshow(\"art\",art)\n",
    "\n",
    "cv2.waitKey()\n",
    "\n",
    "cv2.destroyAllWindows()"
   ]
  },
  {
   "cell_type": "code",
   "execution_count": null,
   "id": "e0c749bf",
   "metadata": {},
   "outputs": [],
   "source": []
  }
 ],
 "metadata": {
  "kernelspec": {
   "display_name": "Python 3",
   "language": "python",
   "name": "python3"
  },
  "language_info": {
   "codemirror_mode": {
    "name": "ipython",
    "version": 3
   },
   "file_extension": ".py",
   "mimetype": "text/x-python",
   "name": "python",
   "nbconvert_exporter": "python",
   "pygments_lexer": "ipython3",
   "version": "3.7.16"
  }
 },
 "nbformat": 4,
 "nbformat_minor": 5
}
