{
 "cells": [
  {
   "cell_type": "markdown",
   "id": "d32761b9",
   "metadata": {},
   "source": [
    "# 2.10 Item操作彩色图像"
   ]
  },
  {
   "cell_type": "code",
   "execution_count": 1,
   "id": "73a11243",
   "metadata": {},
   "outputs": [
    {
     "name": "stdout",
     "output_type": "stream",
     "text": [
      "img=\n",
      " [[[64 26 12]\n",
      "  [77 13 42]\n",
      "  [71 80 27]\n",
      "  [67 44 96]]\n",
      "\n",
      " [[27 61 40]\n",
      "  [84 80 68]\n",
      "  [63 66 47]\n",
      "  [36 80 66]]]\n",
      "读取像素点img[1,2,0]= 63\n",
      "读取像素点img[0,2,1]= 80\n",
      "读取像素点img[1,0,2]= 40\n"
     ]
    }
   ],
   "source": [
    "import numpy as np\n",
    "\n",
    "img = np.random.randint(10,99,size=[2,4,3], dtype=np.uint8)\n",
    "print(\"img=\\n\",img)\n",
    "print(\"读取像素点img[1,2,0]=\", img.item(1,2,0))\n",
    "print(\"读取像素点img[0,2,1]=\", img.item(0,2,1))\n",
    "print(\"读取像素点img[1,0,2]=\", img.item(1,0,2))"
   ]
  },
  {
   "cell_type": "code",
   "execution_count": 2,
   "id": "0eb412e2",
   "metadata": {},
   "outputs": [
    {
     "name": "stdout",
     "output_type": "stream",
     "text": [
      "修改后img=\n",
      " [[[ 64  26  12]\n",
      "  [ 77  13  42]\n",
      "  [ 71 255  27]\n",
      "  [ 67  44  96]]\n",
      "\n",
      " [[ 27  61 255]\n",
      "  [ 84  80  68]\n",
      "  [255  66  47]\n",
      "  [ 36  80  66]]]\n",
      "读取像素点img[1,2,0]= 255\n",
      "读取像素点img[0,2,1]= 255\n",
      "读取像素点img[1,0,2]= 255\n"
     ]
    }
   ],
   "source": [
    "img.itemset((1,2,0), 255)\n",
    "img.itemset((0,2,1), 255)\n",
    "img.itemset((1,0,2), 255)\n",
    "\n",
    "print(\"修改后img=\\n\",img)\n",
    "print(\"读取像素点img[1,2,0]=\", img.item(1,2,0))\n",
    "print(\"读取像素点img[0,2,1]=\", img.item(0,2,1))\n",
    "print(\"读取像素点img[1,0,2]=\", img.item(1,0,2))"
   ]
  },
  {
   "cell_type": "markdown",
   "id": "65319665",
   "metadata": {},
   "source": [
    "使用item,itemset对像素点值进行修改。"
   ]
  }
 ],
 "metadata": {
  "kernelspec": {
   "display_name": "Python 3",
   "language": "python",
   "name": "python3"
  },
  "language_info": {
   "codemirror_mode": {
    "name": "ipython",
    "version": 3
   },
   "file_extension": ".py",
   "mimetype": "text/x-python",
   "name": "python",
   "nbconvert_exporter": "python",
   "pygments_lexer": "ipython3",
   "version": "3.7.16"
  }
 },
 "nbformat": 4,
 "nbformat_minor": 5
}
