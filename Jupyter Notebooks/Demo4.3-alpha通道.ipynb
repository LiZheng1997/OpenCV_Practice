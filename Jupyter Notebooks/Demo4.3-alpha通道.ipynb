{
 "cells": [
  {
   "cell_type": "markdown",
   "id": "916b154b",
   "metadata": {},
   "source": [
    "# 4.3 alpha通道"
   ]
  },
  {
   "cell_type": "code",
   "execution_count": 2,
   "id": "736442a7",
   "metadata": {},
   "outputs": [
    {
     "name": "stdout",
     "output_type": "stream",
     "text": [
      "img=\n",
      " [[[ 81  52 253]\n",
      "  [251  83  34]\n",
      "  [114  43 221]]\n",
      "\n",
      " [[ 91 247  85]\n",
      "  [ 62 239 253]\n",
      "  [ 26 128 150]]]\n",
      "bgra=\n",
      " [[[ 81  52 253 255]\n",
      "  [251  83  34 255]\n",
      "  [114  43 221 255]]\n",
      "\n",
      " [[ 91 247  85 255]\n",
      "  [ 62 239 253 255]\n",
      "  [ 26 128 150 255]]]\n",
      "a=\n",
      " [[255 255 255]\n",
      " [255 255 255]]\n",
      "bgra=\n",
      " [[[ 81  52 253 125]\n",
      "  [251  83  34 125]\n",
      "  [114  43 221 125]]\n",
      "\n",
      " [[ 91 247  85 125]\n",
      "  [ 62 239 253 125]\n",
      "  [ 26 128 150 125]]]\n"
     ]
    }
   ],
   "source": [
    "import cv2\n",
    "\n",
    "import numpy as np\n",
    "\n",
    "img=np.random.randint(0,256,size=[2,3,3],dtype=np.uint8)\n",
    "\n",
    "bgra=cv2.cvtColor(img,cv2.COLOR_BGR2BGRA)\n",
    "\n",
    "print(\"img=\\n\",img)\n",
    "\n",
    "print(\"bgra=\\n\",bgra)\n",
    "\n",
    "b,g,r,a=cv2.split(bgra)\n",
    "\n",
    "print(\"a=\\n\",a)\n",
    "\n",
    "a[:,:]=125\n",
    "\n",
    "bgra=cv2.merge([b,g,r,a])\n",
    "\n",
    "print(\"bgra=\\n\",bgra)"
   ]
  },
  {
   "cell_type": "code",
   "execution_count": 4,
   "id": "ed25139b",
   "metadata": {},
   "outputs": [
    {
     "data": {
      "text/plain": [
       "True"
      ]
     },
     "execution_count": 4,
     "metadata": {},
     "output_type": "execute_result"
    }
   ],
   "source": [
    "img=cv2.imread(\"../images/lenacolor.png\")\n",
    "\n",
    "bgra=cv2.cvtColor(img,cv2.COLOR_BGR2BGRA)\n",
    "\n",
    "b,g,r,a=cv2.split(bgra)\n",
    "\n",
    "a[:,:]=125\n",
    "\n",
    "bgra125=cv2.merge([b,g,r,a])\n",
    "\n",
    "a[:,:]=0\n",
    "\n",
    "bgra0=cv2.merge([b,g,r,a])\n",
    "\n",
    "cv2.imshow(\"img\",img)\n",
    "\n",
    "cv2.imshow(\"bgra\",bgra)\n",
    "\n",
    "cv2.imshow(\"bgra125\",bgra125)\n",
    "\n",
    "cv2.imshow(\"bgra0\",bgra0)\n",
    "\n",
    "cv2.waitKey()\n",
    "\n",
    "cv2.destroyAllWindows()\n",
    "\n",
    "cv2.imwrite(\"bgra.png\",bgra)\n",
    "\n",
    "cv2.imwrite(\"bgra125.png\",bgra125)\n",
    "\n",
    "cv2.imwrite(\"bgra0.png\",bgra0)"
   ]
  },
  {
   "cell_type": "code",
   "execution_count": null,
   "id": "20ba3798",
   "metadata": {},
   "outputs": [],
   "source": []
  }
 ],
 "metadata": {
  "kernelspec": {
   "display_name": "Python 3",
   "language": "python",
   "name": "python3"
  },
  "language_info": {
   "codemirror_mode": {
    "name": "ipython",
    "version": 3
   },
   "file_extension": ".py",
   "mimetype": "text/x-python",
   "name": "python",
   "nbconvert_exporter": "python",
   "pygments_lexer": "ipython3",
   "version": "3.7.16"
  }
 },
 "nbformat": 4,
 "nbformat_minor": 5
}
