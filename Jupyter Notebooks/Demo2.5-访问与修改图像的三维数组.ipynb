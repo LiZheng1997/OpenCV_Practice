{
 "cells": [
  {
   "cell_type": "markdown",
   "id": "3d27e1b8",
   "metadata": {},
   "source": [
    "# 2.5 访问与修改图像的三维数组"
   ]
  },
  {
   "cell_type": "code",
   "execution_count": 2,
   "id": "04b2d537",
   "metadata": {},
   "outputs": [
    {
     "name": "stdout",
     "output_type": "stream",
     "text": [
      "img=\n",
      " [[[0 0 0]\n",
      "  [0 0 0]\n",
      "  [0 0 0]\n",
      "  [0 0 0]]\n",
      "\n",
      " [[0 0 0]\n",
      "  [0 0 0]\n",
      "  [0 0 0]\n",
      "  [0 0 0]]]\n",
      "读取像素点[0,3]= [0 0 0]\n",
      "读取像素点[1,2,2]= 0\n",
      "修改后img\n",
      " [[[ 66  77  88]\n",
      "  [  0   0   0]\n",
      "  [  5   0   0]\n",
      "  [255 255 255]]\n",
      "\n",
      " [[  0   0   0]\n",
      "  [  0   3   0]\n",
      "  [  0   0   4]\n",
      "  [  0   0   0]]]\n",
      "读取修改后像素点img[1,2,2]= 4\n"
     ]
    }
   ],
   "source": [
    "import numpy as np\n",
    "img = np.zeros((2,4,3), dtype=np.uint8)\n",
    "print(\"img=\\n\", img)\n",
    "print(\"读取像素点[0,3]=\", img[0,3])\n",
    "print(\"读取像素点[1,2,2]=\", img[1,2,2])\n",
    "img[0, 3]=255\n",
    "img[0, 0]=[66, 77, 88]\n",
    "img[1, 2, 2] = 4\n",
    "img[1, 1, 1] = 3\n",
    "img[0, 2, 0] = 5\n",
    "print(\"修改后img\\n\", img)\n",
    "print(\"读取修改后像素点img[1,2,2]=\", img[1,2,2])\n"
   ]
  },
  {
   "cell_type": "markdown",
   "id": "082019bf",
   "metadata": {},
   "source": [
    "通过以上代码，我们可以看到如何对一个三维数组的图像矩阵进行读写和修改"
   ]
  }
 ],
 "metadata": {
  "kernelspec": {
   "display_name": "Python 3",
   "language": "python",
   "name": "python3"
  },
  "language_info": {
   "codemirror_mode": {
    "name": "ipython",
    "version": 3
   },
   "file_extension": ".py",
   "mimetype": "text/x-python",
   "name": "python",
   "nbconvert_exporter": "python",
   "pygments_lexer": "ipython3",
   "version": "3.7.16"
  }
 },
 "nbformat": 4,
 "nbformat_minor": 5
}
