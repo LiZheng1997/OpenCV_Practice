{
 "cells": [
  {
   "cell_type": "markdown",
   "id": "9634015a",
   "metadata": {},
   "source": [
    "# 7.1 图像平滑处理-均值滤波"
   ]
  },
  {
   "cell_type": "code",
   "execution_count": 1,
   "id": "3b1a1fd5",
   "metadata": {},
   "outputs": [],
   "source": [
    "import cv2\n",
    "\n",
    "o=cv2.imread(\"../images/lenacolor.png\") #读取待处理图像\n",
    "\n",
    "r=cv2.blur(o,(5,5))#使用blur函数处理\n",
    "\n",
    "cv2.imshow(\"original\",o)\n",
    "\n",
    "cv2.imshow(\"result\",r)\n",
    "\n",
    "cv2.waitKey()\n",
    "\n",
    "cv2.destroyAllWindows()"
   ]
  },
  {
   "cell_type": "code",
   "execution_count": 2,
   "id": "cd3217aa",
   "metadata": {},
   "outputs": [],
   "source": [
    "o=cv2.imread(\"../images/lenacolor.png\")\n",
    "\n",
    "r5=cv2.blur(o,(5,5))\n",
    "\n",
    "r30=cv2.blur(o,(30,30))\n",
    "\n",
    "cv2.imshow(\"original\",o)\n",
    "\n",
    "cv2.imshow(\"result5\",r5)\n",
    "\n",
    "cv2.imshow(\"result30\",r30)\n",
    "\n",
    "cv2.waitKey()\n",
    "\n",
    "cv2.destroyAllWindows()"
   ]
  }
 ],
 "metadata": {
  "kernelspec": {
   "display_name": "Python 3",
   "language": "python",
   "name": "python3"
  },
  "language_info": {
   "codemirror_mode": {
    "name": "ipython",
    "version": 3
   },
   "file_extension": ".py",
   "mimetype": "text/x-python",
   "name": "python",
   "nbconvert_exporter": "python",
   "pygments_lexer": "ipython3",
   "version": "3.7.16"
  }
 },
 "nbformat": 4,
 "nbformat_minor": 5
}
