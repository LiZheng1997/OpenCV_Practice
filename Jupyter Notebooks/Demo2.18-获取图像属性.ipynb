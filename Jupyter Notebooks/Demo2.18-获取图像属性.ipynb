{
 "cells": [
  {
   "cell_type": "markdown",
   "id": "dc6ea78c",
   "metadata": {},
   "source": [
    "# 2.18 获取图像属性"
   ]
  },
  {
   "cell_type": "code",
   "execution_count": 1,
   "id": "35b9ba14",
   "metadata": {},
   "outputs": [
    {
     "name": "stdout",
     "output_type": "stream",
     "text": [
      "图像gray的属性\n",
      "(512, 512)\n",
      "262144\n",
      "uint8\n",
      "图像color的属性\n",
      "(512, 512, 3)\n",
      "786432\n",
      "uint8\n"
     ]
    }
   ],
   "source": [
    "import cv2 as cv\n",
    "\n",
    "gray=cv.imread(\"../images/lena.bmp\",0)\n",
    "color=cv.imread(\"../images/lenacolor.png\")\n",
    "print(\"图像gray的属性\")\n",
    "print(gray.shape)\n",
    "print(gray.size)\n",
    "print(gray.dtype)\n",
    "\n",
    "print(\"图像color的属性\")\n",
    "print(color.shape)\n",
    "print(color.size)\n",
    "print(color.dtype)\n",
    "\n",
    "\n",
    "cv.waitKey()\n",
    "cv.destroyAllWindows()"
   ]
  },
  {
   "cell_type": "markdown",
   "id": "7ae88fcc",
   "metadata": {},
   "source": [
    "**使用图像的几个常用属性**\n",
    "1. shape返回彩色图像的行列以及通道数的数组\n",
    "2. size返回图像的像素数目\n",
    "3. dtype返回图像的数据类型"
   ]
  },
  {
   "cell_type": "code",
   "execution_count": null,
   "id": "c22421a3",
   "metadata": {},
   "outputs": [],
   "source": []
  }
 ],
 "metadata": {
  "kernelspec": {
   "display_name": "Python 3",
   "language": "python",
   "name": "python3"
  },
  "language_info": {
   "codemirror_mode": {
    "name": "ipython",
    "version": 3
   },
   "file_extension": ".py",
   "mimetype": "text/x-python",
   "name": "python",
   "nbconvert_exporter": "python",
   "pygments_lexer": "ipython3",
   "version": "3.7.16"
  }
 },
 "nbformat": 4,
 "nbformat_minor": 5
}
