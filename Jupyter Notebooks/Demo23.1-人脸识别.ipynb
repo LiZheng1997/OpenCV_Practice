{
 "cells": [
  {
   "cell_type": "markdown",
   "id": "08569c4a",
   "metadata": {},
   "source": [
    "# 23.1 人脸识别"
   ]
  },
  {
   "cell_type": "code",
   "execution_count": null,
   "id": "c04e82fa",
   "metadata": {},
   "outputs": [],
   "source": [
    "import  cv2 as cv\n",
    "\n",
    "image = cv.imread(\"../images/lena.bmp\")\n",
    "\n",
    "faceCascade = cv.CascadeClassifier('/home/lizheng/opencv/data/haarcascades/haarcascade_frontalface_alt.xml')\n",
    "\n",
    "gray = cv.cvtColor(image, cv.COLOR_BGR2GRAY)\n",
    "\n",
    "faces = faceCascade.detectMultiScale(gray,scaleFactor = 1.15,minNeighbors = 5,minSize = (5,5))\n",
    "\n",
    "print(faces)\n",
    "\n",
    "print(\"detect {0} faces!\" .format(len(faces)))\n",
    "\n",
    "for(x,y,w,h) in faces:\n",
    "\tcv.circle(image, (int((x+x+w)/2), int((y+y+h)/2)), int(w/2), (0,255,0), 2)\n",
    "\n",
    "cv.imshow(\"dect\", image)\n",
    "\n",
    "cv.imwrite(\"re.jpg\", image)\n",
    "\n",
    "cv.waitKey()\n",
    "\n",
    "cap.release()\n",
    "cv.destroyAllWindows()"
   ]
  },
  {
   "cell_type": "markdown",
   "id": "033009e4",
   "metadata": {},
   "source": [
    "# LBPH人脸识别"
   ]
  },
  {
   "cell_type": "code",
   "execution_count": 3,
   "id": "9fd9122d",
   "metadata": {},
   "outputs": [
    {
     "name": "stdout",
     "output_type": "stream",
     "text": [
      "label= 0\n",
      "confidence= 49.032890299944135\n"
     ]
    }
   ],
   "source": [
    "import cv2\n",
    "\n",
    "import numpy as np\n",
    "\n",
    "images=[]\n",
    "\n",
    "images.append(cv2.imread(\"../images/a1.png\",cv2.IMREAD_GRAYSCALE))\n",
    "\n",
    "images.append(cv2.imread(\"../images/a2.png\",cv2.IMREAD_GRAYSCALE))\n",
    "\n",
    "images.append(cv2.imread(\"../images/b1.png\",cv2.IMREAD_GRAYSCALE))\n",
    "\n",
    "images.append(cv2.imread(\"../images/b2.png\",cv2.IMREAD_GRAYSCALE))\n",
    "\n",
    "labels=[0,0,1,1]\n",
    "\n",
    "#print(labels)\n",
    "\n",
    "recognizer=cv2.face.LBPHFaceRecognizer_create()\n",
    "\n",
    "recognizer.train(images,np.array(labels))\n",
    "\n",
    "predict_image=cv2.imread(\"../images/a3.png\",cv2.IMREAD_GRAYSCALE)\n",
    "\n",
    "label,confidence=recognizer.predict(predict_image)\n",
    "\n",
    "print(\"label=\",label)\n",
    "\n",
    "print(\"confidence=\",confidence)"
   ]
  },
  {
   "cell_type": "markdown",
   "id": "4d8020cb",
   "metadata": {},
   "source": [
    "#  EigenFaces人脸识别"
   ]
  },
  {
   "cell_type": "code",
   "execution_count": 5,
   "id": "a2879685",
   "metadata": {},
   "outputs": [
    {
     "ename": "error",
     "evalue": "OpenCV(3.4.3) /io/opencv_contrib/modules/face/src/eigen_faces.cpp:72: error: (-210:Unsupported format or combination of formats) In the Eigenfaces method all input samples (training images) must be of equal size! Expected 15933 pixels, but was 16330 pixels. in function 'train'\n",
     "output_type": "error",
     "traceback": [
      "\u001b[0;31m---------------------------------------------------------------------------\u001b[0m",
      "\u001b[0;31merror\u001b[0m                                     Traceback (most recent call last)",
      "\u001b[0;32m/tmp/ipykernel_20287/2798392832.py\u001b[0m in \u001b[0;36m<module>\u001b[0;34m\u001b[0m\n\u001b[1;32m     19\u001b[0m \u001b[0mrecognizer\u001b[0m\u001b[0;34m=\u001b[0m\u001b[0mcv2\u001b[0m\u001b[0;34m.\u001b[0m\u001b[0mface\u001b[0m\u001b[0;34m.\u001b[0m\u001b[0mEigenFaceRecognizer_create\u001b[0m\u001b[0;34m(\u001b[0m\u001b[0;34m)\u001b[0m\u001b[0;34m\u001b[0m\u001b[0;34m\u001b[0m\u001b[0m\n\u001b[1;32m     20\u001b[0m \u001b[0;34m\u001b[0m\u001b[0m\n\u001b[0;32m---> 21\u001b[0;31m \u001b[0mrecognizer\u001b[0m\u001b[0;34m.\u001b[0m\u001b[0mtrain\u001b[0m\u001b[0;34m(\u001b[0m\u001b[0mimages\u001b[0m\u001b[0;34m,\u001b[0m\u001b[0mnp\u001b[0m\u001b[0;34m.\u001b[0m\u001b[0marray\u001b[0m\u001b[0;34m(\u001b[0m\u001b[0mlabels\u001b[0m\u001b[0;34m)\u001b[0m\u001b[0;34m)\u001b[0m\u001b[0;34m\u001b[0m\u001b[0;34m\u001b[0m\u001b[0m\n\u001b[0m\u001b[1;32m     22\u001b[0m \u001b[0;34m\u001b[0m\u001b[0m\n\u001b[1;32m     23\u001b[0m \u001b[0mpredict_image\u001b[0m\u001b[0;34m=\u001b[0m\u001b[0mcv2\u001b[0m\u001b[0;34m.\u001b[0m\u001b[0mimread\u001b[0m\u001b[0;34m(\u001b[0m\u001b[0;34m\"../images/eTest.png\"\u001b[0m\u001b[0;34m,\u001b[0m\u001b[0mcv2\u001b[0m\u001b[0;34m.\u001b[0m\u001b[0mIMREAD_GRAYSCALE\u001b[0m\u001b[0;34m)\u001b[0m\u001b[0;34m\u001b[0m\u001b[0;34m\u001b[0m\u001b[0m\n",
      "\u001b[0;31merror\u001b[0m: OpenCV(3.4.3) /io/opencv_contrib/modules/face/src/eigen_faces.cpp:72: error: (-210:Unsupported format or combination of formats) In the Eigenfaces method all input samples (training images) must be of equal size! Expected 15933 pixels, but was 16330 pixels. in function 'train'\n"
     ]
    }
   ],
   "source": [
    "import cv2\n",
    "\n",
    "import numpy as np\n",
    "\n",
    "images=[]\n",
    "\n",
    "images.append(cv2.imread(\"../images/e01.png\",cv2.IMREAD_GRAYSCALE))\n",
    "\n",
    "images.append(cv2.imread(\"../images/e02.png\",cv2.IMREAD_GRAYSCALE))\n",
    "\n",
    "images.append(cv2.imread(\"../images/e11.png\",cv2.IMREAD_GRAYSCALE))\n",
    "\n",
    "images.append(cv2.imread(\"../images/e12.png\",cv2.IMREAD_GRAYSCALE))\n",
    "\n",
    "labels=[0,0,1,1]\n",
    "\n",
    "#print(labels)\n",
    "\n",
    "recognizer=cv2.face.EigenFaceRecognizer_create()\n",
    "\n",
    "recognizer.train(images,np.array(labels))\n",
    "\n",
    "predict_image=cv2.imread(\"../images/eTest.png\",cv2.IMREAD_GRAYSCALE)\n",
    "\n",
    "label,confidence=recognizer.predict(predict_image)\n",
    "\n",
    "print(\"label=\",label)\n",
    "\n",
    "print(\"confidence=\",confidence)"
   ]
  },
  {
   "cell_type": "markdown",
   "id": "ac1ee658",
   "metadata": {},
   "source": [
    "# Fisherfaces人脸识别"
   ]
  },
  {
   "cell_type": "code",
   "execution_count": 6,
   "id": "54dfd9ea",
   "metadata": {},
   "outputs": [
    {
     "ename": "error",
     "evalue": "OpenCV(3.4.3) /io/opencv_contrib/modules/face/src/fisher_faces.cpp:81: error: (-210:Unsupported format or combination of formats) In the Fisherfaces method all input samples (training images) must be of equal size! Expected 15255 pixels, but was 15120 pixels. in function 'train'\n",
     "output_type": "error",
     "traceback": [
      "\u001b[0;31m---------------------------------------------------------------------------\u001b[0m",
      "\u001b[0;31merror\u001b[0m                                     Traceback (most recent call last)",
      "\u001b[0;32m/tmp/ipykernel_20287/913488451.py\u001b[0m in \u001b[0;36m<module>\u001b[0;34m\u001b[0m\n\u001b[1;32m     19\u001b[0m \u001b[0mrecognizer\u001b[0m\u001b[0;34m=\u001b[0m\u001b[0mcv2\u001b[0m\u001b[0;34m.\u001b[0m\u001b[0mface\u001b[0m\u001b[0;34m.\u001b[0m\u001b[0mFisherFaceRecognizer_create\u001b[0m\u001b[0;34m(\u001b[0m\u001b[0;34m)\u001b[0m\u001b[0;34m\u001b[0m\u001b[0;34m\u001b[0m\u001b[0m\n\u001b[1;32m     20\u001b[0m \u001b[0;34m\u001b[0m\u001b[0m\n\u001b[0;32m---> 21\u001b[0;31m \u001b[0mrecognizer\u001b[0m\u001b[0;34m.\u001b[0m\u001b[0mtrain\u001b[0m\u001b[0;34m(\u001b[0m\u001b[0mimages\u001b[0m\u001b[0;34m,\u001b[0m\u001b[0mnp\u001b[0m\u001b[0;34m.\u001b[0m\u001b[0marray\u001b[0m\u001b[0;34m(\u001b[0m\u001b[0mlabels\u001b[0m\u001b[0;34m)\u001b[0m\u001b[0;34m)\u001b[0m\u001b[0;34m\u001b[0m\u001b[0;34m\u001b[0m\u001b[0m\n\u001b[0m\u001b[1;32m     22\u001b[0m \u001b[0;34m\u001b[0m\u001b[0m\n\u001b[1;32m     23\u001b[0m \u001b[0mpredict_image\u001b[0m\u001b[0;34m=\u001b[0m\u001b[0mcv2\u001b[0m\u001b[0;34m.\u001b[0m\u001b[0mimread\u001b[0m\u001b[0;34m(\u001b[0m\u001b[0;34m\"../images/fTest.png\"\u001b[0m\u001b[0;34m,\u001b[0m\u001b[0mcv2\u001b[0m\u001b[0;34m.\u001b[0m\u001b[0mIMREAD_GRAYSCALE\u001b[0m\u001b[0;34m)\u001b[0m\u001b[0;34m\u001b[0m\u001b[0;34m\u001b[0m\u001b[0m\n",
      "\u001b[0;31merror\u001b[0m: OpenCV(3.4.3) /io/opencv_contrib/modules/face/src/fisher_faces.cpp:81: error: (-210:Unsupported format or combination of formats) In the Fisherfaces method all input samples (training images) must be of equal size! Expected 15255 pixels, but was 15120 pixels. in function 'train'\n"
     ]
    }
   ],
   "source": [
    "import cv2\n",
    "\n",
    "import numpy as np\n",
    "\n",
    "images=[]\n",
    "\n",
    "images.append(cv2.imread(\"../images/f01.png\",cv2.IMREAD_GRAYSCALE))\n",
    "\n",
    "images.append(cv2.imread(\"../images/f02.png\",cv2.IMREAD_GRAYSCALE))\n",
    "\n",
    "images.append(cv2.imread(\"../images/f11.png\",cv2.IMREAD_GRAYSCALE))\n",
    "\n",
    "images.append(cv2.imread(\"../images/f12.png\",cv2.IMREAD_GRAYSCALE))\n",
    "\n",
    "labels=[0,0,1,1]\n",
    "\n",
    "#print(labels)\n",
    "\n",
    "recognizer=cv2.face.FisherFaceRecognizer_create()\n",
    "\n",
    "recognizer.train(images,np.array(labels))\n",
    "\n",
    "predict_image=cv2.imread(\"../images/fTest.png\",cv2.IMREAD_GRAYSCALE)\n",
    "\n",
    "label,confidence=recognizer.predict(predict_image)\n",
    "\n",
    "print(\"label=\",label)\n",
    "\n",
    "print(\"confidence=\",confidence)"
   ]
  },
  {
   "cell_type": "code",
   "execution_count": null,
   "id": "2529a5b0",
   "metadata": {},
   "outputs": [],
   "source": []
  }
 ],
 "metadata": {
  "kernelspec": {
   "display_name": "Python 3",
   "language": "python",
   "name": "python3"
  },
  "language_info": {
   "codemirror_mode": {
    "name": "ipython",
    "version": 3
   },
   "file_extension": ".py",
   "mimetype": "text/x-python",
   "name": "python",
   "nbconvert_exporter": "python",
   "pygments_lexer": "ipython3",
   "version": "3.7.16"
  }
 },
 "nbformat": 4,
 "nbformat_minor": 5
}
