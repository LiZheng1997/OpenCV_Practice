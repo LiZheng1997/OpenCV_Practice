{
 "cells": [
  {
   "cell_type": "markdown",
   "id": "5206937a",
   "metadata": {},
   "source": [
    "# 3.11 数字水印"
   ]
  },
  {
   "cell_type": "code",
   "execution_count": 5,
   "id": "d8e4e039",
   "metadata": {},
   "outputs": [
    {
     "name": "stdout",
     "output_type": "stream",
     "text": [
      "[[1 1 1 ... 1 1 1]\n",
      " [1 1 1 ... 1 1 1]\n",
      " [1 1 1 ... 1 1 1]\n",
      " ...\n",
      " [1 1 1 ... 1 1 1]\n",
      " [1 1 1 ... 1 1 1]\n",
      " [1 1 1 ... 1 1 1]]\n"
     ]
    }
   ],
   "source": [
    "import cv2\n",
    "\n",
    "import numpy as np\n",
    "\n",
    "#读取原始载体图像\n",
    "\n",
    "lena=cv2.imread(\"../images/lena.bmp\",0)\n",
    "\n",
    "#读取水印图像\n",
    "\n",
    "watermark=cv2.imread(\"../images/lena.bmp\",0)\n",
    "\n",
    "#将水印图像内的值255处理为1，以方便嵌入\n",
    "\n",
    "#后续章节会介绍使用threshold处理\n",
    "\n",
    "w=watermark[:,:]>0\n",
    "\n",
    "watermark[w]=1\n",
    "\n",
    "#读取原始载体图像的shape值\n",
    "\n",
    "r,c=lena.shape\n",
    "\n",
    "#============嵌入过程============\n",
    "\n",
    "#生成元素值都是254的数组\n",
    "\n",
    "t254=np.ones((r,c),dtype=np.uint8)*254\n",
    "\n",
    "#获取lena图像的高七位\n",
    "\n",
    "lenaH7=cv2.bitwise_and(lena,t254)\n",
    "\n",
    "#将watermark嵌入lenaH7内\n",
    "\n",
    "e=cv2.bitwise_or(lenaH7,watermark)\n",
    "\n",
    "#============提取过程============\n",
    "\n",
    "#生成元素值都是1的数组\n",
    "\n",
    "t1=np.ones((r,c),dtype=np.uint8)\n",
    "\n",
    "#从载体图像内提取水印图像\n",
    "\n",
    "wm=cv2.bitwise_and(e,t1)\n",
    "\n",
    "print(wm)\n",
    "\n",
    "#将水印图像内的值1处理为255，以方便显示\n",
    "\n",
    "#后续章节会介绍使用threshold实现\n",
    "\n",
    "w=wm[:,:]>0\n",
    "\n",
    "wm[w]=255\n",
    "\n",
    "#============显示============\n",
    "\n",
    "cv2.imshow(\"lena\",lena)\n",
    "\n",
    "cv2.imshow(\"watermark\",watermark*255) #当前watermark内最大值为1\n",
    "\n",
    "cv2.imshow(\"e\",e)\n",
    "\n",
    "cv2.imshow(\"wm\",wm)\n",
    "\n",
    "cv2.waitKey()\n",
    "cv2.destroyAllWindows()"
   ]
  },
  {
   "cell_type": "code",
   "execution_count": null,
   "id": "8e28f3fa",
   "metadata": {},
   "outputs": [],
   "source": []
  }
 ],
 "metadata": {
  "kernelspec": {
   "display_name": "Python 3",
   "language": "python",
   "name": "python3"
  },
  "language_info": {
   "codemirror_mode": {
    "name": "ipython",
    "version": 3
   },
   "file_extension": ".py",
   "mimetype": "text/x-python",
   "name": "python",
   "nbconvert_exporter": "python",
   "pygments_lexer": "ipython3",
   "version": "3.7.16"
  }
 },
 "nbformat": 4,
 "nbformat_minor": 5
}
