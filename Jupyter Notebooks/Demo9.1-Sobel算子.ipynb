{
 "cells": [
  {
   "cell_type": "markdown",
   "id": "a55f2eb6",
   "metadata": {},
   "source": [
    "# 9.1 Sobel算子"
   ]
  },
  {
   "cell_type": "code",
   "execution_count": 1,
   "id": "bea4a772",
   "metadata": {},
   "outputs": [
    {
     "name": "stdout",
     "output_type": "stream",
     "text": [
      "img=\n",
      " [[ 210   88  252    4 -170]\n",
      " [-215  -23 -153  -39 -227]\n",
      " [-187 -213  -94 -178 -212]\n",
      " [-145   -3  168  -79   47]]\n",
      "rst=\n",
      " [[210  88 252   4 170]\n",
      " [215  23 153  39 227]\n",
      " [187 213  94 178 212]\n",
      " [145   3 168  79  47]]\n"
     ]
    }
   ],
   "source": [
    "import cv2\n",
    "import numpy as np\n",
    "img=np.random.randint(-256,256,size=[4,5],dtype=np.int16)\n",
    "rst=cv2.convertScaleAbs(img)\n",
    "print(\"img=\\n\",img)\n",
    "print(\"rst=\\n\",rst)\n",
    "cv2.imshow('rst',rst)\n",
    "\n",
    "cv2.waitKey()\n",
    "cv2.destroyAllWindows()"
   ]
  },
  {
   "cell_type": "code",
   "execution_count": 2,
   "id": "3cefba0d",
   "metadata": {},
   "outputs": [],
   "source": [
    "import cv2\n",
    "\n",
    "\n",
    "o=cv2.imread('../images/sobel.png',cv2.IMREAD_GRAYSCALE)\n",
    "\n",
    "Sobelx=cv2.Sobel(o,-1,1,0)\n",
    "\n",
    "cv2.imshow(\"original\",o)\n",
    "\n",
    "cv2.imshow(\"x\",Sobelx)\n",
    "\n",
    "cv2.waitKey()\n",
    "\n",
    "cv2.destroyAllWindows()"
   ]
  },
  {
   "cell_type": "code",
   "execution_count": 3,
   "id": "4a37351c",
   "metadata": {},
   "outputs": [],
   "source": [
    "import cv2\n",
    "\n",
    "\n",
    "o=cv2.imread('../images/sobel.png',cv2.IMREAD_GRAYSCALE)\n",
    "\n",
    "Sobelx=cv2.Sobel(o,cv2.CV_64F,1,0)\n",
    "\n",
    "Sobelx=cv2.convertScaleAbs(Sobelx)\n",
    "\n",
    "cv2.imshow(\"original\",o)\n",
    "\n",
    "cv2.imshow(\"x\",Sobelx)\n",
    "\n",
    "cv2.waitKey()\n",
    "\n",
    "cv2.destroyAllWindows()"
   ]
  },
  {
   "cell_type": "code",
   "execution_count": 4,
   "id": "4f63fbcd",
   "metadata": {},
   "outputs": [],
   "source": [
    "import cv2\n",
    "\n",
    "\n",
    "o=cv2.imread('../images/sobel.png',cv2.IMREAD_GRAYSCALE)\n",
    "\n",
    "Sobelx=cv2.Sobel(o,cv2.CV_64F,0,1)\n",
    "\n",
    "Sobelx=cv2.convertScaleAbs(Sobelx)\n",
    "\n",
    "cv2.imshow(\"original\",o)\n",
    "\n",
    "cv2.imshow(\"x\",Sobelx)\n",
    "\n",
    "cv2.waitKey()\n",
    "\n",
    "cv2.destroyAllWindows()"
   ]
  },
  {
   "cell_type": "code",
   "execution_count": 5,
   "id": "1ad459d4",
   "metadata": {},
   "outputs": [],
   "source": [
    "import cv2\n",
    "\n",
    "\n",
    "o=cv2.imread('../images/sobel.png',cv2.IMREAD_GRAYSCALE)\n",
    "\n",
    "Sobelx=cv2.Sobel(o,cv2.CV_64F,1,1)\n",
    "\n",
    "Sobelx=cv2.convertScaleAbs(Sobelx)\n",
    "\n",
    "cv2.imshow(\"original\",o)\n",
    "\n",
    "cv2.imshow(\"x\",Sobelx)\n",
    "\n",
    "cv2.waitKey()\n",
    "\n",
    "cv2.destroyAllWindows()"
   ]
  },
  {
   "cell_type": "code",
   "execution_count": 6,
   "id": "c526e689",
   "metadata": {},
   "outputs": [],
   "source": [
    "import cv2\n",
    "\n",
    "o=cv2.imread('../images/sobel.png',cv2.IMREAD_GRAYSCALE)\n",
    "\n",
    "Sobelx=cv2.Sobel(o,cv2.CV_64F,1,0)\n",
    "\n",
    "Sobely=cv2.Sobel(o,cv2.CV_64F,0,1)\n",
    "\n",
    "Sobelx=cv2.convertScaleAbs(Sobelx)\n",
    "\n",
    "Sobely=cv2.convertScaleAbs(Sobely)\n",
    "\n",
    "Sobelxy=cv2.addWeighted(Sobelx,0.5,Sobely,0.5,0)\n",
    "\n",
    "cv2.imshow(\"original\",o)\n",
    "\n",
    "cv2.imshow(\"xy\",Sobelxy)\n",
    "\n",
    "cv2.waitKey()\n",
    "\n",
    "cv2.destroyAllWindows()"
   ]
  },
  {
   "cell_type": "code",
   "execution_count": 7,
   "id": "c97c9871",
   "metadata": {},
   "outputs": [],
   "source": [
    "import cv2\n",
    "o=cv2.imread('../images/lena.bmp',cv2.IMREAD_GRAYSCALE)\n",
    "Sobelx=cv2.Sobel(o,cv2.CV_64F,1,0)\n",
    "Sobely=cv2.Sobel(o,cv2.CV_64F,0,1)\n",
    "Sobelx=cv2.convertScaleAbs(Sobelx)\n",
    "Sobely=cv2.convertScaleAbs(Sobely)\n",
    "Sobelxy=cv2.addWeighted(Sobelx,0.5,Sobely,0.5,0)\n",
    "Sobelxy11=cv2.Sobel(o,cv2.CV_64F,1,1)\n",
    "Sobelxy11=cv2.convertScaleAbs(Sobelxy11)\n",
    "cv2.imshow(\"original\",o)\n",
    "cv2.imshow(\"xy\",Sobelxy)\n",
    "cv2.imshow(\"xy11\",Sobelxy11)\n",
    "cv2.waitKey()\n",
    "cv2.destroyAllWindows()"
   ]
  },
  {
   "cell_type": "code",
   "execution_count": null,
   "id": "a9193a18",
   "metadata": {},
   "outputs": [],
   "source": []
  }
 ],
 "metadata": {
  "kernelspec": {
   "display_name": "Python 3",
   "language": "python",
   "name": "python3"
  },
  "language_info": {
   "codemirror_mode": {
    "name": "ipython",
    "version": 3
   },
   "file_extension": ".py",
   "mimetype": "text/x-python",
   "name": "python",
   "nbconvert_exporter": "python",
   "pygments_lexer": "ipython3",
   "version": "3.7.16"
  }
 },
 "nbformat": 4,
 "nbformat_minor": 5
}
