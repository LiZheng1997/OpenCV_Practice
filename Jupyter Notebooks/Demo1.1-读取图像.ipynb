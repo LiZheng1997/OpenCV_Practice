{
 "cells": [
  {
   "cell_type": "markdown",
   "id": "f658ac42",
   "metadata": {},
   "source": [
    "# 1.1 读取图像 Read an Image"
   ]
  },
  {
   "cell_type": "code",
   "execution_count": 1,
   "id": "2fc64ff7",
   "metadata": {},
   "outputs": [],
   "source": [
    "import cv2"
   ]
  },
  {
   "attachments": {},
   "cell_type": "markdown",
   "id": "44745f13",
   "metadata": {},
   "source": [
    "读取图像使用imread()函数, retval=cv2.imread(filename[,flags])\n",
    "1. filename表示要读取的图像的完整文件名\n",
    "2. flags是读取标记。该标记用来控制读取文件的类型\n",
    "flags是读取标记，用来标记读取的文件的类型，\n",
    "![imread_flags](../images/imread_flags.jpeg)\n",
    "![imread_flags02](../images/imread_flags02.jpeg)"
   ]
  },
  {
   "cell_type": "code",
   "execution_count": 2,
   "id": "78d301f1",
   "metadata": {},
   "outputs": [],
   "source": [
    "lena=cv2.imread(\"../images/lenacolor.png\")"
   ]
  },
  {
   "cell_type": "code",
   "execution_count": 3,
   "id": "a33f500c",
   "metadata": {},
   "outputs": [
    {
     "name": "stdout",
     "output_type": "stream",
     "text": [
      "[[[125 137 226]\n",
      "  [125 137 226]\n",
      "  [133 137 223]\n",
      "  ...\n",
      "  [122 148 230]\n",
      "  [110 130 221]\n",
      "  [ 90  99 200]]\n",
      "\n",
      " [[125 137 226]\n",
      "  [125 137 226]\n",
      "  [133 137 223]\n",
      "  ...\n",
      "  [122 148 230]\n",
      "  [110 130 221]\n",
      "  [ 90  99 200]]\n",
      "\n",
      " [[125 137 226]\n",
      "  [125 137 226]\n",
      "  [133 137 223]\n",
      "  ...\n",
      "  [122 148 230]\n",
      "  [110 130 221]\n",
      "  [ 90  99 200]]\n",
      "\n",
      " ...\n",
      "\n",
      " [[ 60  18  84]\n",
      "  [ 60  18  84]\n",
      "  [ 58  27  92]\n",
      "  ...\n",
      "  [ 84  73 173]\n",
      "  [ 76  68 172]\n",
      "  [ 79  62 177]]\n",
      "\n",
      " [[ 57  22  82]\n",
      "  [ 57  22  82]\n",
      "  [ 62  32  96]\n",
      "  ...\n",
      "  [ 79  70 179]\n",
      "  [ 81  71 181]\n",
      "  [ 81  74 185]]\n",
      "\n",
      " [[ 57  22  83]\n",
      "  [ 57  22  82]\n",
      "  [ 62  32  96]\n",
      "  ...\n",
      "  [ 79  70 179]\n",
      "  [ 81  71 181]\n",
      "  [ 81  74 185]]]\n"
     ]
    }
   ],
   "source": [
    "print(lena)"
   ]
  }
 ],
 "metadata": {
  "kernelspec": {
   "display_name": "Python 3",
   "language": "python",
   "name": "python3"
  },
  "language_info": {
   "codemirror_mode": {
    "name": "ipython",
    "version": 3
   },
   "file_extension": ".py",
   "mimetype": "text/x-python",
   "name": "python",
   "nbconvert_exporter": "python",
   "pygments_lexer": "ipython3",
   "version": "3.7.16"
  }
 },
 "nbformat": 4,
 "nbformat_minor": 5
}
