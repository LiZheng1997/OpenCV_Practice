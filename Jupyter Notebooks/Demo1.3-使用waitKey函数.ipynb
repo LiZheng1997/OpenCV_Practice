{
 "cells": [
  {
   "cell_type": "markdown",
   "id": "e9e653db",
   "metadata": {},
   "source": [
    "# 1.3 waitKey函数"
   ]
  },
  {
   "cell_type": "code",
   "execution_count": 1,
   "id": "06c3e086",
   "metadata": {},
   "outputs": [],
   "source": [
    "import cv2"
   ]
  },
  {
   "cell_type": "markdown",
   "id": "213d7178",
   "metadata": {},
   "source": [
    "**waitKey**函数用来等待按键，当用户按下键盘后，该语句会被执行，并获取返回值。\n",
    "语法：retval=cv2.waitKey（[delay]）\n",
    "1. **retval**表示返回值。如果没有按键被按下，则返回−1；如果有按键被按下，则返回该按键的ASCII码。\n",
    "2. **delay**表示等待键盘触发的时间，单位是 ms。当该值是负数或者零时，表示无限等待。该值默认为0。"
   ]
  },
  {
   "cell_type": "code",
   "execution_count": 2,
   "id": "77b23290",
   "metadata": {},
   "outputs": [
    {
     "name": "stdout",
     "output_type": "stream",
     "text": [
      "97 is input\n"
     ]
    }
   ],
   "source": [
    "lena = cv2.imread(\"../images/lena.bmp\")\n",
    "cv2.imshow(\"demo\", lena)\n",
    "key = cv2.waitKey(0)\n",
    "if key == ord('a'):\n",
    "    print(str(key) + \" is input\")\n",
    "    cv2.imshow(\"PressA\", lena)\n",
    "elif key == ord('b'):\n",
    "    print(str(key)+\" is input\")\n",
    "    cv2.imshow(\"PressB\", lena)\n",
    "#cv2.destroyAllWindows()"
   ]
  }
 ],
 "metadata": {
  "kernelspec": {
   "display_name": "Python 3",
   "language": "python",
   "name": "python3"
  },
  "language_info": {
   "codemirror_mode": {
    "name": "ipython",
    "version": 3
   },
   "file_extension": ".py",
   "mimetype": "text/x-python",
   "name": "python",
   "nbconvert_exporter": "python",
   "pygments_lexer": "ipython3",
   "version": "3.7.16"
  }
 },
 "nbformat": 4,
 "nbformat_minor": 5
}
