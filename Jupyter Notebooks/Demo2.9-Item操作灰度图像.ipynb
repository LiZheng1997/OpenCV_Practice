{
 "cells": [
  {
   "cell_type": "markdown",
   "id": "aeaf1bbb",
   "metadata": {},
   "source": [
    "# 2.9 Item操作灰度图像"
   ]
  },
  {
   "cell_type": "code",
   "execution_count": 1,
   "id": "9ec501e7",
   "metadata": {},
   "outputs": [
    {
     "name": "stdout",
     "output_type": "stream",
     "text": [
      "读取像素点img.item(3,2)= 164\n",
      "修改后像素点img.item(3,2)= 255\n"
     ]
    }
   ],
   "source": [
    "import cv2\n",
    "img = cv2.imread(\"../images/lena.bmp\", 0)\n",
    "#测试读取，修改单个像素值\n",
    "print(\"读取像素点img.item(3,2)=\", img.item(3,2))\n",
    "img.itemset((3,2), 255)\n",
    "print(\"修改后像素点img.item(3,2)=\", img.item(3,2))\n",
    "#测试修改一个区域的像素值\n",
    "cv2.imshow(\"before\", img)\n",
    "for i in range(10,100):\n",
    "    for j in range(80,100):\n",
    "        img.itemset((i,j), 255)\n",
    "cv2.imshow(\"after\", img)\n",
    "cv2.waitKey()\n",
    "cv2.destroyAllWindows()"
   ]
  },
  {
   "cell_type": "markdown",
   "id": "b49caa57",
   "metadata": {},
   "source": [
    "使用Item,Itemset函数对像素值进行读取和修改。"
   ]
  }
 ],
 "metadata": {
  "kernelspec": {
   "display_name": "Python 3",
   "language": "python",
   "name": "python3"
  },
  "language_info": {
   "codemirror_mode": {
    "name": "ipython",
    "version": 3
   },
   "file_extension": ".py",
   "mimetype": "text/x-python",
   "name": "python",
   "nbconvert_exporter": "python",
   "pygments_lexer": "ipython3",
   "version": "3.7.16"
  }
 },
 "nbformat": 4,
 "nbformat_minor": 5
}
