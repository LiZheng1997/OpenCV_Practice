{
 "cells": [
  {
   "cell_type": "markdown",
   "id": "ffe6b5fa",
   "metadata": {},
   "source": [
    "#"
   ]
  },
  {
   "cell_type": "markdown",
   "id": "f0e8ad9b",
   "metadata": {},
   "source": [
    "# 3.8 图像与数值的运算"
   ]
  },
  {
   "cell_type": "code",
   "execution_count": 1,
   "id": "64ce5129",
   "metadata": {},
   "outputs": [
    {
     "name": "stdout",
     "output_type": "stream",
     "text": [
      "img1=\n",
      " [[3 3 3 3]\n",
      " [3 3 3 3]\n",
      " [3 3 3 3]\n",
      " [3 3 3 3]]\n",
      "img2=\n",
      " [[5 5 5 5]\n",
      " [5 5 5 5]\n",
      " [5 5 5 5]\n",
      " [5 5 5 5]]\n",
      "cv2.add（img1,img2）=\n",
      " [[8 8 8 8]\n",
      " [8 8 8 8]\n",
      " [8 8 8 8]\n",
      " [8 8 8 8]]\n",
      "cv2.add（img1,6）\n",
      " [[9 9 9 9]\n",
      " [9 9 9 9]\n",
      " [9 9 9 9]\n",
      " [9 9 9 9]]\n",
      "cv2.add（6,img2）=\n",
      " [[11 11 11 11]\n",
      " [11 11 11 11]\n",
      " [11 11 11 11]\n",
      " [11 11 11 11]]\n"
     ]
    }
   ],
   "source": [
    "import cv2\n",
    "\n",
    "import numpy as np\n",
    "\n",
    "img1=np.ones((4,4),dtype=np.uint8)*3\n",
    "\n",
    "img2=np.ones((4,4),dtype=np.uint8)*5\n",
    "\n",
    "print(\"img1=\\n\",img1)\n",
    "\n",
    "print(\"img2=\\n\",img2)\n",
    "\n",
    "img3=cv2.add(img1,img2)\n",
    "\n",
    "print(\"cv2.add（img1,img2）=\\n\",img3)\n",
    "\n",
    "img4=cv2.add(img1,6)\n",
    "\n",
    "print(\"cv2.add（img1,6）\\n\",img4)\n",
    "\n",
    "img5=cv2.add(6,img2)\n",
    "\n",
    "print(\"cv2.add（6,img2）=\\n\",img5)"
   ]
  },
  {
   "cell_type": "code",
   "execution_count": null,
   "id": "021fea50",
   "metadata": {},
   "outputs": [],
   "source": []
  }
 ],
 "metadata": {
  "kernelspec": {
   "display_name": "Python 3",
   "language": "python",
   "name": "python3"
  },
  "language_info": {
   "codemirror_mode": {
    "name": "ipython",
    "version": 3
   },
   "file_extension": ".py",
   "mimetype": "text/x-python",
   "name": "python",
   "nbconvert_exporter": "python",
   "pygments_lexer": "ipython3",
   "version": "3.7.16"
  }
 },
 "nbformat": 4,
 "nbformat_minor": 5
}
