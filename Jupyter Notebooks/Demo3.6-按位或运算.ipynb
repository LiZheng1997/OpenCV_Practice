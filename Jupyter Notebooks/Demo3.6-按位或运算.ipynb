{
 "cells": [
  {
   "cell_type": "markdown",
   "id": "50be5f80",
   "metadata": {},
   "source": [
    "# 3.6 按位或运算"
   ]
  },
  {
   "cell_type": "markdown",
   "id": "78c3b40b",
   "metadata": {},
   "source": [
    "使用cv2.bitwise_or（）函数来实现按位或运算，语法：dst=cv2.bitwise_or（src1,src2[,mask]]）\n",
    "\n",
    "● dst表示与输入值具有同样大小的array输出值。\n",
    "\n",
    "● src1表示第一个array或scalar类型的输入值。\n",
    "\n",
    "● src2表示第二个array或scalar类型的输入值。\n",
    "\n",
    "● mask表示可选操作掩码，8位单通道array值。"
   ]
  },
  {
   "cell_type": "markdown",
   "id": "c9122a4e",
   "metadata": {},
   "source": [
    "# 按位非运算"
   ]
  },
  {
   "cell_type": "markdown",
   "id": "267f2b6e",
   "metadata": {},
   "source": [
    "使用函数cv2.bitwise_not（）来实现按位取反操作，语法：dst=cv2.bitwise_not（src[,mask]]）\n",
    "\n",
    "● dst 表示与输入值具有同样大小的array输出值。\n",
    "\n",
    "● src表示array类型的输入值。\n",
    "\n",
    "● mask表示可选操作掩码，8位单通道array值。"
   ]
  },
  {
   "cell_type": "markdown",
   "id": "5a228b98",
   "metadata": {},
   "source": [
    "# 按位异或运算"
   ]
  },
  {
   "cell_type": "markdown",
   "id": "94f6f2af",
   "metadata": {},
   "source": [
    "使用函数cv2.bitwise_xor（）来实现按位异或运算，语法：dst=cv2.bitwise_xor（src1,src2[,mask]]）\n",
    "\n",
    "● dst表示与输入值具有同样大小的array输出值。\n",
    "\n",
    "● src1表示第一个array或scalar类型的输入值。\n",
    "\n",
    "● src2表示第二个array或scalar类型的输入值。\n",
    "\n",
    "● mask表示可选操作掩码，8位单通道array值。"
   ]
  },
  {
   "cell_type": "code",
   "execution_count": null,
   "id": "50cc9f2d",
   "metadata": {},
   "outputs": [],
   "source": []
  }
 ],
 "metadata": {
  "kernelspec": {
   "display_name": "Python 3",
   "language": "python",
   "name": "python3"
  },
  "language_info": {
   "codemirror_mode": {
    "name": "ipython",
    "version": 3
   },
   "file_extension": ".py",
   "mimetype": "text/x-python",
   "name": "python",
   "nbconvert_exporter": "python",
   "pygments_lexer": "ipython3",
   "version": "3.7.16"
  }
 },
 "nbformat": 4,
 "nbformat_minor": 5
}
