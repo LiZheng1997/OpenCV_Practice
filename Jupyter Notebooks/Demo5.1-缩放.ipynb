{
 "cells": [
  {
   "cell_type": "markdown",
   "id": "1fb3051a",
   "metadata": {},
   "source": [
    "# 5.1 缩放"
   ]
  },
  {
   "cell_type": "code",
   "execution_count": 1,
   "id": "8cd47cc3",
   "metadata": {},
   "outputs": [
    {
     "name": "stdout",
     "output_type": "stream",
     "text": [
      "img.shape=\n",
      " (2, 4, 3)\n",
      "img=\n",
      " [[[1 1 1]\n",
      "  [1 1 1]\n",
      "  [1 1 1]\n",
      "  [1 1 1]]\n",
      "\n",
      " [[1 1 1]\n",
      "  [1 1 1]\n",
      "  [1 1 1]\n",
      "  [1 1 1]]]\n",
      "rst.shape=\n",
      " (4, 2, 3)\n",
      "rst=\n",
      " [[[1 1 1]\n",
      "  [1 1 1]]\n",
      "\n",
      " [[1 1 1]\n",
      "  [1 1 1]]\n",
      "\n",
      " [[1 1 1]\n",
      "  [1 1 1]]\n",
      "\n",
      " [[1 1 1]\n",
      "  [1 1 1]]]\n"
     ]
    }
   ],
   "source": [
    "import cv2\n",
    "\n",
    "import numpy as np\n",
    "\n",
    "img=np.ones([2,4,3],dtype=np.uint8)\n",
    "\n",
    "size=img.shape[:2]\n",
    "\n",
    "rst=cv2.resize(img,size)\n",
    "\n",
    "print(\"img.shape=\\n\",img.shape)\n",
    "\n",
    "print(\"img=\\n\",img)\n",
    "\n",
    "print(\"rst.shape=\\n\",rst.shape)\n",
    "\n",
    "print(\"rst=\\n\",rst)"
   ]
  },
  {
   "cell_type": "markdown",
   "id": "69f1d163",
   "metadata": {},
   "source": [
    "这里需要注意的是shape属性里是（行数，列数），而dsize属性里是（列数，行数）"
   ]
  },
  {
   "cell_type": "code",
   "execution_count": 3,
   "id": "3a1e3a8b",
   "metadata": {},
   "outputs": [
    {
     "name": "stdout",
     "output_type": "stream",
     "text": [
      "img.shape= (512, 512, 3)\n",
      "rst.shape= (256, 460, 3)\n"
     ]
    }
   ],
   "source": [
    "img=cv2.imread(\"../images/lenacolor.png\")\n",
    "\n",
    "rows,cols=img.shape[:2]\n",
    "\n",
    "size=(int(cols*0.9),int(rows*0.5))\n",
    "\n",
    "rst=cv2.resize(img,size)\n",
    "\n",
    "print(\"img.shape=\",img.shape)\n",
    "\n",
    "print(\"rst.shape=\",rst.shape)"
   ]
  },
  {
   "cell_type": "markdown",
   "id": "b78dd60f",
   "metadata": {},
   "source": [
    "使用dsize行列数的方式进行缩放"
   ]
  },
  {
   "cell_type": "code",
   "execution_count": 4,
   "id": "f893b5b7",
   "metadata": {},
   "outputs": [
    {
     "name": "stdout",
     "output_type": "stream",
     "text": [
      "img.shape= (512, 512, 3)\n",
      "rst.shape= (256, 1024, 3)\n"
     ]
    }
   ],
   "source": [
    "img=cv2.imread(\"../images/lenacolor.png\")\n",
    "\n",
    "rst=cv2.resize(img,None,fx=2,fy=0.5)\n",
    "\n",
    "print(\"img.shape=\",img.shape)\n",
    "\n",
    "print(\"rst.shape=\",rst.shape)"
   ]
  },
  {
   "cell_type": "markdown",
   "id": "5559a29f",
   "metadata": {},
   "source": [
    "使用fx,fy参数进行缩放。"
   ]
  },
  {
   "cell_type": "markdown",
   "id": "0115b77a",
   "metadata": {},
   "source": [
    "使用函数cv2.resize（）实现对图像的缩放，\n",
    "语法：dst=cv2.resize（src,dsize[,fx[,fy[,interpolation]]]）\n",
    "\n",
    "● src代表需要缩放的原始图像。\n",
    "\n",
    "● dsize代表输出图像大小。\n",
    "\n",
    "● fx代表水平方向的缩放比例。\n",
    "\n",
    "● fy代表垂直方向的缩放比例。\n",
    "\n",
    "● interpolation代表插值方式"
   ]
  }
 ],
 "metadata": {
  "kernelspec": {
   "display_name": "Python 3",
   "language": "python",
   "name": "python3"
  },
  "language_info": {
   "codemirror_mode": {
    "name": "ipython",
    "version": 3
   },
   "file_extension": ".py",
   "mimetype": "text/x-python",
   "name": "python",
   "nbconvert_exporter": "python",
   "pygments_lexer": "ipython3",
   "version": "3.7.16"
  }
 },
 "nbformat": 4,
 "nbformat_minor": 5
}
