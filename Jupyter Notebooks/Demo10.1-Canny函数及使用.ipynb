{
 "cells": [
  {
   "cell_type": "markdown",
   "id": "cac14092",
   "metadata": {},
   "source": [
    "# 10.1 Canny函数及使用"
   ]
  },
  {
   "cell_type": "code",
   "execution_count": 1,
   "id": "077c3e90",
   "metadata": {},
   "outputs": [],
   "source": [
    "import cv2\n",
    "o=cv2.imread(\"../images/lena.bmp\",cv2.IMREAD_GRAYSCALE)\n",
    "r1=cv2.Canny(o,128,200)\n",
    "r2=cv2.Canny(o,32,128)\n",
    "cv2.imshow(\"original\",o)\n",
    "cv2.imshow(\"result1\",r1)\n",
    "cv2.imshow(\"result2\",r2)\n",
    "cv2.waitKey()\n",
    "cv2.destroyAllWindows()"
   ]
  },
  {
   "cell_type": "code",
   "execution_count": null,
   "id": "1e175e2e",
   "metadata": {},
   "outputs": [],
   "source": []
  }
 ],
 "metadata": {
  "kernelspec": {
   "display_name": "Python 3",
   "language": "python",
   "name": "python3"
  },
  "language_info": {
   "codemirror_mode": {
    "name": "ipython",
    "version": 3
   },
   "file_extension": ".py",
   "mimetype": "text/x-python",
   "name": "python",
   "nbconvert_exporter": "python",
   "pygments_lexer": "ipython3",
   "version": "3.7.16"
  }
 },
 "nbformat": 4,
 "nbformat_minor": 5
}
