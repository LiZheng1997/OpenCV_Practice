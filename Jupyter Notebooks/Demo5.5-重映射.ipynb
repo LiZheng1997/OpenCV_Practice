{
 "cells": [
  {
   "cell_type": "markdown",
   "id": "0887cce4",
   "metadata": {},
   "source": [
    "# 5.5 重映射"
   ]
  },
  {
   "cell_type": "code",
   "execution_count": 1,
   "id": "10948851",
   "metadata": {},
   "outputs": [
    {
     "name": "stdout",
     "output_type": "stream",
     "text": [
      "img=\n",
      " [[  4  95 130 197 197]\n",
      " [117 218 244  76 248]\n",
      " [ 91   8  65  92 130]\n",
      " [127  11   5  42  33]]\n",
      "mapx=\n",
      " [[3. 3. 3. 3. 3.]\n",
      " [3. 3. 3. 3. 3.]\n",
      " [3. 3. 3. 3. 3.]\n",
      " [3. 3. 3. 3. 3.]]\n",
      "mapy=\n",
      " [[0. 0. 0. 0. 0.]\n",
      " [0. 0. 0. 0. 0.]\n",
      " [0. 0. 0. 0. 0.]\n",
      " [0. 0. 0. 0. 0.]]\n",
      "rst=\n",
      " [[197 197 197 197 197]\n",
      " [197 197 197 197 197]\n",
      " [197 197 197 197 197]\n",
      " [197 197 197 197 197]]\n"
     ]
    }
   ],
   "source": [
    "import cv2\n",
    "\n",
    "import numpy as np\n",
    "\n",
    "img=np.random.randint(0,256,size=[4,5],dtype=np.uint8)\n",
    "\n",
    "rows,cols=img.shape\n",
    "\n",
    "mapx=np.ones(img.shape,np.float32)*3\n",
    "\n",
    "mapy=np.ones(img.shape,np.float32)*0\n",
    "\n",
    "rst=cv2.remap(img,mapx,mapy,cv2.INTER_LINEAR)\n",
    "\n",
    "print(\"img=\\n\",img)\n",
    "\n",
    "print(\"mapx=\\n\",mapx)\n",
    "\n",
    "print(\"mapy=\\n\",mapy)\n",
    "\n",
    "print(\"rst=\\n\",rst)"
   ]
  },
  {
   "cell_type": "code",
   "execution_count": null,
   "id": "438a5bf6",
   "metadata": {},
   "outputs": [],
   "source": []
  }
 ],
 "metadata": {
  "kernelspec": {
   "display_name": "Python 3",
   "language": "python",
   "name": "python3"
  },
  "language_info": {
   "codemirror_mode": {
    "name": "ipython",
    "version": 3
   },
   "file_extension": ".py",
   "mimetype": "text/x-python",
   "name": "python",
   "nbconvert_exporter": "python",
   "pygments_lexer": "ipython3",
   "version": "3.7.16"
  }
 },
 "nbformat": 4,
 "nbformat_minor": 5
}
