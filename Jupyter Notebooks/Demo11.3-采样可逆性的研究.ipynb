{
 "cells": [
  {
   "cell_type": "markdown",
   "id": "a425d24e",
   "metadata": {},
   "source": [
    "# 11.3 采样可逆性的研究"
   ]
  },
  {
   "cell_type": "code",
   "execution_count": 1,
   "id": "cfcc67c6",
   "metadata": {},
   "outputs": [
    {
     "name": "stdout",
     "output_type": "stream",
     "text": [
      "o.shape= (512, 512, 3)\n",
      "up.shape= (512, 512, 3)\n",
      "(512, 512, 3)\n"
     ]
    }
   ],
   "source": [
    "import cv2\n",
    "o=cv2.imread(\"../images/lena.bmp\")\n",
    "down=cv2.pyrDown(o)\n",
    "up=cv2.pyrUp(down)\n",
    "diff=up-o #构造diff图像，查看up与o的区别\n",
    "print(\"o.shape=\",o.shape)\n",
    "print(\"up.shape=\",up.shape)\n",
    "cv2.imshow(\"original\",o)\n",
    "cv2.imshow(\"up\",up)\n",
    "cv2.imshow(\"difference\",diff)\n",
    "print(o.shape)\n",
    "cv2.waitKey()\n",
    "cv2.destroyAllWindows()"
   ]
  },
  {
   "cell_type": "code",
   "execution_count": null,
   "id": "fa3876d2",
   "metadata": {},
   "outputs": [],
   "source": []
  }
 ],
 "metadata": {
  "kernelspec": {
   "display_name": "Python 3",
   "language": "python",
   "name": "python3"
  },
  "language_info": {
   "codemirror_mode": {
    "name": "ipython",
    "version": 3
   },
   "file_extension": ".py",
   "mimetype": "text/x-python",
   "name": "python",
   "nbconvert_exporter": "python",
   "pygments_lexer": "ipython3",
   "version": "3.7.16"
  }
 },
 "nbformat": 4,
 "nbformat_minor": 5
}
