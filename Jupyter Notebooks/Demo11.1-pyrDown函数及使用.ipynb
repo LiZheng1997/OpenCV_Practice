{
 "cells": [
  {
   "cell_type": "markdown",
   "id": "695cc49a",
   "metadata": {},
   "source": [
    "# 11.1 pyrDown函数及使用"
   ]
  },
  {
   "cell_type": "code",
   "execution_count": 1,
   "id": "fff4b7bb",
   "metadata": {},
   "outputs": [
    {
     "name": "stdout",
     "output_type": "stream",
     "text": [
      "o.shape= (512, 512)\n",
      "r1.shape= (256, 256)\n",
      "r2.shape= (128, 128)\n",
      "r3.shape= (64, 64)\n"
     ]
    }
   ],
   "source": [
    "import cv2\n",
    "o=cv2.imread(\"../images/lena.bmp\",cv2.IMREAD_GRAYSCALE)\n",
    "r1=cv2.pyrDown(o)\n",
    "r2=cv2.pyrDown(r1)\n",
    "r3=cv2.pyrDown(r2)\n",
    "print(\"o.shape=\",o.shape)\n",
    "print(\"r1.shape=\",r1.shape)\n",
    "print(\"r2.shape=\",r2.shape)\n",
    "print(\"r3.shape=\",r3.shape)\n",
    "cv2.imshow(\"original\",o)\n",
    "cv2.imshow(\"r1\",r1)\n",
    "cv2.imshow(\"r2\",r2)\n",
    "cv2.imshow(\"r3\",r3)\n",
    "cv2.waitKey()\n",
    "cv2.destroyAllWindows()"
   ]
  },
  {
   "cell_type": "code",
   "execution_count": null,
   "id": "210ec981",
   "metadata": {},
   "outputs": [],
   "source": []
  }
 ],
 "metadata": {
  "kernelspec": {
   "display_name": "Python 3",
   "language": "python",
   "name": "python3"
  },
  "language_info": {
   "codemirror_mode": {
    "name": "ipython",
    "version": 3
   },
   "file_extension": ".py",
   "mimetype": "text/x-python",
   "name": "python",
   "nbconvert_exporter": "python",
   "pygments_lexer": "ipython3",
   "version": "3.7.16"
  }
 },
 "nbformat": 4,
 "nbformat_minor": 5
}
