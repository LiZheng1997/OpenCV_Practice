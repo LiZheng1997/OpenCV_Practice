{
 "cells": [
  {
   "cell_type": "markdown",
   "id": "a1901564",
   "metadata": {},
   "source": [
    "# 20.1 KNN算法"
   ]
  },
  {
   "cell_type": "code",
   "execution_count": null,
   "id": "d1c48d7e",
   "metadata": {},
   "outputs": [],
   "source": []
  },
  {
   "cell_type": "code",
   "execution_count": 3,
   "id": "a278c005",
   "metadata": {},
   "outputs": [
    {
     "name": "stdout",
     "output_type": "stream",
     "text": [
      "当前随机数可以判定为类型： [[0.]]\n",
      "距离当前点最近的5个邻居是： [[0. 0. 0. 0. 0.]]\n",
      "5个最近邻居的距离： [[10. 13. 20. 29. 40.]]\n"
     ]
    },
    {
     "data": {
      "image/png": "[encoded data removed]",
      "text/plain": [
       "<Figure size 640x480 with 1 Axes>"
      ]
     },
     "metadata": {},
     "output_type": "display_data"
    }
   ],
   "source": [
    "import cv2\n",
    "\n",
    "import numpy as np\n",
    "\n",
    "import matplotlib.pyplot as plt\n",
    "\n",
    "# 用于训练的数据\n",
    "\n",
    "# rand1数据位于(0,30)\n",
    "\n",
    "rand1=np.random.randint(0,30,(20,2)).astype(np.float32)\n",
    "\n",
    "# rand2数据位于(70,100)\n",
    "\n",
    "rand2=np.random.randint(70,100,(20,2)).astype(np.float32)\n",
    "\n",
    "# 将rand1和rand2拼接为训练数据\n",
    "\n",
    "trainData=np.vstack((rand1,rand2))\n",
    "\n",
    "# 数据标签，共两类：0和1\n",
    "\n",
    "# r1Label对应着rand1的标签，为类型0\n",
    "\n",
    "r1Label=np.zeros((20,1)).astype(np.float32)\n",
    "\n",
    "# r2Label对应着rand2的标签，为类型1\n",
    "r2Label=np.ones((20,1)).astype(np.float32)\n",
    "\n",
    "tdLable=np.vstack((r1Label,r2Label))\n",
    "\n",
    "# 使用绿色标注类型0\n",
    "\n",
    "g=trainData[tdLable.ravel()==0]\n",
    "\n",
    "plt.scatter(g[:,0],g[:,1],80,'g','o')\n",
    "\n",
    "# 使用蓝色标注类型1\n",
    "\n",
    "b=trainData[tdLable.ravel()==1]\n",
    "\n",
    "plt.scatter(b[:,0],b[:,1],80,'b','s')\n",
    "\n",
    "# plt.show()\n",
    "\n",
    "# test为用于测试的随机数，该数在0到100之间\n",
    "\n",
    "test=np.random.randint(0,100,(1,2)).astype(np.float32)\n",
    "\n",
    "plt.scatter(test[:,0],test[:,1],80,'r','*')\n",
    "\n",
    "# 调用OpenCV内的K近邻模块，并进行训练\n",
    "\n",
    "knn=cv2.ml.KNearest_create()\n",
    "\n",
    "knn.train(trainData,cv2.ml.ROW_SAMPLE,tdLable)\n",
    "\n",
    "# 使用K近邻算法分类\n",
    "\n",
    "ret,results,neighbours,dist=knn.findNearest(test,5)\n",
    "\n",
    "# 显示处理结果\n",
    "\n",
    "print(\"当前随机数可以判定为类型：\",results)\n",
    "\n",
    "print(\"距离当前点最近的5个邻居是：\",neighbours)\n",
    "\n",
    "print(\"5个最近邻居的距离：\",dist)"
   ]
  },
  {
   "cell_type": "code",
   "execution_count": null,
   "id": "e9952bf5",
   "metadata": {},
   "outputs": [],
   "source": []
  }
 ],
 "metadata": {
  "kernelspec": {
   "display_name": "Python 3",
   "language": "python",
   "name": "python3"
  },
  "language_info": {
   "codemirror_mode": {
    "name": "ipython",
    "version": 3
   },
   "file_extension": ".py",
   "mimetype": "text/x-python",
   "name": "python",
   "nbconvert_exporter": "python",
   "pygments_lexer": "ipython3",
   "version": "3.7.16"
  }
 },
 "nbformat": 4,
 "nbformat_minor": 5
}
