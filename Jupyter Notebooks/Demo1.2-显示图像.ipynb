{
 "cells": [
  {
   "cell_type": "markdown",
   "id": "30d45f85",
   "metadata": {},
   "source": [
    "# 1.2 显示图像"
   ]
  },
  {
   "cell_type": "code",
   "execution_count": 2,
   "id": "865d1586",
   "metadata": {},
   "outputs": [],
   "source": [
    "import cv2"
   ]
  },
  {
   "cell_type": "markdown",
   "id": "47f15e66",
   "metadata": {},
   "source": [
    "使用**imshow**函数显示图像 None=cv2.imshow(winname,mat) \n",
    "1. **winname**是窗口名称\n",
    "2. **mat**是要显示的图像"
   ]
  },
  {
   "cell_type": "code",
   "execution_count": 3,
   "id": "65a7930f",
   "metadata": {},
   "outputs": [],
   "source": [
    "lena = cv2.imread(\"../images/lenacolor.png\")\n",
    "cv2.namedWindow(\"lesson\")\n",
    "cv2.imshow(\"lesson\", lena)"
   ]
  }
 ],
 "metadata": {
  "kernelspec": {
   "display_name": "Python 3",
   "language": "python",
   "name": "python3"
  },
  "language_info": {
   "codemirror_mode": {
    "name": "ipython",
    "version": 3
   },
   "file_extension": ".py",
   "mimetype": "text/x-python",
   "name": "python",
   "nbconvert_exporter": "python",
   "pygments_lexer": "ipython3",
   "version": "3.7.16"
  }
 },
 "nbformat": 4,
 "nbformat_minor": 5
}
