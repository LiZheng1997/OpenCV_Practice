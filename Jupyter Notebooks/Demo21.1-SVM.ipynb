{
 "cells": [
  {
   "cell_type": "markdown",
   "id": "90315403",
   "metadata": {},
   "source": [
    "# 21.1 SVM"
   ]
  },
  {
   "cell_type": "code",
   "execution_count": 1,
   "id": "3abed3ad",
   "metadata": {},
   "outputs": [
    {
     "data": {
      "image/png": "[encoded data removed]",
      "text/plain": [
       "<Figure size 640x480 with 1 Axes>"
      ]
     },
     "metadata": {},
     "output_type": "display_data"
    },
    {
     "name": "stdout",
     "output_type": "stream",
     "text": [
      "[[98. 90.]\n",
      " [90. 99.]]\n",
      "[[0.]\n",
      " [0.]]\n"
     ]
    }
   ],
   "source": [
    "import cv2\n",
    "\n",
    "import numpy as np\n",
    "\n",
    "import matplotlib.pyplot as plt\n",
    "\n",
    "# 第1步 准备数据\n",
    "\n",
    "# 表现为A级的员工的笔试、面试成绩\n",
    "\n",
    "a=np.random.randint(95,100,(20,2)).astype(np.float32)\n",
    "\n",
    "# 表现为B级的员工的笔试、面试成绩\n",
    "\n",
    "b=np.random.randint(90,95,(20,2)).astype(np.float32)\n",
    "\n",
    "# 合并数据\n",
    "\n",
    "data=np.vstack((a,b))\n",
    "\n",
    "data=np.array(data,dtype='float32')\n",
    "\n",
    "# 第2步 建立分组标签，0代表A级，1代表B级\n",
    "\n",
    "#aLabel对应着a的标签，为类型0-等级A\n",
    "\n",
    "aLabel=np.zeros((20,1))\n",
    "\n",
    "#bLabel对应着b的标签，为类型1-等级B\n",
    "\n",
    "bLabel=np.ones((20,1))\n",
    "\n",
    "# 合并标签\n",
    "\n",
    "label=np.vstack((aLabel,bLabel))\n",
    "\n",
    "label=np.array(label,dtype='int32')\n",
    "\n",
    "# 第3步 训练\n",
    "# 用ml机器学习模块 SVM_create()创建svm\n",
    "\n",
    "svm=cv2.ml.SVM_create()\n",
    "\n",
    "# 属性设置，直接采用默认值即可\n",
    "\n",
    "#svm.setType(cv2.ml.SVM_C_SVC)# svm type\n",
    "\n",
    "#svm.setKernel(cv2.ml.SVM_LINEAR)# line\n",
    "\n",
    "#svm.setC(0.01)\n",
    "\n",
    "# 训练\n",
    "\n",
    "result=svm.train(data,cv2.ml.ROW_SAMPLE,label)\n",
    "\n",
    "# 第4步 预测\n",
    "\n",
    "# 生成两个随机的笔试成绩和面试成绩数据对\n",
    "\n",
    "test=np.vstack([[98,90],[90,99]])\n",
    "\n",
    "test=np.array(test,dtype='float32')\n",
    "\n",
    "# 预测\n",
    "\n",
    "(p1,p2)=svm.predict(test)\n",
    "\n",
    "# 第5步 观察结果\n",
    "\n",
    "# 可视化\n",
    "\n",
    "plt.scatter(a[:,0],a[:,1],80,'g','o')\n",
    "\n",
    "plt.scatter(b[:,0],b[:,1],80,'b','s')\n",
    "\n",
    "plt.scatter(test[:,0],test[:,1],80,'r','*')\n",
    "\n",
    "plt.show()\n",
    "\n",
    "# 打印原始测试数据test，预测结果\n",
    "print(test)\n",
    "\n",
    "print(p2)"
   ]
  },
  {
   "cell_type": "code",
   "execution_count": null,
   "id": "980726a5",
   "metadata": {},
   "outputs": [],
   "source": []
  }
 ],
 "metadata": {
  "kernelspec": {
   "display_name": "Python 3",
   "language": "python",
   "name": "python3"
  },
  "language_info": {
   "codemirror_mode": {
    "name": "ipython",
    "version": 3
   },
   "file_extension": ".py",
   "mimetype": "text/x-python",
   "name": "python",
   "nbconvert_exporter": "python",
   "pygments_lexer": "ipython3",
   "version": "3.7.16"
  }
 },
 "nbformat": 4,
 "nbformat_minor": 5
}
