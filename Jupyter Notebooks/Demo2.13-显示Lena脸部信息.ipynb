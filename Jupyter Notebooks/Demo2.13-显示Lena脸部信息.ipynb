{
 "cells": [
  {
   "cell_type": "markdown",
   "id": "e4bac080",
   "metadata": {},
   "source": [
    "# 2.13 显示Lena脸部信息"
   ]
  },
  {
   "cell_type": "code",
   "execution_count": 1,
   "id": "0203f931",
   "metadata": {},
   "outputs": [],
   "source": [
    "import numpy as np\n",
    "import cv2 as cv\n",
    "\n",
    "a=cv.imread(\"../images/lena.bmp\", cv.IMREAD_UNCHANGED)\n",
    "face=a[250:400, 250:300]\n",
    "cv.imshow(\"original\", a)\n",
    "cv.imshow(\"face\", face)\n",
    "cv.waitKey()\n",
    "cv.destroyAllWindows()"
   ]
  },
  {
   "cell_type": "markdown",
   "id": "3c3fdb99",
   "metadata": {},
   "source": [
    "获取脸部ROI的图像信息，即可以提取在脸部周围的像素值。"
   ]
  }
 ],
 "metadata": {
  "kernelspec": {
   "display_name": "Python 3",
   "language": "python",
   "name": "python3"
  },
  "language_info": {
   "codemirror_mode": {
    "name": "ipython",
    "version": 3
   },
   "file_extension": ".py",
   "mimetype": "text/x-python",
   "name": "python",
   "nbconvert_exporter": "python",
   "pygments_lexer": "ipython3",
   "version": "3.7.16"
  }
 },
 "nbformat": 4,
 "nbformat_minor": 5
}
