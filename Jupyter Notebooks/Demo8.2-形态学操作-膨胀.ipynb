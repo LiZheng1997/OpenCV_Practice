{
 "cells": [
  {
   "cell_type": "markdown",
   "id": "3a8ce4e1",
   "metadata": {},
   "source": [
    "# 8.2 形态学操作-膨胀"
   ]
  },
  {
   "cell_type": "code",
   "execution_count": 2,
   "id": "bff98c78",
   "metadata": {},
   "outputs": [
    {
     "name": "stdout",
     "output_type": "stream",
     "text": [
      "img=\n",
      " [[0 0 0 0 0]\n",
      " [0 0 0 0 0]\n",
      " [0 1 1 1 0]\n",
      " [0 0 0 0 0]\n",
      " [0 0 0 0 0]]\n",
      "kernel=\n",
      " [[1]\n",
      " [1]\n",
      " [1]]\n",
      "dilation\n",
      " [[0 0 0 0 0]\n",
      " [0 1 1 1 0]\n",
      " [0 1 1 1 0]\n",
      " [0 1 1 1 0]\n",
      " [0 0 0 0 0]]\n"
     ]
    }
   ],
   "source": [
    "import cv2\n",
    "\n",
    "import numpy as np\n",
    "\n",
    "img=np.zeros((5,5),np.uint8)\n",
    "img[2:3,1:4]=1\n",
    "kernel=np.ones((3,1),np.uint8)\n",
    "dilation=cv2.dilate(img,kernel)\n",
    "print(\"img=\\n\",img)\n",
    "print(\"kernel=\\n\",kernel)\n",
    "print(\"dilation\\n\",dilation)"
   ]
  },
  {
   "cell_type": "code",
   "execution_count": null,
   "id": "34ebc037",
   "metadata": {},
   "outputs": [],
   "source": [
    "import cv2\n",
    "\n",
    "import numpy as np\n",
    "\n",
    "o=cv2.imread(\"../images/dilation.png\",cv2.IMREAD_UNCHANGED)\n",
    "\n",
    "kernel=np.ones((9,9),np.uint8)\n",
    "\n",
    "dilation=cv2.dilate(o,kernel)\n",
    "\n",
    "cv2.imshow(\"original\",o)\n",
    "\n",
    "cv2.imshow(\"dilation\",dilation)\n",
    "\n",
    "cv2.waitKey()\n",
    "\n",
    "cv2.destroyAllWindows()"
   ]
  },
  {
   "cell_type": "code",
   "execution_count": 4,
   "id": "e814ed04",
   "metadata": {},
   "outputs": [],
   "source": [
    "import cv2\n",
    "\n",
    "import numpy as np\n",
    "\n",
    "o=cv2.imread(\"../images/dilation.png\",cv2.IMREAD_UNCHANGED)\n",
    "\n",
    "kernel=np.ones((5,5),np.uint8)\n",
    "\n",
    "dilation=cv2.dilate(o,kernel,iterations=9)\n",
    "\n",
    "cv2.imshow(\"original\",o)\n",
    "\n",
    "cv2.imshow(\"dilation\",dilation)\n",
    "\n",
    "cv2.waitKey()\n",
    "\n",
    "cv2.destroyAllWindows()"
   ]
  },
  {
   "cell_type": "code",
   "execution_count": null,
   "id": "298fbaef",
   "metadata": {},
   "outputs": [],
   "source": []
  }
 ],
 "metadata": {
  "kernelspec": {
   "display_name": "Python 3",
   "language": "python",
   "name": "python3"
  },
  "language_info": {
   "codemirror_mode": {
    "name": "ipython",
    "version": 3
   },
   "file_extension": ".py",
   "mimetype": "text/x-python",
   "name": "python",
   "nbconvert_exporter": "python",
   "pygments_lexer": "ipython3",
   "version": "3.7.16"
  }
 },
 "nbformat": 4,
 "nbformat_minor": 5
}
