{
 "cells": [
  {
   "cell_type": "markdown",
   "id": "f6afcc98",
   "metadata": {},
   "source": [
    "# 3.2 CV2.add函数"
   ]
  },
  {
   "cell_type": "code",
   "execution_count": 1,
   "id": "730b4688",
   "metadata": {},
   "outputs": [
    {
     "name": "stdout",
     "output_type": "stream",
     "text": [
      "img1=\n",
      " [[211  23 203]\n",
      " [176  80 183]\n",
      " [234 230 169]]\n",
      "img2=\n",
      " [[218 151 223]\n",
      " [ 99 244 245]\n",
      " [207  66   4]]\n"
     ]
    }
   ],
   "source": [
    "import numpy as np\n",
    "import cv2\n",
    "\n",
    "img1 = np.random.randint(0, 256, size=[3,3], dtype=np.uint8)\n",
    "img2 = np.random.randint(0, 256, size=[3,3], dtype=np.uint8)\n",
    "\n",
    "print(\"img1=\\n\", img1)\n",
    "print(\"img2=\\n\", img2)"
   ]
  },
  {
   "cell_type": "code",
   "execution_count": 2,
   "id": "e2173cea",
   "metadata": {},
   "outputs": [
    {
     "name": "stdout",
     "output_type": "stream",
     "text": [
      "cv2.add（img1,img2）=\n",
      " [[255 174 255]\n",
      " [255 255 255]\n",
      " [255 255 173]]\n"
     ]
    }
   ],
   "source": [
    "img3=cv2.add(img1,img2)\n",
    "print(\"cv2.add（img1,img2）=\\n\",img3)"
   ]
  },
  {
   "cell_type": "markdown",
   "id": "90dd42e9",
   "metadata": {},
   "source": [
    "使用cv2.add函数进行两张图像的相加，像素值相加结果超过255的，则赋值为255，小于等于则按相加结果赋值。"
   ]
  }
 ],
 "metadata": {
  "kernelspec": {
   "display_name": "Python 3",
   "language": "python",
   "name": "python3"
  },
  "language_info": {
   "codemirror_mode": {
    "name": "ipython",
    "version": 3
   },
   "file_extension": ".py",
   "mimetype": "text/x-python",
   "name": "python",
   "nbconvert_exporter": "python",
   "pygments_lexer": "ipython3",
   "version": "3.7.16"
  }
 },
 "nbformat": 4,
 "nbformat_minor": 5
}
