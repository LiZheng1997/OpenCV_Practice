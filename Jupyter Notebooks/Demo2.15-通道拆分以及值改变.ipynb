{
 "cells": [
  {
   "cell_type": "markdown",
   "id": "a1bd9b4e",
   "metadata": {},
   "source": [
    "# 2.15 通道拆分以及值改变"
   ]
  },
  {
   "cell_type": "code",
   "execution_count": 1,
   "id": "2062ad01",
   "metadata": {},
   "outputs": [],
   "source": [
    "import cv2 as cv\n",
    "lena = cv.imread(\"../images/lenacolor.png\")\n",
    "cv.imshow(\"lena1\",lena)\n",
    "\n",
    "b = lena[:,:,0]\n",
    "g = lena[:,:,1]\n",
    "r = lena[:,:,2]\n",
    "cv.imshow(\"b\", b)\n",
    "cv.imshow(\"g\", g)\n",
    "cv.imshow(\"r\", r)\n",
    "\n",
    "lena[:,:,0]=0\n",
    "cv.imshow(\"lenab0\",lena)\n",
    "\n",
    "lena[:,:,1]=0\n",
    "cv.imshow(\"lenab0g0\",lena)\n",
    "\n",
    "cv.waitKey()\n",
    "cv.destroyAllWindows()"
   ]
  },
  {
   "cell_type": "markdown",
   "id": "27d686ee",
   "metadata": {},
   "source": [
    "以上代码，通过索引的方式，可以直接将各个通道从图像内提取出来。"
   ]
  }
 ],
 "metadata": {
  "kernelspec": {
   "display_name": "Python 3",
   "language": "python",
   "name": "python3"
  },
  "language_info": {
   "codemirror_mode": {
    "name": "ipython",
    "version": 3
   },
   "file_extension": ".py",
   "mimetype": "text/x-python",
   "name": "python",
   "nbconvert_exporter": "python",
   "pygments_lexer": "ipython3",
   "version": "3.7.16"
  }
 },
 "nbformat": 4,
 "nbformat_minor": 5
}
