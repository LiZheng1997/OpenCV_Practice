{
 "cells": [
  {
   "cell_type": "markdown",
   "id": "0971720f",
   "metadata": {},
   "source": [
    "# 5.3 仿射"
   ]
  },
  {
   "cell_type": "code",
   "execution_count": 1,
   "id": "c5503f4f",
   "metadata": {},
   "outputs": [],
   "source": [
    "import cv2\n",
    "\n",
    "import numpy as np\n",
    "\n",
    "img=cv2.imread(\"../images/lena.bmp\")\n",
    "\n",
    "height,width=img.shape[:2]\n",
    "\n",
    "x=100\n",
    "\n",
    "y=200\n",
    "\n",
    "M=np.float32([[1,0,x],[0,1,y]])\n",
    "\n",
    "move=cv2.warpAffine(img,M,(width,height))\n",
    "\n",
    "cv2.imshow(\"original\",img)\n",
    "\n",
    "cv2.imshow(\"move\",move)\n",
    "\n",
    "cv2.waitKey()\n",
    "\n",
    "cv2.destroyAllWindows()"
   ]
  },
  {
   "cell_type": "code",
   "execution_count": 3,
   "id": "b939e799",
   "metadata": {},
   "outputs": [],
   "source": [
    "\n",
    "\n",
    "img=cv2.imread(\"../images/lena.bmp\")\n",
    "\n",
    "height,width=img.shape[:2]\n",
    "\n",
    "M=cv2.getRotationMatrix2D((width/2,height/2),45,0.6)\n",
    "\n",
    "rotate=cv2.warpAffine(img,M,(width,height))\n",
    "\n",
    "cv2.imshow(\"original\",img)\n",
    "\n",
    "cv2.imshow(\"rotation\",rotate)\n",
    "\n",
    "cv2.waitKey()\n",
    "\n",
    "cv2.destroyAllWindows()"
   ]
  },
  {
   "cell_type": "code",
   "execution_count": 6,
   "id": "32a4e62a",
   "metadata": {},
   "outputs": [],
   "source": [
    "img=cv2.imread('../images/lena.bmp')\n",
    "\n",
    "rows,cols,ch=img.shape\n",
    "\n",
    "p1=np.float32([[0,0],[cols-1,0],[0,rows-1]])\n",
    "\n",
    "p2=np.float32([[0,rows*0.33],[cols*0.85,rows*0.25],[cols*0.15,rows*0.7]])\n",
    "\n",
    "M=cv2.getAffineTransform(p1,p2)\n",
    "\n",
    "dst=cv2.warpAffine(img,M,(cols,rows))\n",
    "\n",
    "cv2.imshow(\"origianl\",img)\n",
    "\n",
    "cv2.imshow(\"result\",dst)\n",
    "\n",
    "cv2.waitKey()\n",
    "\n",
    "cv2.destroyAllWindows()"
   ]
  },
  {
   "cell_type": "code",
   "execution_count": null,
   "id": "9eb0d99a",
   "metadata": {},
   "outputs": [],
   "source": []
  }
 ],
 "metadata": {
  "kernelspec": {
   "display_name": "Python 3",
   "language": "python",
   "name": "python3"
  },
  "language_info": {
   "codemirror_mode": {
    "name": "ipython",
    "version": 3
   },
   "file_extension": ".py",
   "mimetype": "text/x-python",
   "name": "python",
   "nbconvert_exporter": "python",
   "pygments_lexer": "ipython3",
   "version": "3.7.16"
  }
 },
 "nbformat": 4,
 "nbformat_minor": 5
}
