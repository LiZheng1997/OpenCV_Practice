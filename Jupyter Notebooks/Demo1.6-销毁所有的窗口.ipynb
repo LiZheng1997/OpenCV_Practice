{
 "cells": [
  {
   "cell_type": "markdown",
   "id": "a71a58f4",
   "metadata": {},
   "source": [
    "# 1.6 销毁所有的窗口"
   ]
  },
  {
   "cell_type": "code",
   "execution_count": 1,
   "id": "47286356",
   "metadata": {},
   "outputs": [
    {
     "data": {
      "text/plain": [
       "27"
      ]
     },
     "execution_count": 1,
     "metadata": {},
     "output_type": "execute_result"
    }
   ],
   "source": [
    "import cv2\n",
    "lena = cv2.imread(\"../images/lena.bmp\")\n",
    "cv2.imshow(\"demo1\", lena)\n",
    "cv2.imshow(\"demo2\", lena)\n",
    "cv2.waitKey()"
   ]
  },
  {
   "cell_type": "markdown",
   "id": "fdae7bd0",
   "metadata": {},
   "source": [
    "当你按下任意的键盘按键时，下面的代码将使用destoryAllWindows函数销毁所有窗口，格式：None=cv2.destroyAllWindows（）"
   ]
  },
  {
   "cell_type": "code",
   "execution_count": 2,
   "id": "21681003",
   "metadata": {},
   "outputs": [
    {
     "name": "stdout",
     "output_type": "stream",
     "text": [
      "你已经销毁了所有窗口\n"
     ]
    }
   ],
   "source": [
    "cv2.destroyAllWindows()\n",
    "print(\"你已经销毁了所有窗口\")"
   ]
  },
  {
   "cell_type": "code",
   "execution_count": null,
   "id": "2cb3638e",
   "metadata": {},
   "outputs": [],
   "source": []
  }
 ],
 "metadata": {
  "kernelspec": {
   "display_name": "Python 3",
   "language": "python",
   "name": "python3"
  },
  "language_info": {
   "codemirror_mode": {
    "name": "ipython",
    "version": 3
   },
   "file_extension": ".py",
   "mimetype": "text/x-python",
   "name": "python",
   "nbconvert_exporter": "python",
   "pygments_lexer": "ipython3",
   "version": "3.7.16"
  }
 },
 "nbformat": 4,
 "nbformat_minor": 5
}
