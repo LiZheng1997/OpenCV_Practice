{
 "cells": [
  {
   "cell_type": "markdown",
   "id": "30db52ec",
   "metadata": {},
   "source": [
    "# 19.1 绘画基础"
   ]
  },
  {
   "cell_type": "markdown",
   "id": "06ea10f5",
   "metadata": {},
   "source": [
    "## 1. 画直线"
   ]
  },
  {
   "cell_type": "code",
   "execution_count": null,
   "id": "aa03aaea",
   "metadata": {},
   "outputs": [],
   "source": [
    "import numpy as np\n",
    "import cv2\n",
    "n=300\n",
    "img=np.zeros((n+1,n+1,3),np.uint8)\n",
    "img=cv2.line(img,(0,0),(n,n),(255,0,0),3)\n",
    "img=cv2.line(img,(0,100),(n,100),(0,255,0),1)\n",
    "img=cv2.line(img,(100,0),(100,n),(0,0,255),6)\n",
    "winname='Demo19.1'\n",
    "cv2.namedWindow(winname)\n",
    "cv2.imshow(winname,img)\n",
    "cv2.waitKey(0)\n",
    "cv2.destroyAllWindows()"
   ]
  },
  {
   "cell_type": "markdown",
   "id": "a32a6920",
   "metadata": {},
   "source": [
    "## 2. 画矩形"
   ]
  },
  {
   "cell_type": "code",
   "execution_count": null,
   "id": "20e4605e",
   "metadata": {},
   "outputs": [],
   "source": [
    "import numpy as np\n",
    "import cv2\n",
    "n=300\n",
    "img=np.ones((n,n,3),np.uint8)*255\n",
    "img=cv2.rectangle(img,(50,50),(n-100,n-50),(0,0,255),-1)\n",
    "winname='Demo19.2'\n",
    "cv2.namedWindow(winname)\n",
    "cv2.imshow(winname,img)\n",
    "cv2.waitKey(0)\n",
    "cv2.destroyAllWindows()"
   ]
  },
  {
   "cell_type": "markdown",
   "id": "4955b01b",
   "metadata": {},
   "source": [
    "## 3. 画圆"
   ]
  },
  {
   "cell_type": "code",
   "execution_count": null,
   "id": "7d1876f4",
   "metadata": {},
   "outputs": [],
   "source": [
    "d = 400\n",
    "img =np.ones((d,d,3), dtype=\"uint8\")*255\n",
    "(centerX, centerY) = (round(img.shape[1]/2), round(img.shape[0]/2))\n",
    "red = (0,0,255) #设置白色变量\n",
    "for r in range(5,round(d/2),12):\n",
    "\tcv2.circle(img,(centerX,centerY),r, red,3)\n",
    "cv2.imshow(\"Demo19.3\",img)\n",
    "cv2.waitKey(0)\n",
    "cv2.destroyAllWindows()"
   ]
  },
  {
   "cell_type": "markdown",
   "id": "5b5cb878",
   "metadata": {},
   "source": [
    "## 4. 画实心圆"
   ]
  },
  {
   "cell_type": "code",
   "execution_count": null,
   "id": "2f393443",
   "metadata": {},
   "outputs": [],
   "source": [
    "d = 400\n",
    "img =np.ones((d,d,3), dtype=\"uint8\")*255\n",
    "for i in range(0, 100):\n",
    "\tcenterX = np.random.randint(0, high=d)\n",
    "\tcenterY = np.random.randint(0, high=d)\n",
    "\tradius = np.random.randint(5, high=d/5)\n",
    "\t\n",
    "\tcolor = np.random.randint(0, high= 256, size= (3,)).tolist()\n",
    "\t\n",
    "\tcv2.circle(img, (centerX, centerY), radius, color, -1)\n",
    "cv2.imshow(\"Demo19.4\",img)\n",
    "cv2.waitKey(0)\n",
    "cv2.destroyAllWindows()"
   ]
  },
  {
   "cell_type": "markdown",
   "id": "09e28384",
   "metadata": {},
   "source": [
    "## 5. 画椭圆"
   ]
  },
  {
   "cell_type": "code",
   "execution_count": null,
   "id": "822967e4",
   "metadata": {},
   "outputs": [],
   "source": [
    "d = 400\n",
    "img =np.ones((d,d,3), dtype=\"uint8\")*255\n",
    "center = (round(d/2), round(d/2))\n",
    "size = (100, 200)\n",
    "for i in range(0,10):\n",
    "\tangle = np.random.randint(0,361)\n",
    "\tcolor = np.random.randint(0, high=256, size = (3,)).tolist()\n",
    "\tthickness = np.random.randint(1,9)\n",
    "\tcv2.ellipse(img, center, size, angle, 0, 360, color, thickness)\n",
    "cv2.imshow(\"demo19.5\", img)\n",
    "cv2.waitKey(0)\n",
    "cv2.destroyAllWindows()"
   ]
  },
  {
   "cell_type": "markdown",
   "id": "90d828ac",
   "metadata": {},
   "source": [
    "## 6. 画多边形"
   ]
  },
  {
   "cell_type": "code",
   "execution_count": null,
   "id": "83b513c7",
   "metadata": {},
   "outputs": [],
   "source": [
    "d=400\n",
    "\n",
    "img=np.ones((d,d,3),dtype=\"uint8\")*255\n",
    "\n",
    "# 生成白色背景\n",
    "pts=np.array([[200,50],[300,200],[200,350],[100,200]],np.int32)\n",
    "\n",
    "# 生成各个顶点，注意数据类型为int32\n",
    "\n",
    "pts=pts.reshape((-1,1,2))\n",
    "\n",
    "# 第1个参数为-1，表明它未设置具体值，它所表示的维度值是通过其他参数值计算得到的\n",
    "\n",
    "cv2.polylines(img,[pts],True,(0,255,0),8)\n",
    "\n",
    "# 如果设置成False，则这个多边形是不闭合的，isClosed是闭合的标记\n",
    "# cv2.polylines(img,[pts],False,(0,255,0),8)\n",
    "\n",
    "# 调用函数cv2.polylines()完成多边形绘图。注意，第3个参数控制多边形是否封闭\n",
    "\n",
    "cv2.imshow(\"demo19.6\",img)\n",
    "\n",
    "cv2.waitKey(0)\n",
    "\n",
    "cv2.destroyAllWindows()"
   ]
  },
  {
   "cell_type": "markdown",
   "id": "ed008429",
   "metadata": {},
   "source": [
    "## 7. 画字体"
   ]
  },
  {
   "cell_type": "code",
   "execution_count": null,
   "id": "b3bff2e9",
   "metadata": {},
   "outputs": [],
   "source": [
    "d=400\n",
    "\n",
    "img=np.ones((d,d,3),dtype=\"uint8\")*255\n",
    "\n",
    "# 生成白色背景\n",
    "\n",
    "font=cv2.FONT_HERSHEY_SIMPLEX\n",
    "\n",
    "cv2.putText(img,'OpenCV',(0,200),font,3,(0,255,0),15)\n",
    "\n",
    "cv2.putText(img,'OpenCV',(0,200),font,3,(0,0,255),5)\n",
    "\n",
    "cv2.imshow(\"demo19.7\",img)\n",
    "\n",
    "cv2.waitKey(0)\n",
    "\n",
    "cv2.destroyAllWindows()"
   ]
  },
  {
   "cell_type": "markdown",
   "id": "caee9b27",
   "metadata": {},
   "source": [
    "## 8. 画镜像字体"
   ]
  },
  {
   "cell_type": "code",
   "execution_count": null,
   "id": "b3a7600f",
   "metadata": {},
   "outputs": [],
   "source": [
    "d=400\n",
    "\n",
    "img=np.ones((d,d,3),dtype=\"uint8\")*255\n",
    "\n",
    "# 生成白色背景\n",
    "\n",
    "font=cv2.FONT_HERSHEY_SIMPLEX\n",
    "\n",
    "cv2.putText(img,'OpenCV',(0,200),font,3,(0,255,0),15)\n",
    "\n",
    "cv2.putText(img,'OpenCV',(0,200),font,3,(0,0,255),15, cv2.FONT_HERSHEY_SCRIPT_SIMPLEX, True)\n",
    "\n",
    "cv2.imshow(\"demo19.8\",img)\n",
    "\n",
    "cv2.waitKey(0)\n",
    "\n",
    "cv2.destroyAllWindows()"
   ]
  },
  {
   "cell_type": "markdown",
   "id": "e99facdd",
   "metadata": {},
   "source": [
    "## 9. 鼠标交互"
   ]
  },
  {
   "cell_type": "code",
   "execution_count": null,
   "id": "a3ff1867",
   "metadata": {},
   "outputs": [],
   "source": [
    "def Demo(evnet, x, y, flags, param):\n",
    "\tif evnet == cv2.EVENT_LBUTTONDOWN:\n",
    "\t\tprint(\"单击了鼠标左键\")\n",
    "\telif evnet == cv2.EVENT_RBUTTONDOWN:\n",
    "\t\tprint(\"单击了鼠标右键\")\n",
    "\telif flags == cv2.EVENT_FLAG_LBUTTON:\n",
    "\t\tprint(\"按住左键拖动了鼠标\")\n",
    "\telif evnet == cv2.EVENT_MBUTTONDOWN:\n",
    "\t\tprint(\"单击了中间键\")\n",
    "\n",
    "img = np.ones((300,300,3), np.uint8)* 255\n",
    "cv2.namedWindow('Demo19.9')\n",
    "cv2.setMouseCallback('Demo19.9', Demo)\n",
    "cv2.imshow('Demo19.9', img)\n",
    "cv2.waitKey()\n",
    "cv2.destroyAllWindows()"
   ]
  },
  {
   "cell_type": "markdown",
   "id": "04e88ae4",
   "metadata": {},
   "source": [
    "## 10. 滚动条"
   ]
  },
  {
   "cell_type": "code",
   "execution_count": 7,
   "id": "b9163446",
   "metadata": {},
   "outputs": [],
   "source": [
    "import cv2\n",
    "Type = 0\n",
    "Value = 0\n",
    "def onType(a):\n",
    "\tType = cv2.getTrackbarPos(tType, windowName)\n",
    "\tValue = cv2.getTrackbarPos(tValue, windowName)\n",
    "\tret, dst = cv2.threshold(o, Value, 255, Type)\n",
    "\tcv2.imshow(windowName, dst)\n",
    "\t\n",
    "def onValue(a):\n",
    "\tType = cv2.getTrackbarPos(tType, windowName)\n",
    "\tValue = cv2.getTrackbarPos(tValue, windowName)\n",
    "\tret, dst = cv2.threshold(o, Value, 255, Type)\n",
    "\tcv2.imshow(windowName, dst)\n",
    "\t\n",
    "o = cv2.imread(\"../images/lena.bmp\", 0)\n",
    "windowName = \"Demo19.13\"\n",
    "cv2.namedWindow(windowName)\n",
    "cv2.imshow(windowName, o)\n",
    "\n",
    "tType = \"Type\"\n",
    "tValue = \"Value\"\n",
    "cv2.createTrackbar(tType, windowName, 0, 4, onType)\n",
    "cv2.createTrackbar(tValue, windowName, 0, 255, onValue)\n",
    "if cv2.waitKey(0) == 27:\n",
    "\tcv2.destroyAllWindows()"
   ]
  },
  {
   "cell_type": "code",
   "execution_count": null,
   "id": "a9703ba1",
   "metadata": {},
   "outputs": [],
   "source": []
  }
 ],
 "metadata": {
  "kernelspec": {
   "display_name": "Python 3",
   "language": "python",
   "name": "python3"
  },
  "language_info": {
   "codemirror_mode": {
    "name": "ipython",
    "version": 3
   },
   "file_extension": ".py",
   "mimetype": "text/x-python",
   "name": "python",
   "nbconvert_exporter": "python",
   "pygments_lexer": "ipython3",
   "version": "3.7.16"
  }
 },
 "nbformat": 4,
 "nbformat_minor": 5
}
