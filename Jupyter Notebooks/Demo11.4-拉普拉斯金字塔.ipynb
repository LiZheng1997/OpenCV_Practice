{
 "cells": [
  {
   "cell_type": "markdown",
   "id": "214116f0",
   "metadata": {},
   "source": [
    "# 11.4 拉普拉斯金字塔"
   ]
  },
  {
   "cell_type": "code",
   "execution_count": 1,
   "id": "6cb928a8",
   "metadata": {},
   "outputs": [
    {
     "name": "stdout",
     "output_type": "stream",
     "text": [
      "L0.shape= (512, 512, 3)\n",
      "L1.shape= (256, 256, 3)\n",
      "L2.shape= (128, 128, 3)\n"
     ]
    }
   ],
   "source": [
    "import cv2\n",
    "O=cv2.imread(\"../images/lena.bmp\")\n",
    "G0=O\n",
    "G1=cv2.pyrDown(G0)\n",
    "G2=cv2.pyrDown(G1)\n",
    "G3=cv2.pyrDown(G2)\n",
    "L0=G0-cv2.pyrUp(G1)\n",
    "L1=G1-cv2.pyrUp(G2)\n",
    "L2=G2-cv2.pyrUp(G3)\n",
    "print(\"L0.shape=\",L0.shape)\n",
    "print(\"L1.shape=\",L1.shape)\n",
    "print(\"L2.shape=\",L2.shape)\n",
    "cv2.imshow(\"L0\",L0)\n",
    "cv2.imshow(\"L1\",L1)\n",
    "cv2.imshow(\"L2\",L2)\n",
    "cv2.waitKey()\n",
    "cv2.destroyAllWindows()"
   ]
  },
  {
   "cell_type": "code",
   "execution_count": null,
   "id": "7b80319e",
   "metadata": {},
   "outputs": [],
   "source": []
  }
 ],
 "metadata": {
  "kernelspec": {
   "display_name": "Python 3",
   "language": "python",
   "name": "python3"
  },
  "language_info": {
   "codemirror_mode": {
    "name": "ipython",
    "version": 3
   },
   "file_extension": ".py",
   "mimetype": "text/x-python",
   "name": "python",
   "nbconvert_exporter": "python",
   "pygments_lexer": "ipython3",
   "version": "3.7.16"
  }
 },
 "nbformat": 4,
 "nbformat_minor": 5
}
