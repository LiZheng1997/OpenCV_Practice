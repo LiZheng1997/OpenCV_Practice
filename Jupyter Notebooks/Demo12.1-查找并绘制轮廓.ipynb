{
 "cells": [
  {
   "cell_type": "markdown",
   "id": "caf4eee6",
   "metadata": {},
   "source": [
    "# 12.1 查找并绘制轮廓"
   ]
  },
  {
   "cell_type": "code",
   "execution_count": null,
   "id": "e982f7e6",
   "metadata": {},
   "outputs": [],
   "source": []
  }
 ],
 "metadata": {
  "kernelspec": {
   "display_name": "Python 3",
   "language": "python",
   "name": "python3"
  },
  "language_info": {
   "codemirror_mode": {
    "name": "ipython",
    "version": 3
   },
   "file_extension": ".py",
   "mimetype": "text/x-python",
   "name": "python",
   "nbconvert_exporter": "python",
   "pygments_lexer": "ipython3",
   "version": "3.7.16"
  }
 },
 "nbformat": 4,
 "nbformat_minor": 5
}
