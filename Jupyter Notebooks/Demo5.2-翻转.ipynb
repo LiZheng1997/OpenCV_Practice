{
 "cells": [
  {
   "cell_type": "markdown",
   "id": "84abc8d6",
   "metadata": {},
   "source": [
    "# 5.2 翻转\n"
   ]
  },
  {
   "cell_type": "code",
   "execution_count": 1,
   "id": "46db5d56",
   "metadata": {},
   "outputs": [],
   "source": [
    "import cv2\n",
    "\n",
    "img=cv2.imread(\"../images/lena.bmp\")\n",
    "\n",
    "x=cv2.flip(img,0)\n",
    "\n",
    "y=cv2.flip(img,1)\n",
    "\n",
    "xy=cv2.flip(img,-1)\n",
    "\n",
    "cv2.imshow(\"img\",img)\n",
    "\n",
    "cv2.imshow(\"x\",x)\n",
    "\n",
    "cv2.imshow(\"y\",y)\n",
    "\n",
    "cv2.imshow(\"xy\",xy)\n",
    "\n",
    "cv2.waitKey()\n",
    "\n",
    "cv2.destroyAllWindows()"
   ]
  },
  {
   "cell_type": "code",
   "execution_count": null,
   "id": "4368a82b",
   "metadata": {},
   "outputs": [],
   "source": []
  }
 ],
 "metadata": {
  "kernelspec": {
   "display_name": "Python 3",
   "language": "python",
   "name": "python3"
  },
  "language_info": {
   "codemirror_mode": {
    "name": "ipython",
    "version": 3
   },
   "file_extension": ".py",
   "mimetype": "text/x-python",
   "name": "python",
   "nbconvert_exporter": "python",
   "pygments_lexer": "ipython3",
   "version": "3.7.16"
  }
 },
 "nbformat": 4,
 "nbformat_minor": 5
}
