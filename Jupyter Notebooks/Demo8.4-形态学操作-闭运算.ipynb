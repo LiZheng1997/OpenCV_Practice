{
 "cells": [
  {
   "cell_type": "markdown",
   "id": "dee39c80",
   "metadata": {},
   "source": [
    "# 8.4 形态学操作-闭运算"
   ]
  },
  {
   "cell_type": "code",
   "execution_count": 3,
   "id": "edeabf13",
   "metadata": {},
   "outputs": [],
   "source": [
    "import cv2\n",
    "\n",
    "import numpy as np\n",
    "\n",
    "img1=cv2.imread(\"../images/closing.png\")\n",
    "\n",
    "img2=cv2.imread(\"../images/closing2.png\")\n",
    "\n",
    "k=np.ones((10,10),np.uint8)\n",
    "\n",
    "r1=cv2.morphologyEx(img1,cv2.MORPH_CLOSE,k,iterations=1)\n",
    "\n",
    "r2=cv2.morphologyEx(img2,cv2.MORPH_CLOSE,k,iterations=3)\n",
    "\n",
    "cv2.imshow(\"img1\",img1)\n",
    "\n",
    "cv2.imshow(\"result1\",r1)\n",
    "\n",
    "cv2.imshow(\"img2\",img2)\n",
    "\n",
    "cv2.imshow(\"result2\",r2)\n",
    "\n",
    "cv2.waitKey()\n",
    "\n",
    "cv2.destroyAllWindows()"
   ]
  },
  {
   "cell_type": "code",
   "execution_count": null,
   "id": "f269684d",
   "metadata": {},
   "outputs": [],
   "source": []
  }
 ],
 "metadata": {
  "kernelspec": {
   "display_name": "Python 3",
   "language": "python",
   "name": "python3"
  },
  "language_info": {
   "codemirror_mode": {
    "name": "ipython",
    "version": 3
   },
   "file_extension": ".py",
   "mimetype": "text/x-python",
   "name": "python",
   "nbconvert_exporter": "python",
   "pygments_lexer": "ipython3",
   "version": "3.7.16"
  }
 },
 "nbformat": 4,
 "nbformat_minor": 5
}
