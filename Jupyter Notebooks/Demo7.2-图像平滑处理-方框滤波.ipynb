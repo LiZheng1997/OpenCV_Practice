{
 "cells": [
  {
   "cell_type": "markdown",
   "id": "2d4cf424",
   "metadata": {},
   "source": [
    "# 7.2 图像平滑处理-方框滤波"
   ]
  },
  {
   "cell_type": "code",
   "execution_count": 7,
   "id": "948d0070",
   "metadata": {},
   "outputs": [],
   "source": [
    "import cv2\n",
    "\n",
    "o=cv2.imread(\"../images/lenacolor.png\")\n",
    "\n",
    "r=cv2.boxFilter(o,-1,(5,5))\n",
    "\n",
    "cv2.imshow(\"original\",o)\n",
    "\n",
    "cv2.imshow(\"result\",r)\n",
    "\n",
    "cv2.waitKey()\n",
    "\n",
    "cv2.destroyAllWindows()"
   ]
  },
  {
   "cell_type": "code",
   "execution_count": 8,
   "id": "06c94567",
   "metadata": {},
   "outputs": [],
   "source": [
    "o=cv2.imread(\"../images/lenacolor.png\")\n",
    "\n",
    "r=cv2.boxFilter(o,-1,(5,5),normalize=0)\n",
    "\n",
    "cv2.imshow(\"original\",o)\n",
    "\n",
    "cv2.imshow(\"result\",r)\n",
    "\n",
    "cv2.waitKey()\n",
    "\n",
    "cv2.destroyAllWindows()"
   ]
  },
  {
   "cell_type": "code",
   "execution_count": 10,
   "id": "872407b9",
   "metadata": {},
   "outputs": [],
   "source": [
    "o=cv2.imread(\"../images/lenacolor.png\")\n",
    "\n",
    "r=cv2.boxFilter(o,-1,(2,2),normalize=0)\n",
    "\n",
    "cv2.imshow(\"original\",o)\n",
    "\n",
    "cv2.imshow(\"result\",r)\n",
    "\n",
    "cv2.waitKey()\n",
    "\n",
    "cv2.destroyAllWindows()"
   ]
  },
  {
   "cell_type": "code",
   "execution_count": null,
   "id": "da6d8d8c",
   "metadata": {},
   "outputs": [],
   "source": []
  }
 ],
 "metadata": {
  "kernelspec": {
   "display_name": "Python 3",
   "language": "python",
   "name": "python3"
  },
  "language_info": {
   "codemirror_mode": {
    "name": "ipython",
    "version": 3
   },
   "file_extension": ".py",
   "mimetype": "text/x-python",
   "name": "python",
   "nbconvert_exporter": "python",
   "pygments_lexer": "ipython3",
   "version": "3.7.16"
  }
 },
 "nbformat": 4,
 "nbformat_minor": 5
}
