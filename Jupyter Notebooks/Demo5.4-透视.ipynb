{
 "cells": [
  {
   "cell_type": "markdown",
   "id": "14e09b3d",
   "metadata": {},
   "source": [
    "# 5.4 透视"
   ]
  },
  {
   "cell_type": "code",
   "execution_count": 3,
   "id": "e810e350",
   "metadata": {},
   "outputs": [
    {
     "name": "stdout",
     "output_type": "stream",
     "text": [
      "512 512\n"
     ]
    }
   ],
   "source": [
    "import cv2\n",
    "\n",
    "import numpy as np\n",
    "\n",
    "img=cv2.imread('../images/lena.bmp')\n",
    "\n",
    "rows,cols=img.shape[:2]\n",
    "\n",
    "print(rows,cols)\n",
    "\n",
    "pts1=np.float32([[150,50],[400,50],[60,450],[310,450]])\n",
    "\n",
    "pts2=np.float32([[50,50],[rows-50,50],[50,cols-50],[rows-50,cols-50]])\n",
    "\n",
    "M=cv2.getPerspectiveTransform(pts1,pts2)\n",
    "\n",
    "dst=cv2.warpPerspective(img,M,(cols,rows))\n",
    "\n",
    "cv2.imshow(\"img\",img)\n",
    "\n",
    "cv2.imshow(\"dst\",dst)\n",
    "\n",
    "cv2.waitKey()\n",
    "\n",
    "cv2.destroyAllWindows()"
   ]
  },
  {
   "cell_type": "code",
   "execution_count": null,
   "id": "5a429938",
   "metadata": {},
   "outputs": [],
   "source": []
  }
 ],
 "metadata": {
  "kernelspec": {
   "display_name": "Python 3",
   "language": "python",
   "name": "python3"
  },
  "language_info": {
   "codemirror_mode": {
    "name": "ipython",
    "version": 3
   },
   "file_extension": ".py",
   "mimetype": "text/x-python",
   "name": "python",
   "nbconvert_exporter": "python",
   "pygments_lexer": "ipython3",
   "version": "3.7.16"
  }
 },
 "nbformat": 4,
 "nbformat_minor": 5
}
