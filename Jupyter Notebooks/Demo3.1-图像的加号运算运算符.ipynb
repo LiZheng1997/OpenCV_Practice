{
 "cells": [
  {
   "cell_type": "markdown",
   "id": "38a0ee93",
   "metadata": {},
   "source": [
    "# 3.1 图像的加号运算运算符"
   ]
  },
  {
   "cell_type": "code",
   "execution_count": 1,
   "id": "b546f831",
   "metadata": {},
   "outputs": [
    {
     "name": "stdout",
     "output_type": "stream",
     "text": [
      "img1=\n",
      " [[114 205 115]\n",
      " [187 169  31]\n",
      " [206 214  95]]\n",
      "img2=\n",
      " [[176 125 215]\n",
      " [202 112 191]\n",
      " [ 75 193 185]]\n",
      "img1+img2=\n",
      " [[ 34  74  74]\n",
      " [133  25 222]\n",
      " [ 25 151  24]]\n"
     ]
    }
   ],
   "source": [
    "import numpy as np\n",
    "\n",
    "img1 = np.random.randint(0, 256, size=[3,3], dtype=np.uint8)\n",
    "img2 = np.random.randint(0, 256, size=[3,3], dtype=np.uint8)\n",
    "\n",
    "print(\"img1=\\n\", img1)\n",
    "print(\"img2=\\n\", img2)\n",
    "print(\"img1+img2=\\n\", img1+img2)"
   ]
  },
  {
   "cell_type": "markdown",
   "id": "4af64421",
   "metadata": {},
   "source": [
    "常规的加法运算，会对像素值相加大于256的取模，小于的则用相加的结果作为像素值。"
   ]
  }
 ],
 "metadata": {
  "kernelspec": {
   "display_name": "Python 3",
   "language": "python",
   "name": "python3"
  },
  "language_info": {
   "codemirror_mode": {
    "name": "ipython",
    "version": 3
   },
   "file_extension": ".py",
   "mimetype": "text/x-python",
   "name": "python",
   "nbconvert_exporter": "python",
   "pygments_lexer": "ipython3",
   "version": "3.7.16"
  }
 },
 "nbformat": 4,
 "nbformat_minor": 5
}
