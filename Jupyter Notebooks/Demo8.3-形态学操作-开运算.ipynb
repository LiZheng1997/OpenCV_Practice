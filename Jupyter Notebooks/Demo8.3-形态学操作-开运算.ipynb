{
 "cells": [
  {
   "cell_type": "markdown",
   "id": "499c9d56",
   "metadata": {},
   "source": [
    "# 8.3 形态学操作-开运算"
   ]
  },
  {
   "cell_type": "code",
   "execution_count": 2,
   "id": "cf5ca663",
   "metadata": {},
   "outputs": [],
   "source": [
    "import cv2\n",
    "\n",
    "import numpy as np\n",
    "\n",
    "img1=cv2.imread(\"../images/erode.png\")\n",
    "\n",
    "img2=cv2.imread(\"../images/opening.png\")\n",
    "\n",
    "k=np.ones((10,10),np.uint8)\n",
    "\n",
    "r1=cv2.morphologyEx(img1,cv2.MORPH_OPEN,k)\n",
    "\n",
    "r2=cv2.morphologyEx(img2,cv2.MORPH_OPEN,k)\n",
    "\n",
    "cv2.imshow(\"img1\",img1)\n",
    "\n",
    "cv2.imshow(\"result1\",r1)\n",
    "\n",
    "cv2.imshow(\"img2\",img2)\n",
    "\n",
    "cv2.imshow(\"result2\",r2)\n",
    "\n",
    "cv2.waitKey()\n",
    "\n",
    "cv2.destroyAllWindows()"
   ]
  },
  {
   "cell_type": "code",
   "execution_count": null,
   "id": "b30ce49a",
   "metadata": {},
   "outputs": [],
   "source": []
  }
 ],
 "metadata": {
  "kernelspec": {
   "display_name": "Python 3",
   "language": "python",
   "name": "python3"
  },
  "language_info": {
   "codemirror_mode": {
    "name": "ipython",
    "version": 3
   },
   "file_extension": ".py",
   "mimetype": "text/x-python",
   "name": "python",
   "nbconvert_exporter": "python",
   "pygments_lexer": "ipython3",
   "version": "3.7.16"
  }
 },
 "nbformat": 4,
 "nbformat_minor": 5
}
