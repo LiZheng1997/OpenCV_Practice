{
 "cells": [
  {
   "cell_type": "markdown",
   "id": "09a48aab",
   "metadata": {},
   "source": [
    "# 3.3 对比两种加法运算"
   ]
  },
  {
   "cell_type": "code",
   "execution_count": 1,
   "id": "0ddc0ff8",
   "metadata": {},
   "outputs": [],
   "source": [
    "import cv2\n",
    "\n",
    "a=cv2.imread(\"../images/lena.bmp\",0)\n",
    "b=a\n",
    "result1 = a+b\n",
    "result2 = cv2.add(a,b)\n",
    "cv2.imshow(\"original\", a )\n",
    "cv2.imshow(\"result1\", result1 )\n",
    "cv2.imshow(\"result2\", result2 )\n",
    "\n",
    "cv2.waitKey()\n",
    "cv2.destroyAllWindows()"
   ]
  },
  {
   "cell_type": "markdown",
   "id": "f0755039",
   "metadata": {},
   "source": [
    "通过对图像分别使用\"+\"运算和add()运算，看不同的效果。可以看到，“+”运算得出的图像不自然，“add”运算得出的图像整体变亮了。"
   ]
  },
  {
   "cell_type": "code",
   "execution_count": null,
   "id": "fc5d8d80",
   "metadata": {},
   "outputs": [],
   "source": []
  }
 ],
 "metadata": {
  "kernelspec": {
   "display_name": "Python 3",
   "language": "python",
   "name": "python3"
  },
  "language_info": {
   "codemirror_mode": {
    "name": "ipython",
    "version": 3
   },
   "file_extension": ".py",
   "mimetype": "text/x-python",
   "name": "python",
   "nbconvert_exporter": "python",
   "pygments_lexer": "ipython3",
   "version": "3.7.16"
  }
 },
 "nbformat": 4,
 "nbformat_minor": 5
}
