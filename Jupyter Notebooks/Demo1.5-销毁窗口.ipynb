{
 "cells": [
  {
   "cell_type": "markdown",
   "id": "dd7d8e99",
   "metadata": {},
   "source": [
    "# 1.5 销毁窗口"
   ]
  },
  {
   "cell_type": "code",
   "execution_count": 1,
   "id": "a18aecdd",
   "metadata": {},
   "outputs": [
    {
     "data": {
      "text/plain": [
       "97"
      ]
     },
     "execution_count": 1,
     "metadata": {},
     "output_type": "execute_result"
    }
   ],
   "source": [
    "import cv2\n",
    "lena =  cv2.imread(\"../images/lena.bmp\")\n",
    "cv2.imshow(\"demo\", lena)\n",
    "cv2.waitKey()\n"
   ]
  },
  {
   "cell_type": "markdown",
   "id": "8ad36336",
   "metadata": {},
   "source": [
    "使用destroyWindow函数释放窗口，当未按下键盘上的按键时，程序没有新的状态出现；\n",
    "当按下键盘上的任意一个按键后，窗口demo会被释放。"
   ]
  },
  {
   "cell_type": "markdown",
   "id": "b2dd341f",
   "metadata": {},
   "source": [
    "函数语法格式：None=cv2.destroyWindow（winname），winname是窗口名称"
   ]
  },
  {
   "cell_type": "code",
   "execution_count": 2,
   "id": "e786701c",
   "metadata": {},
   "outputs": [
    {
     "name": "stdout",
     "output_type": "stream",
     "text": [
      "已经销毁了demo窗口\n"
     ]
    }
   ],
   "source": [
    "cv2.destroyWindow(\"demo\")\n",
    "print(\"你已经销毁了demo窗口\")"
   ]
  }
 ],
 "metadata": {
  "kernelspec": {
   "display_name": "Python 3",
   "language": "python",
   "name": "python3"
  },
  "language_info": {
   "codemirror_mode": {
    "name": "ipython",
    "version": 3
   },
   "file_extension": ".py",
   "mimetype": "text/x-python",
   "name": "python",
   "nbconvert_exporter": "python",
   "pygments_lexer": "ipython3",
   "version": "3.7.16"
  }
 },
 "nbformat": 4,
 "nbformat_minor": 5
}
