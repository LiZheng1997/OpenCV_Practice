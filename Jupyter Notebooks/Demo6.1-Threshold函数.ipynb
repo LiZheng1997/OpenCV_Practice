{
 "cells": [
  {
   "cell_type": "markdown",
   "id": "14228b89",
   "metadata": {},
   "source": [
    "# 6.1 Threshold函数"
   ]
  },
  {
   "cell_type": "code",
   "execution_count": 1,
   "id": "e00ce5e3",
   "metadata": {},
   "outputs": [
    {
     "name": "stdout",
     "output_type": "stream",
     "text": [
      "img=\n",
      " [[160   0   8 252 227]\n",
      " [164  75 133 231 190]\n",
      " [ 71 123  62  25 239]\n",
      " [124  75 144 191 247]]\n",
      "t= 127.0\n",
      "rst=\n",
      " [[255   0   0 255 255]\n",
      " [255   0 255 255 255]\n",
      " [  0   0   0   0 255]\n",
      " [  0   0 255 255 255]]\n"
     ]
    }
   ],
   "source": [
    "import cv2\n",
    "\n",
    "import numpy as np\n",
    "\n",
    "img=np.random.randint(0,256,size=[4,5],dtype=np.uint8)\n",
    "\n",
    "t,rst=cv2.threshold(img,127,255,cv2.THRESH_BINARY)\n",
    "\n",
    "print(\"img=\\n\",img)\n",
    "\n",
    "print(\"t=\",t)\n",
    "\n",
    "print(\"rst=\\n\",rst)"
   ]
  },
  {
   "cell_type": "code",
   "execution_count": 3,
   "id": "551d70f1",
   "metadata": {},
   "outputs": [],
   "source": [
    "img=cv2.imread(\"../images/lena.bmp\")\n",
    "\n",
    "t,rst=cv2.threshold(img,127,255,cv2.THRESH_BINARY)\n",
    "\n",
    "cv2.imshow(\"img\",img)\n",
    "\n",
    "cv2.imshow(\"rst\",rst)\n",
    "\n",
    "cv2.waitKey()\n",
    "\n",
    "cv2.destroyAllWindows()"
   ]
  },
  {
   "cell_type": "code",
   "execution_count": 4,
   "id": "f752c40a",
   "metadata": {},
   "outputs": [
    {
     "name": "stdout",
     "output_type": "stream",
     "text": [
      "img=\n",
      " [[134  19  70  26 107]\n",
      " [ 83 250 231  11 228]\n",
      " [124  29 100 121  16]\n",
      " [203  31 140 100 204]]\n",
      "t= 127.0\n",
      "rst=\n",
      " [[  0 255 255 255 255]\n",
      " [255   0   0 255   0]\n",
      " [255 255 255 255 255]\n",
      " [  0 255   0 255   0]]\n"
     ]
    }
   ],
   "source": [
    "\n",
    "img=np.random.randint(0,256,size=[4,5],dtype=np.uint8)\n",
    "\n",
    "t,rst=cv2.threshold(img,127,255,cv2.THRESH_BINARY_INV)\n",
    "\n",
    "print(\"img=\\n\",img)\n",
    "\n",
    "print(\"t=\",t)\n",
    "\n",
    "print(\"rst=\\n\",rst)"
   ]
  },
  {
   "cell_type": "code",
   "execution_count": 6,
   "id": "466f944d",
   "metadata": {},
   "outputs": [],
   "source": [
    "img=cv2.imread(\"../images/lena.bmp\")\n",
    "t,rst=cv2.threshold(img,127,255,cv2.THRESH_BINARY_INV)\n",
    "\n",
    "cv2.imshow(\"img\",img)\n",
    "\n",
    "cv2.imshow(\"rst\",rst)\n",
    "\n",
    "cv2.waitKey()\n",
    "\n",
    "cv2.destroyAllWindows()"
   ]
  },
  {
   "cell_type": "code",
   "execution_count": 7,
   "id": "df240a68",
   "metadata": {},
   "outputs": [
    {
     "name": "stdout",
     "output_type": "stream",
     "text": [
      "img=\n",
      " [[161 198  66  78 131]\n",
      " [ 68  33  87  80 151]\n",
      " [101 205  67 168 138]\n",
      " [ 98 142  48 130  47]]\n",
      "t= 127.0\n",
      "rst=\n",
      " [[127 127  66  78 127]\n",
      " [ 68  33  87  80 127]\n",
      " [101 127  67 127 127]\n",
      " [ 98 127  48 127  47]]\n"
     ]
    }
   ],
   "source": [
    "img=np.random.randint(0,256,size=[4,5],dtype=np.uint8)\n",
    "\n",
    "t,rst=cv2.threshold(img,127,255,cv2.THRESH_TRUNC)\n",
    "\n",
    "print(\"img=\\n\",img)\n",
    "\n",
    "print(\"t=\",t)\n",
    "\n",
    "print(\"rst=\\n\",rst)"
   ]
  },
  {
   "cell_type": "code",
   "execution_count": 11,
   "id": "1defd0f9",
   "metadata": {},
   "outputs": [],
   "source": [
    "img=cv2.imread(\"../images/lena.bmp\")\n",
    "\n",
    "t,rst=cv2.threshold(img,127,255,cv2.THRESH_TRUNC)\n",
    "\n",
    "cv2.imshow(\"img\",img)\n",
    "\n",
    "cv2.imshow(\"rst\",rst)\n",
    "\n",
    "cv2.waitKey()\n",
    "\n",
    "cv2.destroyAllWindows()"
   ]
  },
  {
   "cell_type": "code",
   "execution_count": 10,
   "id": "e912c52a",
   "metadata": {},
   "outputs": [
    {
     "name": "stdout",
     "output_type": "stream",
     "text": [
      "img=\n",
      " [[223   3 173 130 216]\n",
      " [242  80 230 183 227]\n",
      " [210  15 176  27 226]\n",
      " [ 27 193  48 231 103]]\n",
      "t= 127.0\n",
      "rst=\n",
      " [[  0   3   0   0   0]\n",
      " [  0  80   0   0   0]\n",
      " [  0  15   0  27   0]\n",
      " [ 27   0  48   0 103]]\n"
     ]
    }
   ],
   "source": [
    "img=np.random.randint(0,256,size=[4,5],dtype=np.uint8)\n",
    "\n",
    "t,rst=cv2.threshold(img,127,255,cv2.THRESH_TOZERO_INV)\n",
    "\n",
    "print(\"img=\\n\",img)\n",
    "\n",
    "print(\"t=\",t)\n",
    "\n",
    "print(\"rst=\\n\",rst)\n"
   ]
  },
  {
   "cell_type": "code",
   "execution_count": 13,
   "id": "702f0155",
   "metadata": {},
   "outputs": [],
   "source": [
    "img=cv2.imread(\"../images/lena.bmp\")\n",
    "\n",
    "t,rst=cv2.threshold(img,127,255,cv2.THRESH_TOZERO_INV)\n",
    "\n",
    "cv2.imshow(\"img\",img)\n",
    "\n",
    "cv2.imshow(\"rst\",rst)\n",
    "\n",
    "cv2.waitKey()\n",
    "\n",
    "cv2.destroyAllWindows()"
   ]
  },
  {
   "cell_type": "code",
   "execution_count": 15,
   "id": "eb14e295",
   "metadata": {},
   "outputs": [
    {
     "name": "stdout",
     "output_type": "stream",
     "text": [
      "img=\n",
      " [[220 219   4 189  88]\n",
      " [222  95 187 145 140]\n",
      " [ 44  55  12 121 133]\n",
      " [236 122   7 213   5]]\n",
      "t= 127.0\n",
      "rst=\n",
      " [[220 219   0 189   0]\n",
      " [222   0 187 145 140]\n",
      " [  0   0   0   0 133]\n",
      " [236   0   0 213   0]]\n"
     ]
    }
   ],
   "source": [
    "img=np.random.randint(0,256,size=[4,5],dtype=np.uint8)\n",
    "\n",
    "t,rst=cv2.threshold(img,127,255,cv2.THRESH_TOZERO)\n",
    "\n",
    "print(\"img=\\n\",img)\n",
    "\n",
    "print(\"t=\",t)\n",
    "\n",
    "print(\"rst=\\n\",rst)"
   ]
  },
  {
   "cell_type": "code",
   "execution_count": 14,
   "id": "2cb654e3",
   "metadata": {},
   "outputs": [],
   "source": [
    "img=cv2.imread(\"../images/lena.bmp\")\n",
    "\n",
    "t,rst=cv2.threshold(img,127,255,cv2.THRESH_TOZERO)\n",
    "\n",
    "cv2.imshow(\"img\",img)\n",
    "\n",
    "cv2.imshow(\"rst\",rst)\n",
    "\n",
    "cv2.waitKey()\n",
    "\n",
    "cv2.destroyAllWindows()"
   ]
  },
  {
   "cell_type": "code",
   "execution_count": null,
   "id": "4fe6e1c0",
   "metadata": {},
   "outputs": [],
   "source": []
  }
 ],
 "metadata": {
  "kernelspec": {
   "display_name": "Python 3",
   "language": "python",
   "name": "python3"
  },
  "language_info": {
   "codemirror_mode": {
    "name": "ipython",
    "version": 3
   },
   "file_extension": ".py",
   "mimetype": "text/x-python",
   "name": "python",
   "nbconvert_exporter": "python",
   "pygments_lexer": "ipython3",
   "version": "3.7.16"
  }
 },
 "nbformat": 4,
 "nbformat_minor": 5
}
